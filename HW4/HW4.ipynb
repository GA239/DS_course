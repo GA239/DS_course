{
 "cells": [
  {
   "cell_type": "code",
   "execution_count": 1,
   "metadata": {
    "collapsed": true
   },
   "outputs": [],
   "source": [
    "import pandas as pd\n",
    "import numpy as np\n",
    "import os\n",
    "\n",
    "from sklearn.preprocessing import FunctionTransformer\n",
    "from sklearn.pipeline import Pipeline\n",
    "from sklearn.model_selection import ShuffleSplit, GridSearchCV\n",
    "import pyspark\n"
   ]
  },
  {
   "cell_type": "code",
   "execution_count": 2,
   "metadata": {
    "collapsed": true
   },
   "outputs": [],
   "source": [
    "TARGET_COLUMN = 'category'\n",
    "TEXT_COLUMN = 'review'\n",
    "\n",
    "def read_set(set_name='train', category='pos'):\n",
    "    review_path = os.path.join('data', set_name, category)\n",
    "\n",
    "    def read_review(file_name):\n",
    "        review_id, review_rating = file_name.split('.')[0].split('_')\n",
    "        file_path = os.path.join(review_path, file_name)\n",
    "        with open(file_path) as f:\n",
    "            review = f.read()\n",
    "        return {\n",
    "            TARGET_COLUMN: category,\n",
    "            'review_id': int(review_id),\n",
    "            'review_rating': int(review_rating),\n",
    "            TEXT_COLUMN: review}\n",
    "\n",
    "    return pd.DataFrame([read_review(file_name) for file_name in os.listdir(review_path)])"
   ]
  },
  {
   "cell_type": "code",
   "execution_count": 3,
   "metadata": {
    "collapsed": true
   },
   "outputs": [],
   "source": [
    "from sklearn.utils import shuffle\n",
    "from sklearn.preprocessing import LabelEncoder\n",
    "\n",
    "def get_data():\n",
    "    positiv_train = read_set(set_name='train', category='pos')\n",
    "    positiv_test = read_set(set_name='test', category='pos')\n",
    "\n",
    "    negative_train = read_set(set_name='train', category='neg')\n",
    "    negative_test = read_set(set_name='test', category='neg')\n",
    "\n",
    "    train = shuffle(pd.concat([positiv_train, negative_train], ignore_index=True))\n",
    "    test = shuffle(pd.concat([positiv_test, negative_test], ignore_index=True))\n",
    "    train[TARGET_COLUMN] = LabelEncoder().fit_transform(train[TARGET_COLUMN])\n",
    "    test[TARGET_COLUMN] = LabelEncoder().fit_transform(test[TARGET_COLUMN])\n",
    "    return train, test  "
   ]
  },
  {
   "cell_type": "code",
   "execution_count": 4,
   "metadata": {
    "collapsed": true
   },
   "outputs": [],
   "source": [
    "train, test = get_data()"
   ]
  },
  {
   "cell_type": "code",
   "execution_count": 5,
   "metadata": {},
   "outputs": [
    {
     "data": {
      "text/plain": [
       "((25000, 4), (25000, 4))"
      ]
     },
     "execution_count": 5,
     "metadata": {},
     "output_type": "execute_result"
    }
   ],
   "source": [
    "train.shape, test.shape"
   ]
  },
  {
   "cell_type": "code",
   "execution_count": 6,
   "metadata": {},
   "outputs": [
    {
     "data": {
      "text/html": [
       "<div>\n",
       "<style scoped>\n",
       "    .dataframe tbody tr th:only-of-type {\n",
       "        vertical-align: middle;\n",
       "    }\n",
       "\n",
       "    .dataframe tbody tr th {\n",
       "        vertical-align: top;\n",
       "    }\n",
       "\n",
       "    .dataframe thead th {\n",
       "        text-align: right;\n",
       "    }\n",
       "</style>\n",
       "<table border=\"1\" class=\"dataframe\">\n",
       "  <thead>\n",
       "    <tr style=\"text-align: right;\">\n",
       "      <th></th>\n",
       "      <th>category</th>\n",
       "      <th>review</th>\n",
       "      <th>review_id</th>\n",
       "      <th>review_rating</th>\n",
       "    </tr>\n",
       "  </thead>\n",
       "  <tbody>\n",
       "    <tr>\n",
       "      <th>14413</th>\n",
       "      <td>0</td>\n",
       "      <td>This movie fails miserably on every level. I h...</td>\n",
       "      <td>8649</td>\n",
       "      <td>1</td>\n",
       "    </tr>\n",
       "    <tr>\n",
       "      <th>14943</th>\n",
       "      <td>0</td>\n",
       "      <td>You know those films that have you trapped in ...</td>\n",
       "      <td>11953</td>\n",
       "      <td>1</td>\n",
       "    </tr>\n",
       "    <tr>\n",
       "      <th>21132</th>\n",
       "      <td>0</td>\n",
       "      <td>THE SEVENTH SIGN has a great opening hook as t...</td>\n",
       "      <td>7943</td>\n",
       "      <td>4</td>\n",
       "    </tr>\n",
       "    <tr>\n",
       "      <th>3177</th>\n",
       "      <td>1</td>\n",
       "      <td>When I started to watch this movie on VH-1 I c...</td>\n",
       "      <td>7501</td>\n",
       "      <td>8</td>\n",
       "    </tr>\n",
       "    <tr>\n",
       "      <th>16627</th>\n",
       "      <td>0</td>\n",
       "      <td>I had some time to kill before watching footba...</td>\n",
       "      <td>3129</td>\n",
       "      <td>1</td>\n",
       "    </tr>\n",
       "  </tbody>\n",
       "</table>\n",
       "</div>"
      ],
      "text/plain": [
       "       category                                             review  review_id  \\\n",
       "14413         0  This movie fails miserably on every level. I h...       8649   \n",
       "14943         0  You know those films that have you trapped in ...      11953   \n",
       "21132         0  THE SEVENTH SIGN has a great opening hook as t...       7943   \n",
       "3177          1  When I started to watch this movie on VH-1 I c...       7501   \n",
       "16627         0  I had some time to kill before watching footba...       3129   \n",
       "\n",
       "       review_rating  \n",
       "14413              1  \n",
       "14943              1  \n",
       "21132              4  \n",
       "3177               8  \n",
       "16627              1  "
      ]
     },
     "execution_count": 6,
     "metadata": {},
     "output_type": "execute_result"
    }
   ],
   "source": [
    "train.head()"
   ]
  },
  {
   "cell_type": "code",
   "execution_count": 7,
   "metadata": {
    "collapsed": true
   },
   "outputs": [],
   "source": [
    "train.to_parquet('train.parquet', compression='UNCOMPRESSED')"
   ]
  },
  {
   "cell_type": "code",
   "execution_count": 8,
   "metadata": {
    "collapsed": true
   },
   "outputs": [],
   "source": [
    "test.to_parquet('test.parquet', compression='UNCOMPRESSED')"
   ]
  },
  {
   "cell_type": "code",
   "execution_count": null,
   "metadata": {
    "collapsed": true
   },
   "outputs": [],
   "source": []
  },
  {
   "cell_type": "code",
   "execution_count": null,
   "metadata": {
    "collapsed": true
   },
   "outputs": [],
   "source": []
  },
  {
   "cell_type": "code",
   "execution_count": null,
   "metadata": {
    "collapsed": true
   },
   "outputs": [],
   "source": []
  },
  {
   "cell_type": "code",
   "execution_count": null,
   "metadata": {
    "collapsed": true
   },
   "outputs": [],
   "source": []
  },
  {
   "cell_type": "code",
   "execution_count": null,
   "metadata": {
    "collapsed": true
   },
   "outputs": [],
   "source": []
  },
  {
   "cell_type": "code",
   "execution_count": null,
   "metadata": {
    "collapsed": true
   },
   "outputs": [],
   "source": []
  },
  {
   "cell_type": "code",
   "execution_count": null,
   "metadata": {
    "collapsed": true
   },
   "outputs": [],
   "source": []
  },
  {
   "cell_type": "code",
   "execution_count": null,
   "metadata": {
    "collapsed": true
   },
   "outputs": [],
   "source": []
  },
  {
   "cell_type": "code",
   "execution_count": null,
   "metadata": {
    "collapsed": true
   },
   "outputs": [],
   "source": []
  },
  {
   "cell_type": "code",
   "execution_count": null,
   "metadata": {
    "collapsed": true
   },
   "outputs": [],
   "source": []
  },
  {
   "cell_type": "code",
   "execution_count": null,
   "metadata": {
    "collapsed": true
   },
   "outputs": [],
   "source": []
  },
  {
   "cell_type": "code",
   "execution_count": null,
   "metadata": {
    "collapsed": true
   },
   "outputs": [],
   "source": []
  },
  {
   "cell_type": "code",
   "execution_count": null,
   "metadata": {
    "collapsed": true
   },
   "outputs": [],
   "source": []
  },
  {
   "cell_type": "code",
   "execution_count": null,
   "metadata": {
    "collapsed": true
   },
   "outputs": [],
   "source": []
  },
  {
   "cell_type": "code",
   "execution_count": null,
   "metadata": {
    "collapsed": true
   },
   "outputs": [],
   "source": []
  },
  {
   "cell_type": "code",
   "execution_count": null,
   "metadata": {
    "collapsed": true
   },
   "outputs": [],
   "source": []
  },
  {
   "cell_type": "code",
   "execution_count": null,
   "metadata": {
    "collapsed": true
   },
   "outputs": [],
   "source": []
  },
  {
   "cell_type": "code",
   "execution_count": null,
   "metadata": {
    "collapsed": true
   },
   "outputs": [],
   "source": []
  },
  {
   "cell_type": "markdown",
   "metadata": {},
   "source": [
    "# Text preprocessing"
   ]
  },
  {
   "cell_type": "code",
   "execution_count": null,
   "metadata": {
    "collapsed": true
   },
   "outputs": [],
   "source": []
  },
  {
   "cell_type": "markdown",
   "metadata": {},
   "source": [
    "## Drop duplicates"
   ]
  },
  {
   "cell_type": "code",
   "execution_count": 9,
   "metadata": {
    "collapsed": true
   },
   "outputs": [],
   "source": [
    "def drop_duplicate_values(x):\n",
    "    return x.drop_duplicates()"
   ]
  },
  {
   "cell_type": "code",
   "execution_count": 10,
   "metadata": {
    "collapsed": true
   },
   "outputs": [],
   "source": [
    "train = FunctionTransformer(drop_duplicate_values, validate=False).transform(train)\n",
    "test = FunctionTransformer(drop_duplicate_values, validate=False).transform(test)"
   ]
  },
  {
   "cell_type": "code",
   "execution_count": 11,
   "metadata": {},
   "outputs": [
    {
     "data": {
      "text/plain": [
       "((25000, 4), (25000, 4))"
      ]
     },
     "execution_count": 11,
     "metadata": {},
     "output_type": "execute_result"
    }
   ],
   "source": [
    "train.shape, test.shape"
   ]
  },
  {
   "cell_type": "markdown",
   "metadata": {},
   "source": [
    "## Text Based Features"
   ]
  },
  {
   "cell_type": "code",
   "execution_count": 12,
   "metadata": {
    "collapsed": true
   },
   "outputs": [],
   "source": [
    "from textblob import TextBlob\n",
    "\n",
    "USE_TEXT_BLOB = True\n",
    "\n",
    "def get_text_blob(text):\n",
    "    text_blob = TextBlob(str(text))\n",
    "    return {\n",
    "        'polarity': text_blob.polarity,\n",
    "        'subjectivity': text_blob.subjectivity,\n",
    "    }"
   ]
  },
  {
   "cell_type": "markdown",
   "metadata": {},
   "source": [
    "Sentiment analysis is basically the process of determining the attitude or the emotion of the writer, i.e., whether it is positive or negative or neutral.\n",
    "\n",
    "> The sentiment function of textblob returns two properties, **polarity**, and **subjectivity**.\n",
    "\n",
    "Polarity is float which lies in the range of [-1,1] where 1 means positive statement and -1 means a negative statement. Subjective sentences generally refer to personal opinion, emotion or judgment whereas objective refers to factual information. Subjectivity is also a float which lies in the range of [0,1].\n",
    "\n",
    "##### But where do these numbers come from?\n",
    "\n",
    "[PatternAnalyzer Class](https://github.com/sloria/TextBlob/blob/0ffa8e07564982a514047de593ba3d8307d2ae85/textblob/en/sentiments.py#L17) provides the results from [here](https://github.com/sloria/TextBlob/blob/0ffa8e07564982a514047de593ba3d8307d2ae85/textblob/_text.py#L854)\n",
    "\n",
    "The answer is in the [source code](https://github.com/sloria/TextBlob/blob/e883b03a61537b007e65cc3f12d716f7bfb10ef6/textblob/_text.py#L661)\n",
    "\n",
    "The lexicon it refers to is in en-sentiment.xml, an [XML document](https://github.com/sloria/TextBlob/blob/e883b03a61537b007e65cc3f12d716f7bfb10ef6/textblob/en/en-sentiment.xml)\n",
    "\n",
    "When calculating sentiment for a single word “averaging” technique is used.\n",
    "\n",
    "```\n",
    "TextBlob(\"great\").sentiment\n",
    "## Sentiment(polarity=0.8, subjectivity=0.75)\n",
    "```\n",
    "TextBlob doesn't not handle negation, and that ain't nothing!\n",
    "```\n",
    "TextBlob(\"not great\").sentiment\n",
    "## Sentiment(polarity=-0.4, subjectivity=0.75)\n",
    "```\n",
    "Negation multiplies the polarity by -0.5, and doesn't affect subjectivity.\n",
    "\n",
    "TextBlob also handles modifier words! Here's the summarized record for “very” from the lexicon:\n",
    "```\n",
    "word   polarity  subjectivity  intensity\n",
    "very        0.2           0.3        1.3\n",
    "```\n",
    "Recognizing “very” as a modifier word, TextBlob will ignore polarity and subjectivity and just use intensity to modify the following word:\n",
    "```\n",
    "TextBlob(\"very great\").sentiment\n",
    "## Sentiment(polarity=1.0, subjectivity=0.9750000000000001)\n",
    "```\n",
    "The polarity gets maxed out at 1.0, but you can see that subjectivity is also modified by “very” to become \n",
    "0.75 ⋅ 1.3 = 0.975\n",
    "\n",
    "Negation combines with modifiers in an interesting way: in addition to multiplying by -0.5 for the polarity, the inverse intensity of the modifier enters for both polarity and subjectivity.\n",
    "```\n",
    "TextBlob(\"not very great\").sentiment\n",
    "## Sentiment(polarity=-0.3076923076923077, subjectivity=0.5769230769230769)\n",
    "```\n",
    "___\n",
    "TextBlob will ignore one-letter words in its sentiment phrases, which means things like this will work just the same way:\n",
    "```\n",
    "TextBlob(\"not a very great\").sentiment\n",
    "## Sentiment(polarity=-0.3076923076923077, subjectivity=0.5769230769230769)\n",
    "```\n",
    "And TextBlob will ignore words it doesn't know anything about:\n",
    "```python\n",
    "TextBlob(\"not a very great calculation\").sentiment\n",
    "## Sentiment(polarity=-0.3076923076923077, subjectivity=0.5769230769230769)\n",
    "```\n",
    "\n",
    "___\n",
    "TextBlob goes along finding words and phrases it can assign polarity and subjectivity to, and it averages them all together for longer text."
   ]
  },
  {
   "cell_type": "code",
   "execution_count": 13,
   "metadata": {
    "collapsed": true
   },
   "outputs": [],
   "source": [
    "# FEATURE_COLUMNS = ['review_rating', 'word_count', 'length', 'word_density']\n",
    "FEATURE_COLUMNS = ['word_count', 'length', 'word_density']"
   ]
  },
  {
   "cell_type": "markdown",
   "metadata": {},
   "source": [
    "> ```review_rating``` - the best performing feature. Every classification metric is 1.0 when ```review_rating``` is included. I have removed it for sporting sense."
   ]
  },
  {
   "cell_type": "code",
   "execution_count": 14,
   "metadata": {
    "collapsed": true
   },
   "outputs": [],
   "source": [
    "def text_feature_selector(x):\n",
    "    x['word_count'] = x[TEXT_COLUMN].apply(lambda text : len(str(text).split()))\n",
    "    x['length'] = x[TEXT_COLUMN].apply(len)\n",
    "    x['word_density'] = x['length'] / x['word_count']\n",
    "    if USE_TEXT_BLOB:\n",
    "        global FEATURE_COLUMNS\n",
    "        FEATURE_COLUMNS += ['polarity', 'subjectivity']\n",
    "        x['text_blob'] = x[TEXT_COLUMN].apply(get_text_blob)\n",
    "        return pd.concat([x.drop('text_blob', axis=1), x['text_blob'].apply(pd.Series)], axis=1)\n",
    "    return x"
   ]
  },
  {
   "cell_type": "code",
   "execution_count": 15,
   "metadata": {
    "collapsed": true
   },
   "outputs": [],
   "source": [
    "train = FunctionTransformer(text_feature_selector, validate=False).transform(train)\n",
    "test = FunctionTransformer(text_feature_selector, validate=False).transform(test)"
   ]
  },
  {
   "cell_type": "code",
   "execution_count": 16,
   "metadata": {},
   "outputs": [
    {
     "data": {
      "text/html": [
       "<div>\n",
       "<style scoped>\n",
       "    .dataframe tbody tr th:only-of-type {\n",
       "        vertical-align: middle;\n",
       "    }\n",
       "\n",
       "    .dataframe tbody tr th {\n",
       "        vertical-align: top;\n",
       "    }\n",
       "\n",
       "    .dataframe thead th {\n",
       "        text-align: right;\n",
       "    }\n",
       "</style>\n",
       "<table border=\"1\" class=\"dataframe\">\n",
       "  <thead>\n",
       "    <tr style=\"text-align: right;\">\n",
       "      <th></th>\n",
       "      <th>category</th>\n",
       "      <th>review</th>\n",
       "      <th>review_id</th>\n",
       "      <th>review_rating</th>\n",
       "      <th>word_count</th>\n",
       "      <th>length</th>\n",
       "      <th>word_density</th>\n",
       "      <th>polarity</th>\n",
       "      <th>subjectivity</th>\n",
       "    </tr>\n",
       "  </thead>\n",
       "  <tbody>\n",
       "    <tr>\n",
       "      <th>14413</th>\n",
       "      <td>0</td>\n",
       "      <td>This movie fails miserably on every level. I h...</td>\n",
       "      <td>8649</td>\n",
       "      <td>1</td>\n",
       "      <td>134</td>\n",
       "      <td>671</td>\n",
       "      <td>5.007463</td>\n",
       "      <td>-0.247619</td>\n",
       "      <td>0.487500</td>\n",
       "    </tr>\n",
       "    <tr>\n",
       "      <th>14943</th>\n",
       "      <td>0</td>\n",
       "      <td>You know those films that have you trapped in ...</td>\n",
       "      <td>11953</td>\n",
       "      <td>1</td>\n",
       "      <td>192</td>\n",
       "      <td>1030</td>\n",
       "      <td>5.364583</td>\n",
       "      <td>-0.000869</td>\n",
       "      <td>0.582832</td>\n",
       "    </tr>\n",
       "    <tr>\n",
       "      <th>21132</th>\n",
       "      <td>0</td>\n",
       "      <td>THE SEVENTH SIGN has a great opening hook as t...</td>\n",
       "      <td>7943</td>\n",
       "      <td>4</td>\n",
       "      <td>107</td>\n",
       "      <td>564</td>\n",
       "      <td>5.271028</td>\n",
       "      <td>0.083995</td>\n",
       "      <td>0.541138</td>\n",
       "    </tr>\n",
       "    <tr>\n",
       "      <th>3177</th>\n",
       "      <td>1</td>\n",
       "      <td>When I started to watch this movie on VH-1 I c...</td>\n",
       "      <td>7501</td>\n",
       "      <td>8</td>\n",
       "      <td>57</td>\n",
       "      <td>271</td>\n",
       "      <td>4.754386</td>\n",
       "      <td>0.300000</td>\n",
       "      <td>0.573333</td>\n",
       "    </tr>\n",
       "    <tr>\n",
       "      <th>16627</th>\n",
       "      <td>0</td>\n",
       "      <td>I had some time to kill before watching footba...</td>\n",
       "      <td>3129</td>\n",
       "      <td>1</td>\n",
       "      <td>379</td>\n",
       "      <td>2050</td>\n",
       "      <td>5.408971</td>\n",
       "      <td>0.009024</td>\n",
       "      <td>0.431810</td>\n",
       "    </tr>\n",
       "  </tbody>\n",
       "</table>\n",
       "</div>"
      ],
      "text/plain": [
       "       category                                             review  review_id  \\\n",
       "14413         0  This movie fails miserably on every level. I h...       8649   \n",
       "14943         0  You know those films that have you trapped in ...      11953   \n",
       "21132         0  THE SEVENTH SIGN has a great opening hook as t...       7943   \n",
       "3177          1  When I started to watch this movie on VH-1 I c...       7501   \n",
       "16627         0  I had some time to kill before watching footba...       3129   \n",
       "\n",
       "       review_rating  word_count  length  word_density  polarity  subjectivity  \n",
       "14413              1         134     671      5.007463 -0.247619      0.487500  \n",
       "14943              1         192    1030      5.364583 -0.000869      0.582832  \n",
       "21132              4         107     564      5.271028  0.083995      0.541138  \n",
       "3177               8          57     271      4.754386  0.300000      0.573333  \n",
       "16627              1         379    2050      5.408971  0.009024      0.431810  "
      ]
     },
     "execution_count": 16,
     "metadata": {},
     "output_type": "execute_result"
    }
   ],
   "source": [
    "train.head()"
   ]
  },
  {
   "cell_type": "markdown",
   "metadata": {},
   "source": [
    "## Removing Stopwords & Lemmatization"
   ]
  },
  {
   "cell_type": "markdown",
   "metadata": {},
   "source": [
    "**Stemming** and **Lemmatization** are Text Normalization (or sometimes called Word Normalization) techniques in the field of Natural Language Processing that are used to prepare text, words, and documents for further processing.\n",
    "\n",
    "*\"**Stemming** is the process of reducing inflection in words to their root forms such as mapping a group of words to the same stem even if the stem itself is not a valid word in the Language.\"*\n",
    "\n",
    "**Stem (root) is the part of the word to which you add inflectional (changing/deriving) affixes such as (-ed,-ize, -s,-de,mis).** So stemming a word or sentence may result in words that are not actual words. Stems are created by removing the suffixes or prefixes used with a word.\n",
    "\n",
    "*\"**Lemmatization**, unlike Stemming, reduces the inflected words properly ensuring that the root word belongs to the language. In Lemmatization root word is called Lemma. A lemma (plural lemmas or lemmata) is the canonical form, dictionary form, or citation form of a set of words.\"*\n",
    "\n",
    "For example, runs, running, ran are all forms of the word run, therefore run is the lemma of all these words. Because lemmatization returns an actual word of the language, it is used where it is necessary to get valid words.\n",
    "\n",
    "* Stemming and Lemmatization both generate the root form of the inflected words. The difference is that stem might not be an actual word whereas, lemma is an actual language word.\n",
    "\n",
    "* Stemming follows an algorithm with steps to perform on the words which makes it faster. Whereas, in lemmatization, you used WordNet corpus and a corpus for stop words as well to produce lemma which makes it slower than stemming. You also had to define a parts-of-speech to obtain the correct lemma.\n",
    "\n",
    "So when to use what! The above points show that if speed is focused then stemming should be used since lemmatizers scan a corpus which consumed time and processing. It depends on the application you are working on that decides if stemmers should be used or lemmatizers. If you are building a language application in which language is important you should use lemmatization as it uses a corpus to match root forms.\n",
    "\n",
    "To summarize: lemmatization is used in this task."
   ]
  },
  {
   "cell_type": "code",
   "execution_count": 17,
   "metadata": {},
   "outputs": [
    {
     "name": "stderr",
     "output_type": "stream",
     "text": [
      "[nltk_data] Downloading package wordnet to /home/dlab-\n",
      "[nltk_data]     user/nltk_data...\n",
      "[nltk_data]   Package wordnet is already up-to-date!\n"
     ]
    }
   ],
   "source": [
    "from gensim.parsing.preprocessing import remove_stopwords\n",
    "from gensim.utils import tokenize\n",
    "\n",
    "import nltk\n",
    "from nltk.stem import WordNetLemmatizer\n",
    "nltk.download('wordnet')\n",
    "wordnet_lemmatizer = WordNetLemmatizer()\n",
    "\n",
    "def word_lemmatizer(word):\n",
    "    word = word.replace('_', '')\n",
    "    word1 = wordnet_lemmatizer.lemmatize(word, pos = \"n\") # NOUNS\n",
    "    word2 = wordnet_lemmatizer.lemmatize(word1, pos = \"v\") # VERB\n",
    "    return wordnet_lemmatizer.lemmatize(word2, pos = (\"a\")) # ADJ\n",
    "    \n",
    "\n",
    "def text_lemmatizer(text):\n",
    "    return ' '.join(map(word_lemmatizer, text))\n",
    "\n",
    "\n",
    "def lemmatizer(x):\n",
    "    x[TEXT_COLUMN] = x[TEXT_COLUMN].apply(lambda text: text_lemmatizer(tokenize(remove_stopwords(text))))\n",
    "    return x"
   ]
  },
  {
   "cell_type": "code",
   "execution_count": 18,
   "metadata": {
    "collapsed": true
   },
   "outputs": [],
   "source": [
    "train = FunctionTransformer(lemmatizer, validate=False).transform(train)\n",
    "test = FunctionTransformer(lemmatizer, validate=False).transform(test)"
   ]
  },
  {
   "cell_type": "markdown",
   "metadata": {},
   "source": [
    "While using gensim for removing stopwords, we can directly use it on the raw text. \n",
    "There’s no need to perform tokenization before removing stopwords.\n",
    "\n",
    "However Gensim provide lemmatization facilities based on the `pattern` package.  Installation of `pattern` package is painfull therefore I have used nltk for lemmatization.\n",
    "\n",
    "I had tried to use nltk only, however I was not satisfied with the result. Therefore a used gensim for tokenisation and stop-words removing and nltk for other activities.\n",
    "\n",
    "Actually gensim tokenization is a [regexp](https://github.com/RaRe-Technologies/gensim/blob/develop/gensim/utils.py#L55), which select contiguous sequences of alphabetic characters (no digits!).\n",
    "\n",
    "Stop words removing in gensim is a filtration by [this](https://github.com/RaRe-Technologies/gensim/blob/develop/gensim/parsing/preprocessing.py#L46) corpus of words."
   ]
  },
  {
   "cell_type": "code",
   "execution_count": 19,
   "metadata": {},
   "outputs": [
    {
     "data": {
      "text/html": [
       "<div>\n",
       "<style scoped>\n",
       "    .dataframe tbody tr th:only-of-type {\n",
       "        vertical-align: middle;\n",
       "    }\n",
       "\n",
       "    .dataframe tbody tr th {\n",
       "        vertical-align: top;\n",
       "    }\n",
       "\n",
       "    .dataframe thead th {\n",
       "        text-align: right;\n",
       "    }\n",
       "</style>\n",
       "<table border=\"1\" class=\"dataframe\">\n",
       "  <thead>\n",
       "    <tr style=\"text-align: right;\">\n",
       "      <th></th>\n",
       "      <th>category</th>\n",
       "      <th>review</th>\n",
       "      <th>review_id</th>\n",
       "      <th>review_rating</th>\n",
       "      <th>word_count</th>\n",
       "      <th>length</th>\n",
       "      <th>word_density</th>\n",
       "      <th>polarity</th>\n",
       "      <th>subjectivity</th>\n",
       "    </tr>\n",
       "  </thead>\n",
       "  <tbody>\n",
       "    <tr>\n",
       "      <th>14413</th>\n",
       "      <td>0</td>\n",
       "      <td>This movie fail miserably level I idea let s i...</td>\n",
       "      <td>8649</td>\n",
       "      <td>1</td>\n",
       "      <td>134</td>\n",
       "      <td>671</td>\n",
       "      <td>5.007463</td>\n",
       "      <td>-0.247619</td>\n",
       "      <td>0.487500</td>\n",
       "    </tr>\n",
       "    <tr>\n",
       "      <th>14943</th>\n",
       "      <td>0</td>\n",
       "      <td>You know film trap cinema You re stick best se...</td>\n",
       "      <td>11953</td>\n",
       "      <td>1</td>\n",
       "      <td>192</td>\n",
       "      <td>1030</td>\n",
       "      <td>5.364583</td>\n",
       "      <td>-0.000869</td>\n",
       "      <td>0.582832</td>\n",
       "    </tr>\n",
       "    <tr>\n",
       "      <th>21132</th>\n",
       "      <td>0</td>\n",
       "      <td>THE SEVENTH SIGN great open hook Israeli defen...</td>\n",
       "      <td>7943</td>\n",
       "      <td>4</td>\n",
       "      <td>107</td>\n",
       "      <td>564</td>\n",
       "      <td>5.271028</td>\n",
       "      <td>0.083995</td>\n",
       "      <td>0.541138</td>\n",
       "    </tr>\n",
       "    <tr>\n",
       "      <th>3177</th>\n",
       "      <td>1</td>\n",
       "      <td>When I start watch movie VH I cringe The MTV m...</td>\n",
       "      <td>7501</td>\n",
       "      <td>8</td>\n",
       "      <td>57</td>\n",
       "      <td>271</td>\n",
       "      <td>4.754386</td>\n",
       "      <td>0.300000</td>\n",
       "      <td>0.573333</td>\n",
       "    </tr>\n",
       "    <tr>\n",
       "      <th>16627</th>\n",
       "      <td>0</td>\n",
       "      <td>I time kill watch football I saw movie offer s...</td>\n",
       "      <td>3129</td>\n",
       "      <td>1</td>\n",
       "      <td>379</td>\n",
       "      <td>2050</td>\n",
       "      <td>5.408971</td>\n",
       "      <td>0.009024</td>\n",
       "      <td>0.431810</td>\n",
       "    </tr>\n",
       "  </tbody>\n",
       "</table>\n",
       "</div>"
      ],
      "text/plain": [
       "       category                                             review  review_id  \\\n",
       "14413         0  This movie fail miserably level I idea let s i...       8649   \n",
       "14943         0  You know film trap cinema You re stick best se...      11953   \n",
       "21132         0  THE SEVENTH SIGN great open hook Israeli defen...       7943   \n",
       "3177          1  When I start watch movie VH I cringe The MTV m...       7501   \n",
       "16627         0  I time kill watch football I saw movie offer s...       3129   \n",
       "\n",
       "       review_rating  word_count  length  word_density  polarity  subjectivity  \n",
       "14413              1         134     671      5.007463 -0.247619      0.487500  \n",
       "14943              1         192    1030      5.364583 -0.000869      0.582832  \n",
       "21132              4         107     564      5.271028  0.083995      0.541138  \n",
       "3177               8          57     271      4.754386  0.300000      0.573333  \n",
       "16627              1         379    2050      5.408971  0.009024      0.431810  "
      ]
     },
     "execution_count": 19,
     "metadata": {},
     "output_type": "execute_result"
    }
   ],
   "source": [
    "train.head()"
   ]
  },
  {
   "cell_type": "markdown",
   "metadata": {},
   "source": [
    "## Bag of words / TF-IDF (N-grams)"
   ]
  },
  {
   "cell_type": "code",
   "execution_count": 20,
   "metadata": {
    "collapsed": true
   },
   "outputs": [],
   "source": [
    "x_train = train[TEXT_COLUMN].tolist()\n",
    "y_train = train[TARGET_COLUMN].tolist()\n",
    "\n",
    "x_test = test[TEXT_COLUMN].tolist()\n",
    "y_test = test[TARGET_COLUMN].tolist()"
   ]
  },
  {
   "cell_type": "markdown",
   "metadata": {},
   "source": [
    "A corpus of documents can be represented by a matrix with one row per document and one column per token (e.g. word) occurring in the corpus.\n",
    "\n",
    "In Sklearn the general process of turning a collection of text documents into numerical feature vectors is called **vectorization**. This specific strategy (tokenization, counting and normalization) is called the Bag of Words or “Bag of n-grams” representation. Documents are described by word occurrences while completely ignoring the relative position information of the words in the document.\n",
    "\n",
    "> As most documents will typically use a very small subset of the words used in the corpus, the resulting matrix will have many feature values that are zeros (typically more than 99% of them).\n",
    "\n",
    "> In order to be able to store such a matrix in memory but also to speed up algebraic operations matrix / vector, implementations will typically use a sparse representation.\n",
    "\n",
    "\n",
    "```CountVectorizer``` implements both tokenization and occurrence counting in a single class\n",
    "\n",
    "Each term found by the analyzer during the fit is assigned a unique integer index corresponding to a column in the resulting matrix.\n",
    "\n",
    "> The converse mapping from feature name to column index is stored in the vocabulary_ attribute of the vectorizer\n",
    "\n",
    "> Words that were not seen in the training corpus will be completely ignored in future calls to the transform method"
   ]
  },
  {
   "cell_type": "markdown",
   "metadata": {},
   "source": [
    "A collection of unigrams (what bag of words is) cannot capture phrases and multi-word expressions, effectively disregarding any word order dependence. Additionally, the bag of words model doesn’t account for potential misspellings or word derivations.\n",
    "\n",
    "**N-grams to the rescue!** Instead of building a simple collection of unigrams (n=1), one might prefer a collection of bigrams (n=2), where occurrences of pairs of consecutive words are counted.\n",
    "\n",
    "One might alternatively consider a collection of character n-grams, a representation resilient against misspellings and derivations."
   ]
  },
  {
   "cell_type": "markdown",
   "metadata": {},
   "source": [
    "In a large text corpus, some words will be very present (e.g. “the”, “a”, “is” in English) hence carrying very little meaningful information about the actual contents of the document. If we were to feed the direct count data directly to a classifier those very frequent terms would shadow the frequencies of rarer yet more interesting terms.\n",
    "\n",
    "In order to re-weight the count features into floating point values suitable for usage by a classifier it is very common to use the tf–idf transform.\n",
    "\n",
    "Tf means **term-frequency** while tf–idf means term-frequency times **inverse document-frequency**\n",
    "\n",
    "> This normalization is implemented by the ```TfidfTransformer``` class"
   ]
  },
  {
   "cell_type": "code",
   "execution_count": 21,
   "metadata": {
    "collapsed": true
   },
   "outputs": [],
   "source": [
    "# from sklearn.feature_extraction.text import CountVectorizer, TfidfTransformer\n",
    "\n",
    "# count_vect = CountVectorizer(ngram_range=(2, 3))\n",
    "# count_vect.fit(x_train)\n",
    "\n",
    "# xtrain_count =  count_vect.transform(x_train)\n",
    "# xtest_count =  count_vect.transform(x_test)\n",
    "\n",
    "# tfidf_transformer = TfidfTransformer(smooth_idf=False)\n",
    "# tfidf_transformer.fit(xtrain_count)\n",
    "\n",
    "# xtrain_count =  tfidf_transformer.transform(xtrain_count)\n",
    "# xtest_count =  tfidf_transformer.transform(xtest_count)\n",
    "# xtrain_count"
   ]
  },
  {
   "cell_type": "markdown",
   "metadata": {
    "collapsed": true
   },
   "source": [
    "As **tf–idf** is very often used for text features, there is also another class called ```TfidfVectorizer``` that combines all the options of ```CountVectorizer``` and ```TfidfTransformer``` in a single model:"
   ]
  },
  {
   "cell_type": "code",
   "execution_count": 22,
   "metadata": {},
   "outputs": [
    {
     "data": {
      "text/plain": [
       "<25000x4304532 sparse matrix of type '<class 'numpy.float64'>'\n",
       "\twith 6063558 stored elements in Compressed Sparse Row format>"
      ]
     },
     "execution_count": 22,
     "metadata": {},
     "output_type": "execute_result"
    }
   ],
   "source": [
    "from sklearn.feature_extraction.text import TfidfVectorizer\n",
    "tfidf_count_vect = TfidfVectorizer(ngram_range=(2, 3))\n",
    "tfidf_count_vect.fit(x_train)\n",
    "\n",
    "tfidf_xtrain_count =  tfidf_count_vect.transform(x_train)\n",
    "tfidf_xtest_count =  tfidf_count_vect.transform(x_test)\n",
    "tfidf_xtrain_count"
   ]
  },
  {
   "cell_type": "markdown",
   "metadata": {},
   "source": [
    "# Base Line"
   ]
  },
  {
   "cell_type": "code",
   "execution_count": 23,
   "metadata": {},
   "outputs": [
    {
     "data": {
      "text/plain": [
       "MultinomialNB(alpha=1.0, class_prior=None, fit_prior=True)"
      ]
     },
     "execution_count": 23,
     "metadata": {},
     "output_type": "execute_result"
    }
   ],
   "source": [
    "from sklearn import naive_bayes\n",
    "\n",
    "classifier = naive_bayes.MultinomialNB()\n",
    "\n",
    "classifier.fit(tfidf_xtrain_count, y_train)"
   ]
  },
  {
   "cell_type": "code",
   "execution_count": 24,
   "metadata": {
    "collapsed": true
   },
   "outputs": [],
   "source": [
    "train_predictions = classifier.predict(tfidf_xtrain_count)\n",
    "test_predictions = classifier.predict(tfidf_xtest_count)"
   ]
  },
  {
   "cell_type": "code",
   "execution_count": 25,
   "metadata": {},
   "outputs": [
    {
     "data": {
      "text/plain": [
       "0.8487050996703562"
      ]
     },
     "execution_count": 25,
     "metadata": {},
     "output_type": "execute_result"
    }
   ],
   "source": [
    "from sklearn.metrics import roc_auc_score, make_scorer\n",
    "roc_auc_score(test_predictions, y_test)"
   ]
  },
  {
   "cell_type": "markdown",
   "metadata": {},
   "source": [
    "Prepare text based features"
   ]
  },
  {
   "cell_type": "code",
   "execution_count": 26,
   "metadata": {
    "collapsed": true
   },
   "outputs": [],
   "source": [
    "from sklearn.preprocessing import StandardScaler\n",
    "text_features_train = train[FEATURE_COLUMNS]\n",
    "text_features_test = test[FEATURE_COLUMNS]\n",
    "\n",
    "standart_scaler = StandardScaler()\n",
    "standart_scaler.fit(text_features_train)\n",
    "\n",
    "text_features_train = standart_scaler.transform(text_features_train)\n",
    "text_features_test = standart_scaler.transform(text_features_test)"
   ]
  },
  {
   "cell_type": "markdown",
   "metadata": {},
   "source": [
    "Stacking is a way to ensemble multiple classifications or regression model. The point of stacking is to explore a space of different models for the same problem. The idea is that you can attack a learning problem with different types of models which are capable to learn some part of the problem, but not the whole space of the problem. \n",
    "\n",
    "So I had used classifier based on word embeddings. And then added results to other text based features for the next, high level, classifier."
   ]
  },
  {
   "cell_type": "code",
   "execution_count": 27,
   "metadata": {
    "collapsed": true
   },
   "outputs": [],
   "source": [
    "text_features_train = np.concatenate((train_predictions.reshape((len(train_predictions), 1)), text_features_train), axis=1)\n",
    "text_features_test = np.concatenate((test_predictions.reshape((len(test_predictions), 1)), text_features_test), axis=1)"
   ]
  },
  {
   "cell_type": "code",
   "execution_count": 28,
   "metadata": {},
   "outputs": [
    {
     "data": {
      "text/plain": [
       "array([[ 0.        , -0.5743824 , -0.65203945, ..., -0.47045169,\n",
       "        -2.16164558, -0.47045169],\n",
       "       [ 0.        , -0.24053017, -0.29415376, ...,  0.55629478,\n",
       "        -0.64120241,  0.55629478],\n",
       "       [ 0.        , -0.72979637, -0.75870732, ...,  0.10723613,\n",
       "        -0.11827977,  0.10723613],\n",
       "       ...,\n",
       "       [ 0.        , -1.01184394, -1.00494065, ..., -0.87433454,\n",
       "        -0.40477482, -0.87433454],\n",
       "       [ 0.        ,  1.45751134,  1.52916913, ...,  0.27697671,\n",
       "        -2.05456054,  0.27697671],\n",
       "       [ 0.        , -0.60891884, -0.64007669, ...,  0.2026864 ,\n",
       "        -0.216495  ,  0.2026864 ]])"
      ]
     },
     "execution_count": 28,
     "metadata": {},
     "output_type": "execute_result"
    }
   ],
   "source": [
    "text_features_train"
   ]
  },
  {
   "cell_type": "code",
   "execution_count": 29,
   "metadata": {},
   "outputs": [
    {
     "name": "stderr",
     "output_type": "stream",
     "text": [
      "/usr/local/lib/python3.5/dist-packages/sklearn/linear_model/logistic.py:432: FutureWarning: Default solver will be changed to 'lbfgs' in 0.22. Specify a solver to silence this warning.\n",
      "  FutureWarning)\n"
     ]
    }
   ],
   "source": [
    "from sklearn.linear_model import LogisticRegression\n",
    "\n",
    "final_classifier = LogisticRegression()\n",
    "final_classifier.fit(text_features_train, y_train)\n",
    "\n",
    "predict = final_classifier.predict(text_features_test)"
   ]
  },
  {
   "cell_type": "code",
   "execution_count": 30,
   "metadata": {},
   "outputs": [
    {
     "data": {
      "text/plain": [
       "0.8487050996703562"
      ]
     },
     "execution_count": 30,
     "metadata": {},
     "output_type": "execute_result"
    }
   ],
   "source": [
    "roc_auc_score(predict, y_test)"
   ]
  },
  {
   "cell_type": "code",
   "execution_count": 31,
   "metadata": {},
   "outputs": [
    {
     "name": "stdout",
     "output_type": "stream",
     "text": [
      "              precision    recall  f1-score   support\n",
      "\n",
      "           0       0.80      0.91      0.85     12500\n",
      "           1       0.90      0.77      0.83     12500\n",
      "\n",
      "    accuracy                           0.84     25000\n",
      "   macro avg       0.85      0.84      0.84     25000\n",
      "weighted avg       0.85      0.84      0.84     25000\n",
      "\n"
     ]
    }
   ],
   "source": [
    "from sklearn.metrics import classification_report\n",
    "print(classification_report(y_test, final_classifier.predict(text_features_test)))"
   ]
  },
  {
   "cell_type": "markdown",
   "metadata": {
    "collapsed": true
   },
   "source": [
    "I tryied differend combinations of features. \n",
    "\n",
    "* some useless text based features \n",
    "* add feautres from TextBlob (polarity, subjectivity)\n",
    "* add stacking\n",
    "* add both\n",
    "\n",
    "As expected performance from useless text based features is not great (roughly 50%) therefore classifier does not work.\n",
    "After adding features from TextBlob the performance has increased as well as after stacking adding.\n",
    "\n",
    "However in case using both this approaches the performance does not change. Results in table below:\n",
    "\n",
    "| Stacking | TextBlob | roc_auc_score    |\n",
    "|:---------|:---------|:---------------- |\n",
    "| False    | False    |0.524879150671637 |\n",
    "| False    | True     |0.7688462776927029|\n",
    "| True     | False    |0.8487050996703562|\n",
    "| True     | True     |0.8487050996703562|\n",
    "\n",
    "\n",
    "According these results, in my opinion it is reasonable to use only nested classifier in next improving steps."
   ]
  },
  {
   "cell_type": "code",
   "execution_count": 32,
   "metadata": {
    "collapsed": true
   },
   "outputs": [],
   "source": [
    "def separate_target(df):\n",
    "    return df.drop(columns=[TARGET_COLUMN]), df[TARGET_COLUMN].tolist()\n",
    "\n",
    "def get_splited_data():\n",
    "    train, test = get_data()\n",
    "    x_train, y_train = separate_target(train)\n",
    "    x_test, y_test = separate_target(test)\n",
    "    return x_train, y_train, x_test, y_test"
   ]
  },
  {
   "cell_type": "code",
   "execution_count": 33,
   "metadata": {
    "collapsed": true
   },
   "outputs": [],
   "source": [
    "x_train, y_train, x_test, y_test = get_splited_data()"
   ]
  },
  {
   "cell_type": "markdown",
   "metadata": {},
   "source": [
    "## Preprocessing CV"
   ]
  },
  {
   "cell_type": "markdown",
   "metadata": {},
   "source": [
    "It is time to find optimal param set for tf-idf model. \n",
    "```python\n",
    "GridSearchCV(cv=ShuffleSplit(n_splits=4, random_state=0, test_size=0.3, train_size=None),\n",
    "             error_score='raise-deprecating',\n",
    "             estimator=Pipeline(memory=None,\n",
    "                                steps=[('duplicates',\n",
    "                                        FunctionTransformer(accept_sparse=False,\n",
    "                                                            check_inverse=True,\n",
    "                                                            func=<function drop_duplicate_values at 0x7f816d4407b8>,\n",
    "                                                            inv_kw_args=None,\n",
    "                                                            inverse_func=None,\n",
    "                                                            kw_args=None,\n",
    "                                                            pass_y='deprecated',...\n",
    "                                                      class_prior=None,\n",
    "                                                      fit_prior=True))],\n",
    "                                verbose=False),\n",
    "             iid='warn', n_jobs=-1,\n",
    "             param_grid={'tfidf__lowercase': [True, False],\n",
    "                         'tfidf__max_df': [0.5, 1.0],\n",
    "                         'tfidf__ngram_range': [(1, 2), (1, 3), (2, 3)],\n",
    "                         'tfidf__norm': ['l1', 'l2', None],\n",
    "                         'tfidf__sublinear_tf': [True, False]},\n",
    "             pre_dispatch='2*n_jobs', refit=True, return_train_score=False,\n",
    "             scoring=make_scorer(roc_auc_score), verbose=3)\n",
    "```\n",
    "The best performaing paramset are:\n",
    "```python\n",
    "{\n",
    "    'tfidf__lowercase': False,\n",
    "    'tfidf__max_df': 0.5,\n",
    "    'tfidf__ngram_range': (1, 2),\n",
    "    'tfidf__norm': 'l2',\n",
    "    'tfidf__sublinear_tf': True\n",
    "}\n",
    "```\n",
    "with the score \n",
    "\n",
    "** 0.8772797250142277 **\n",
    "\n",
    "So we are able to create preprocessor with optimal parameters."
   ]
  },
  {
   "cell_type": "code",
   "execution_count": 34,
   "metadata": {
    "collapsed": true
   },
   "outputs": [],
   "source": [
    "preprocessor = Pipeline(steps=[\n",
    "    ('duplicates', FunctionTransformer(drop_duplicate_values, validate=False)),\n",
    "    ('lemmatizer', FunctionTransformer(lemmatizer, validate=False)),\n",
    "    ('selector', FunctionTransformer(lambda x: x[TEXT_COLUMN].tolist(), validate=False)),\n",
    "    ('tfidf', TfidfVectorizer(lowercase=False, max_df=0.5, ngram_range=(1, 2), norm='l2', sublinear_tf=True)),\n",
    "])\n",
    "\n",
    "preprocessor.fit(x_train)\n",
    "\n",
    "x_train = preprocessor.transform(x_train)\n",
    "x_test = preprocessor.transform(x_test)"
   ]
  },
  {
   "cell_type": "markdown",
   "metadata": {
    "collapsed": true
   },
   "source": [
    "# model CV"
   ]
  },
  {
   "cell_type": "markdown",
   "metadata": {
    "collapsed": true
   },
   "source": [
    "## Notes about SVM\n",
    "\n",
    "[Support vector machines (SVMs)](https://scikit-learn.org/stable/modules/svm.html#svm-classification) are a set of supervised learning methods used for classification, regression and outliers detection.\n",
    "\n",
    "The advantages of support vector machines are:\n",
    "\n",
    "* Effective in high dimensional spaces.\n",
    "* Still effective in cases where number of dimensions is greater than the number of samples.\n",
    "* Uses a subset of training points in the decision function (called support vectors), so it is also memory efficient.\n",
    "* Versatile: different Kernel functions can be specified for the decision function. Common kernels are provided, but it is also possible to specify custom kernels.\n",
    "\n",
    "The disadvantages of support vector machines include:\n",
    "\n",
    "* If the number of features is much greater than the number of samples, avoid over-fitting in choosing Kernel functions and regularization term is crucial.\n",
    "* SVMs do not directly provide probability estimates, these are calculated using an expensive five-fold cross-validation.\n",
    "\n",
    "> The support vector machines in scikit-learn support both dense (numpy.ndarray and convertible to that by numpy.asarray) and sparse (any scipy.sparse) sample vectors as input. However, to use an SVM to make predictions for sparse data, it must have been fit on such data. For optimal performance, use C-ordered numpy.ndarray (dense) or scipy.sparse.csr_matrix (sparse) with dtype=float64.\n",
    "\n",
    "### [C-Support Vector Classification.](https://scikit-learn.org/stable/modules/generated/sklearn.svm.SVC.html)\n",
    "\n",
    "The implementation is based on libsvm. The fit time scales at least quadratically with the number of samples and may be impractical beyond tens of thousands of samples. For large datasets consider using sklearn.svm.LinearSVC or sklearn.linear_model.SGDClassifier instead, possibly after a sklearn.kernel_approximation.Nystroem transformer.\n",
    "\n",
    "### [Linear classifiers (SVM, logistic regression, a.o.) with SGD training.](https://scikit-learn.org/stable/modules/generated/sklearn.linear_model.SGDClassifier.html)\n",
    "\n",
    "This estimator implements regularized linear models with stochastic gradient descent (SGD) learning: the gradient of the loss is estimated each sample at a time and the model is updated along the way with a decreasing strength schedule (aka learning rate).\n",
    "\n",
    "> This implementation works with data represented as dense or sparse arrays of floating point values for the features. The model it fits can be controlled with the loss parameter; by default, it fits a linear support vector machine (SVM).\n",
    "\n",
    "The regularizer is a penalty added to the loss function that shrinks model parameters towards the zero vector using either the squared euclidean norm L2 or the absolute norm L1 or a combination of both (Elastic Net).\n",
    "\n"
   ]
  },
  {
   "cell_type": "code",
   "execution_count": 35,
   "metadata": {
    "collapsed": true
   },
   "outputs": [],
   "source": [
    "model = Pipeline(steps=[('classifier', naive_bayes.MultinomialNB())])"
   ]
  },
  {
   "cell_type": "code",
   "execution_count": 36,
   "metadata": {
    "collapsed": true
   },
   "outputs": [],
   "source": [
    "from sklearn.linear_model import SGDClassifier\n",
    "from sklearn.svm import SVC"
   ]
  },
  {
   "cell_type": "code",
   "execution_count": 37,
   "metadata": {
    "collapsed": true
   },
   "outputs": [],
   "source": [
    "import itertools\n",
    "\n",
    "def model_parametrs_generator(param_sets):\n",
    "    yield from map(lambda x: dict(zip(param_sets.keys(), x)), list(itertools.product(*param_sets.values())))\n"
   ]
  },
  {
   "cell_type": "code",
   "execution_count": 38,
   "metadata": {
    "collapsed": true
   },
   "outputs": [],
   "source": [
    "SVM_param_sets = {\n",
    "    'gamma': ['scale', 'auto'], \n",
    "    'kernel': ['rbf', 'poly', 'sigmoid', 'linear'],\n",
    "    'degree': [3, 5]\n",
    "}\n",
    "SVM_models = [SVC(max_iter=10000, tol=1e-6, **x) for x in model_parametrs_generator(SVM_param_sets)]\n",
    "\n",
    "SGD_param_sets = {\n",
    "    'loss': ['hinge', 'log', 'squared_hinge'], \n",
    "    'penalty': ['l2', 'elasticnet'], \n",
    "    'learning_rate': ['optimal', 'adaptive'], \n",
    "    'early_stopping': [True, False]\n",
    "}\n",
    "SGD_models = [SGDClassifier(max_iter=10000, tol=1e-6, eta0=1, **x) for x in model_parametrs_generator(SGD_param_sets)]\n",
    "\n",
    "NB_param_sets = {\n",
    "    'alpha': [1, 1.5, 2, 3, 4, 10, 20, 100], \n",
    "}\n",
    "NB_models = [naive_bayes.MultinomialNB(**x) for x in model_parametrs_generator(NB_param_sets)]\n",
    "models = SVM_models + SGD_models + NB_models"
   ]
  },
  {
   "cell_type": "code",
   "execution_count": 39,
   "metadata": {},
   "outputs": [
    {
     "data": {
      "text/plain": [
       "[SVC(C=1.0, cache_size=200, class_weight=None, coef0=0.0,\n",
       "     decision_function_shape='ovr', degree=3, gamma='scale', kernel='rbf',\n",
       "     max_iter=10000, probability=False, random_state=None, shrinking=True,\n",
       "     tol=1e-06, verbose=False),\n",
       " SVC(C=1.0, cache_size=200, class_weight=None, coef0=0.0,\n",
       "     decision_function_shape='ovr', degree=3, gamma='scale', kernel='poly',\n",
       "     max_iter=10000, probability=False, random_state=None, shrinking=True,\n",
       "     tol=1e-06, verbose=False),\n",
       " SVC(C=1.0, cache_size=200, class_weight=None, coef0=0.0,\n",
       "     decision_function_shape='ovr', degree=3, gamma='scale', kernel='sigmoid',\n",
       "     max_iter=10000, probability=False, random_state=None, shrinking=True,\n",
       "     tol=1e-06, verbose=False),\n",
       " SVC(C=1.0, cache_size=200, class_weight=None, coef0=0.0,\n",
       "     decision_function_shape='ovr', degree=3, gamma='scale', kernel='linear',\n",
       "     max_iter=10000, probability=False, random_state=None, shrinking=True,\n",
       "     tol=1e-06, verbose=False),\n",
       " SVC(C=1.0, cache_size=200, class_weight=None, coef0=0.0,\n",
       "     decision_function_shape='ovr', degree=3, gamma='auto', kernel='rbf',\n",
       "     max_iter=10000, probability=False, random_state=None, shrinking=True,\n",
       "     tol=1e-06, verbose=False),\n",
       " SVC(C=1.0, cache_size=200, class_weight=None, coef0=0.0,\n",
       "     decision_function_shape='ovr', degree=3, gamma='auto', kernel='poly',\n",
       "     max_iter=10000, probability=False, random_state=None, shrinking=True,\n",
       "     tol=1e-06, verbose=False),\n",
       " SVC(C=1.0, cache_size=200, class_weight=None, coef0=0.0,\n",
       "     decision_function_shape='ovr', degree=3, gamma='auto', kernel='sigmoid',\n",
       "     max_iter=10000, probability=False, random_state=None, shrinking=True,\n",
       "     tol=1e-06, verbose=False),\n",
       " SVC(C=1.0, cache_size=200, class_weight=None, coef0=0.0,\n",
       "     decision_function_shape='ovr', degree=3, gamma='auto', kernel='linear',\n",
       "     max_iter=10000, probability=False, random_state=None, shrinking=True,\n",
       "     tol=1e-06, verbose=False),\n",
       " SVC(C=1.0, cache_size=200, class_weight=None, coef0=0.0,\n",
       "     decision_function_shape='ovr', degree=5, gamma='scale', kernel='rbf',\n",
       "     max_iter=10000, probability=False, random_state=None, shrinking=True,\n",
       "     tol=1e-06, verbose=False),\n",
       " SVC(C=1.0, cache_size=200, class_weight=None, coef0=0.0,\n",
       "     decision_function_shape='ovr', degree=5, gamma='scale', kernel='poly',\n",
       "     max_iter=10000, probability=False, random_state=None, shrinking=True,\n",
       "     tol=1e-06, verbose=False),\n",
       " SVC(C=1.0, cache_size=200, class_weight=None, coef0=0.0,\n",
       "     decision_function_shape='ovr', degree=5, gamma='scale', kernel='sigmoid',\n",
       "     max_iter=10000, probability=False, random_state=None, shrinking=True,\n",
       "     tol=1e-06, verbose=False),\n",
       " SVC(C=1.0, cache_size=200, class_weight=None, coef0=0.0,\n",
       "     decision_function_shape='ovr', degree=5, gamma='scale', kernel='linear',\n",
       "     max_iter=10000, probability=False, random_state=None, shrinking=True,\n",
       "     tol=1e-06, verbose=False),\n",
       " SVC(C=1.0, cache_size=200, class_weight=None, coef0=0.0,\n",
       "     decision_function_shape='ovr', degree=5, gamma='auto', kernel='rbf',\n",
       "     max_iter=10000, probability=False, random_state=None, shrinking=True,\n",
       "     tol=1e-06, verbose=False),\n",
       " SVC(C=1.0, cache_size=200, class_weight=None, coef0=0.0,\n",
       "     decision_function_shape='ovr', degree=5, gamma='auto', kernel='poly',\n",
       "     max_iter=10000, probability=False, random_state=None, shrinking=True,\n",
       "     tol=1e-06, verbose=False),\n",
       " SVC(C=1.0, cache_size=200, class_weight=None, coef0=0.0,\n",
       "     decision_function_shape='ovr', degree=5, gamma='auto', kernel='sigmoid',\n",
       "     max_iter=10000, probability=False, random_state=None, shrinking=True,\n",
       "     tol=1e-06, verbose=False),\n",
       " SVC(C=1.0, cache_size=200, class_weight=None, coef0=0.0,\n",
       "     decision_function_shape='ovr', degree=5, gamma='auto', kernel='linear',\n",
       "     max_iter=10000, probability=False, random_state=None, shrinking=True,\n",
       "     tol=1e-06, verbose=False),\n",
       " SGDClassifier(alpha=0.0001, average=False, class_weight=None,\n",
       "               early_stopping=True, epsilon=0.1, eta0=1, fit_intercept=True,\n",
       "               l1_ratio=0.15, learning_rate='optimal', loss='hinge',\n",
       "               max_iter=10000, n_iter_no_change=5, n_jobs=None, penalty='l2',\n",
       "               power_t=0.5, random_state=None, shuffle=True, tol=1e-06,\n",
       "               validation_fraction=0.1, verbose=0, warm_start=False),\n",
       " SGDClassifier(alpha=0.0001, average=False, class_weight=None,\n",
       "               early_stopping=True, epsilon=0.1, eta0=1, fit_intercept=True,\n",
       "               l1_ratio=0.15, learning_rate='adaptive', loss='hinge',\n",
       "               max_iter=10000, n_iter_no_change=5, n_jobs=None, penalty='l2',\n",
       "               power_t=0.5, random_state=None, shuffle=True, tol=1e-06,\n",
       "               validation_fraction=0.1, verbose=0, warm_start=False),\n",
       " SGDClassifier(alpha=0.0001, average=False, class_weight=None,\n",
       "               early_stopping=True, epsilon=0.1, eta0=1, fit_intercept=True,\n",
       "               l1_ratio=0.15, learning_rate='optimal', loss='hinge',\n",
       "               max_iter=10000, n_iter_no_change=5, n_jobs=None,\n",
       "               penalty='elasticnet', power_t=0.5, random_state=None,\n",
       "               shuffle=True, tol=1e-06, validation_fraction=0.1, verbose=0,\n",
       "               warm_start=False),\n",
       " SGDClassifier(alpha=0.0001, average=False, class_weight=None,\n",
       "               early_stopping=True, epsilon=0.1, eta0=1, fit_intercept=True,\n",
       "               l1_ratio=0.15, learning_rate='adaptive', loss='hinge',\n",
       "               max_iter=10000, n_iter_no_change=5, n_jobs=None,\n",
       "               penalty='elasticnet', power_t=0.5, random_state=None,\n",
       "               shuffle=True, tol=1e-06, validation_fraction=0.1, verbose=0,\n",
       "               warm_start=False),\n",
       " SGDClassifier(alpha=0.0001, average=False, class_weight=None,\n",
       "               early_stopping=False, epsilon=0.1, eta0=1, fit_intercept=True,\n",
       "               l1_ratio=0.15, learning_rate='optimal', loss='hinge',\n",
       "               max_iter=10000, n_iter_no_change=5, n_jobs=None, penalty='l2',\n",
       "               power_t=0.5, random_state=None, shuffle=True, tol=1e-06,\n",
       "               validation_fraction=0.1, verbose=0, warm_start=False),\n",
       " SGDClassifier(alpha=0.0001, average=False, class_weight=None,\n",
       "               early_stopping=False, epsilon=0.1, eta0=1, fit_intercept=True,\n",
       "               l1_ratio=0.15, learning_rate='adaptive', loss='hinge',\n",
       "               max_iter=10000, n_iter_no_change=5, n_jobs=None, penalty='l2',\n",
       "               power_t=0.5, random_state=None, shuffle=True, tol=1e-06,\n",
       "               validation_fraction=0.1, verbose=0, warm_start=False),\n",
       " SGDClassifier(alpha=0.0001, average=False, class_weight=None,\n",
       "               early_stopping=False, epsilon=0.1, eta0=1, fit_intercept=True,\n",
       "               l1_ratio=0.15, learning_rate='optimal', loss='hinge',\n",
       "               max_iter=10000, n_iter_no_change=5, n_jobs=None,\n",
       "               penalty='elasticnet', power_t=0.5, random_state=None,\n",
       "               shuffle=True, tol=1e-06, validation_fraction=0.1, verbose=0,\n",
       "               warm_start=False),\n",
       " SGDClassifier(alpha=0.0001, average=False, class_weight=None,\n",
       "               early_stopping=False, epsilon=0.1, eta0=1, fit_intercept=True,\n",
       "               l1_ratio=0.15, learning_rate='adaptive', loss='hinge',\n",
       "               max_iter=10000, n_iter_no_change=5, n_jobs=None,\n",
       "               penalty='elasticnet', power_t=0.5, random_state=None,\n",
       "               shuffle=True, tol=1e-06, validation_fraction=0.1, verbose=0,\n",
       "               warm_start=False),\n",
       " SGDClassifier(alpha=0.0001, average=False, class_weight=None,\n",
       "               early_stopping=True, epsilon=0.1, eta0=1, fit_intercept=True,\n",
       "               l1_ratio=0.15, learning_rate='optimal', loss='log',\n",
       "               max_iter=10000, n_iter_no_change=5, n_jobs=None, penalty='l2',\n",
       "               power_t=0.5, random_state=None, shuffle=True, tol=1e-06,\n",
       "               validation_fraction=0.1, verbose=0, warm_start=False),\n",
       " SGDClassifier(alpha=0.0001, average=False, class_weight=None,\n",
       "               early_stopping=True, epsilon=0.1, eta0=1, fit_intercept=True,\n",
       "               l1_ratio=0.15, learning_rate='adaptive', loss='log',\n",
       "               max_iter=10000, n_iter_no_change=5, n_jobs=None, penalty='l2',\n",
       "               power_t=0.5, random_state=None, shuffle=True, tol=1e-06,\n",
       "               validation_fraction=0.1, verbose=0, warm_start=False),\n",
       " SGDClassifier(alpha=0.0001, average=False, class_weight=None,\n",
       "               early_stopping=True, epsilon=0.1, eta0=1, fit_intercept=True,\n",
       "               l1_ratio=0.15, learning_rate='optimal', loss='log',\n",
       "               max_iter=10000, n_iter_no_change=5, n_jobs=None,\n",
       "               penalty='elasticnet', power_t=0.5, random_state=None,\n",
       "               shuffle=True, tol=1e-06, validation_fraction=0.1, verbose=0,\n",
       "               warm_start=False),\n",
       " SGDClassifier(alpha=0.0001, average=False, class_weight=None,\n",
       "               early_stopping=True, epsilon=0.1, eta0=1, fit_intercept=True,\n",
       "               l1_ratio=0.15, learning_rate='adaptive', loss='log',\n",
       "               max_iter=10000, n_iter_no_change=5, n_jobs=None,\n",
       "               penalty='elasticnet', power_t=0.5, random_state=None,\n",
       "               shuffle=True, tol=1e-06, validation_fraction=0.1, verbose=0,\n",
       "               warm_start=False),\n",
       " SGDClassifier(alpha=0.0001, average=False, class_weight=None,\n",
       "               early_stopping=False, epsilon=0.1, eta0=1, fit_intercept=True,\n",
       "               l1_ratio=0.15, learning_rate='optimal', loss='log',\n",
       "               max_iter=10000, n_iter_no_change=5, n_jobs=None, penalty='l2',\n",
       "               power_t=0.5, random_state=None, shuffle=True, tol=1e-06,\n",
       "               validation_fraction=0.1, verbose=0, warm_start=False),\n",
       " SGDClassifier(alpha=0.0001, average=False, class_weight=None,\n",
       "               early_stopping=False, epsilon=0.1, eta0=1, fit_intercept=True,\n",
       "               l1_ratio=0.15, learning_rate='adaptive', loss='log',\n",
       "               max_iter=10000, n_iter_no_change=5, n_jobs=None, penalty='l2',\n",
       "               power_t=0.5, random_state=None, shuffle=True, tol=1e-06,\n",
       "               validation_fraction=0.1, verbose=0, warm_start=False),\n",
       " SGDClassifier(alpha=0.0001, average=False, class_weight=None,\n",
       "               early_stopping=False, epsilon=0.1, eta0=1, fit_intercept=True,\n",
       "               l1_ratio=0.15, learning_rate='optimal', loss='log',\n",
       "               max_iter=10000, n_iter_no_change=5, n_jobs=None,\n",
       "               penalty='elasticnet', power_t=0.5, random_state=None,\n",
       "               shuffle=True, tol=1e-06, validation_fraction=0.1, verbose=0,\n",
       "               warm_start=False),\n",
       " SGDClassifier(alpha=0.0001, average=False, class_weight=None,\n",
       "               early_stopping=False, epsilon=0.1, eta0=1, fit_intercept=True,\n",
       "               l1_ratio=0.15, learning_rate='adaptive', loss='log',\n",
       "               max_iter=10000, n_iter_no_change=5, n_jobs=None,\n",
       "               penalty='elasticnet', power_t=0.5, random_state=None,\n",
       "               shuffle=True, tol=1e-06, validation_fraction=0.1, verbose=0,\n",
       "               warm_start=False),\n",
       " SGDClassifier(alpha=0.0001, average=False, class_weight=None,\n",
       "               early_stopping=True, epsilon=0.1, eta0=1, fit_intercept=True,\n",
       "               l1_ratio=0.15, learning_rate='optimal', loss='squared_hinge',\n",
       "               max_iter=10000, n_iter_no_change=5, n_jobs=None, penalty='l2',\n",
       "               power_t=0.5, random_state=None, shuffle=True, tol=1e-06,\n",
       "               validation_fraction=0.1, verbose=0, warm_start=False),\n",
       " SGDClassifier(alpha=0.0001, average=False, class_weight=None,\n",
       "               early_stopping=True, epsilon=0.1, eta0=1, fit_intercept=True,\n",
       "               l1_ratio=0.15, learning_rate='adaptive', loss='squared_hinge',\n",
       "               max_iter=10000, n_iter_no_change=5, n_jobs=None, penalty='l2',\n",
       "               power_t=0.5, random_state=None, shuffle=True, tol=1e-06,\n",
       "               validation_fraction=0.1, verbose=0, warm_start=False),\n",
       " SGDClassifier(alpha=0.0001, average=False, class_weight=None,\n",
       "               early_stopping=True, epsilon=0.1, eta0=1, fit_intercept=True,\n",
       "               l1_ratio=0.15, learning_rate='optimal', loss='squared_hinge',\n",
       "               max_iter=10000, n_iter_no_change=5, n_jobs=None,\n",
       "               penalty='elasticnet', power_t=0.5, random_state=None,\n",
       "               shuffle=True, tol=1e-06, validation_fraction=0.1, verbose=0,\n",
       "               warm_start=False),\n",
       " SGDClassifier(alpha=0.0001, average=False, class_weight=None,\n",
       "               early_stopping=True, epsilon=0.1, eta0=1, fit_intercept=True,\n",
       "               l1_ratio=0.15, learning_rate='adaptive', loss='squared_hinge',\n",
       "               max_iter=10000, n_iter_no_change=5, n_jobs=None,\n",
       "               penalty='elasticnet', power_t=0.5, random_state=None,\n",
       "               shuffle=True, tol=1e-06, validation_fraction=0.1, verbose=0,\n",
       "               warm_start=False),\n",
       " SGDClassifier(alpha=0.0001, average=False, class_weight=None,\n",
       "               early_stopping=False, epsilon=0.1, eta0=1, fit_intercept=True,\n",
       "               l1_ratio=0.15, learning_rate='optimal', loss='squared_hinge',\n",
       "               max_iter=10000, n_iter_no_change=5, n_jobs=None, penalty='l2',\n",
       "               power_t=0.5, random_state=None, shuffle=True, tol=1e-06,\n",
       "               validation_fraction=0.1, verbose=0, warm_start=False),\n",
       " SGDClassifier(alpha=0.0001, average=False, class_weight=None,\n",
       "               early_stopping=False, epsilon=0.1, eta0=1, fit_intercept=True,\n",
       "               l1_ratio=0.15, learning_rate='adaptive', loss='squared_hinge',\n",
       "               max_iter=10000, n_iter_no_change=5, n_jobs=None, penalty='l2',\n",
       "               power_t=0.5, random_state=None, shuffle=True, tol=1e-06,\n",
       "               validation_fraction=0.1, verbose=0, warm_start=False),\n",
       " SGDClassifier(alpha=0.0001, average=False, class_weight=None,\n",
       "               early_stopping=False, epsilon=0.1, eta0=1, fit_intercept=True,\n",
       "               l1_ratio=0.15, learning_rate='optimal', loss='squared_hinge',\n",
       "               max_iter=10000, n_iter_no_change=5, n_jobs=None,\n",
       "               penalty='elasticnet', power_t=0.5, random_state=None,\n",
       "               shuffle=True, tol=1e-06, validation_fraction=0.1, verbose=0,\n",
       "               warm_start=False),\n",
       " SGDClassifier(alpha=0.0001, average=False, class_weight=None,\n",
       "               early_stopping=False, epsilon=0.1, eta0=1, fit_intercept=True,\n",
       "               l1_ratio=0.15, learning_rate='adaptive', loss='squared_hinge',\n",
       "               max_iter=10000, n_iter_no_change=5, n_jobs=None,\n",
       "               penalty='elasticnet', power_t=0.5, random_state=None,\n",
       "               shuffle=True, tol=1e-06, validation_fraction=0.1, verbose=0,\n",
       "               warm_start=False),\n",
       " MultinomialNB(alpha=1, class_prior=None, fit_prior=True),\n",
       " MultinomialNB(alpha=1.5, class_prior=None, fit_prior=True),\n",
       " MultinomialNB(alpha=2, class_prior=None, fit_prior=True),\n",
       " MultinomialNB(alpha=3, class_prior=None, fit_prior=True),\n",
       " MultinomialNB(alpha=4, class_prior=None, fit_prior=True),\n",
       " MultinomialNB(alpha=10, class_prior=None, fit_prior=True),\n",
       " MultinomialNB(alpha=20, class_prior=None, fit_prior=True),\n",
       " MultinomialNB(alpha=100, class_prior=None, fit_prior=True)]"
      ]
     },
     "execution_count": 39,
     "metadata": {},
     "output_type": "execute_result"
    }
   ],
   "source": [
    "models"
   ]
  },
  {
   "cell_type": "code",
   "execution_count": 40,
   "metadata": {
    "collapsed": true
   },
   "outputs": [],
   "source": [
    "parameters = {'classifier': models}\n",
    "\n",
    "modelcv = GridSearchCV(\n",
    "    model, parameters, scoring=make_scorer(roc_auc_score), \n",
    "    cv=ShuffleSplit(n_splits=4, test_size=0.3, random_state=0), \n",
    "    verbose=3, n_jobs=-1\n",
    ")"
   ]
  },
  {
   "cell_type": "code",
   "execution_count": 41,
   "metadata": {},
   "outputs": [
    {
     "name": "stdout",
     "output_type": "stream",
     "text": [
      "Fitting 4 folds for each of 48 candidates, totalling 192 fits\n"
     ]
    },
    {
     "name": "stderr",
     "output_type": "stream",
     "text": [
      "[Parallel(n_jobs=-1)]: Using backend LokyBackend with 4 concurrent workers.\n",
      "[Parallel(n_jobs=-1)]: Done  24 tasks      | elapsed: 80.1min\n",
      "[Parallel(n_jobs=-1)]: Done 120 tasks      | elapsed: 215.7min\n",
      "[Parallel(n_jobs=-1)]: Done 192 out of 192 | elapsed: 216.8min finished\n",
      "/usr/local/lib/python3.5/dist-packages/sklearn/svm/base.py:241: ConvergenceWarning: Solver terminated early (max_iter=10000).  Consider pre-processing your data with StandardScaler or MinMaxScaler.\n",
      "  % self.max_iter, ConvergenceWarning)\n"
     ]
    },
    {
     "data": {
      "text/plain": [
       "GridSearchCV(cv=ShuffleSplit(n_splits=4, random_state=0, test_size=0.3, train_size=None),\n",
       "             error_score='raise-deprecating',\n",
       "             estimator=Pipeline(memory=None,\n",
       "                                steps=[('classifier',\n",
       "                                        MultinomialNB(alpha=1.0,\n",
       "                                                      class_prior=None,\n",
       "                                                      fit_prior=True))],\n",
       "                                verbose=False),\n",
       "             iid='warn', n_jobs=-1,\n",
       "             param_grid={'classifier': [SVC(C=1.0, cache_size=200,\n",
       "                                            class_weight=None, coef0=0.0,\n",
       "                                            decisi...\n",
       "                                                      epsilon=0.1, eta0=1,\n",
       "                                                      fit_intercept=True,\n",
       "                                                      l1_ratio=0.15,\n",
       "                                                      learning_rate='adaptive',\n",
       "                                                      loss='log',\n",
       "                                                      max_iter=10000,\n",
       "                                                      n_iter_no_change=5,\n",
       "                                                      n_jobs=None, penalty='l2',\n",
       "                                                      power_t=0.5,\n",
       "                                                      random_state=None,\n",
       "                                                      shuffle=True, tol=1e-06,\n",
       "                                                      validation_fraction=0.1,\n",
       "                                                      verbose=0,\n",
       "                                                      warm_start=False), ...]},\n",
       "             pre_dispatch='2*n_jobs', refit=True, return_train_score=False,\n",
       "             scoring=make_scorer(roc_auc_score), verbose=3)"
      ]
     },
     "execution_count": 41,
     "metadata": {},
     "output_type": "execute_result"
    }
   ],
   "source": [
    "modelcv.fit(x_train, y_train)"
   ]
  },
  {
   "cell_type": "code",
   "execution_count": 42,
   "metadata": {},
   "outputs": [
    {
     "data": {
      "text/plain": [
       "Pipeline(memory=None,\n",
       "         steps=[('classifier',\n",
       "                 SVC(C=1.0, cache_size=200, class_weight=None, coef0=0.0,\n",
       "                     decision_function_shape='ovr', degree=3, gamma='scale',\n",
       "                     kernel='linear', max_iter=10000, probability=False,\n",
       "                     random_state=None, shrinking=True, tol=1e-06,\n",
       "                     verbose=False))],\n",
       "         verbose=False)"
      ]
     },
     "execution_count": 42,
     "metadata": {},
     "output_type": "execute_result"
    }
   ],
   "source": [
    "modelcv.best_estimator_"
   ]
  },
  {
   "cell_type": "code",
   "execution_count": 43,
   "metadata": {},
   "outputs": [
    {
     "data": {
      "text/plain": [
       "0.8983750302856487"
      ]
     },
     "execution_count": 43,
     "metadata": {},
     "output_type": "execute_result"
    }
   ],
   "source": [
    "modelcv.best_score_"
   ]
  },
  {
   "cell_type": "code",
   "execution_count": 44,
   "metadata": {
    "collapsed": true
   },
   "outputs": [],
   "source": [
    "final_model = modelcv.best_estimator_"
   ]
  },
  {
   "cell_type": "markdown",
   "metadata": {},
   "source": [
    "# final pipeline"
   ]
  },
  {
   "cell_type": "code",
   "execution_count": 45,
   "metadata": {
    "collapsed": true
   },
   "outputs": [],
   "source": [
    "x_train, y_train, x_test, y_test = get_splited_data()"
   ]
  },
  {
   "cell_type": "code",
   "execution_count": 46,
   "metadata": {
    "collapsed": true
   },
   "outputs": [],
   "source": [
    "preprocessor.fit(x_train)\n",
    "\n",
    "x_train = preprocessor.transform(x_train)\n",
    "x_test = preprocessor.transform(x_test)"
   ]
  },
  {
   "cell_type": "code",
   "execution_count": 47,
   "metadata": {},
   "outputs": [
    {
     "name": "stderr",
     "output_type": "stream",
     "text": [
      "/usr/local/lib/python3.5/dist-packages/sklearn/svm/base.py:241: ConvergenceWarning: Solver terminated early (max_iter=10000).  Consider pre-processing your data with StandardScaler or MinMaxScaler.\n",
      "  % self.max_iter, ConvergenceWarning)\n"
     ]
    },
    {
     "data": {
      "text/plain": [
       "Pipeline(memory=None,\n",
       "         steps=[('classifier',\n",
       "                 SVC(C=1.0, cache_size=200, class_weight=None, coef0=0.0,\n",
       "                     decision_function_shape='ovr', degree=3, gamma='scale',\n",
       "                     kernel='linear', max_iter=10000, probability=False,\n",
       "                     random_state=None, shrinking=True, tol=1e-06,\n",
       "                     verbose=False))],\n",
       "         verbose=False)"
      ]
     },
     "execution_count": 47,
     "metadata": {},
     "output_type": "execute_result"
    }
   ],
   "source": [
    "final_model.fit(x_train, y_train)"
   ]
  },
  {
   "cell_type": "code",
   "execution_count": 48,
   "metadata": {},
   "outputs": [
    {
     "data": {
      "text/plain": [
       "0.8903622215778859"
      ]
     },
     "execution_count": 48,
     "metadata": {},
     "output_type": "execute_result"
    }
   ],
   "source": [
    "predictions = final_model.predict(x_test)\n",
    "roc_auc_score(predictions, y_test)"
   ]
  },
  {
   "cell_type": "code",
   "execution_count": 49,
   "metadata": {},
   "outputs": [
    {
     "name": "stdout",
     "output_type": "stream",
     "text": [
      "              precision    recall  f1-score   support\n",
      "\n",
      "           0       0.89      0.89      0.89     12500\n",
      "           1       0.89      0.90      0.89     12500\n",
      "\n",
      "    accuracy                           0.89     25000\n",
      "   macro avg       0.89      0.89      0.89     25000\n",
      "weighted avg       0.89      0.89      0.89     25000\n",
      "\n"
     ]
    }
   ],
   "source": [
    "print(classification_report(y_test, predictions))"
   ]
  },
  {
   "cell_type": "code",
   "execution_count": 50,
   "metadata": {
    "collapsed": true
   },
   "outputs": [],
   "source": [
    "coeficientrs = final_model.steps[0][1].coef_.toarray()"
   ]
  },
  {
   "cell_type": "code",
   "execution_count": 51,
   "metadata": {},
   "outputs": [
    {
     "data": {
      "text/plain": [
       "1724825"
      ]
     },
     "execution_count": 51,
     "metadata": {},
     "output_type": "execute_result"
    }
   ],
   "source": [
    "len(coeficientrs[0])"
   ]
  },
  {
   "cell_type": "code",
   "execution_count": 52,
   "metadata": {},
   "outputs": [
    {
     "data": {
      "text/plain": [
       "1724825"
      ]
     },
     "execution_count": 52,
     "metadata": {},
     "output_type": "execute_result"
    }
   ],
   "source": [
    "len(preprocessor['tfidf'].vocabulary_)"
   ]
  },
  {
   "cell_type": "code",
   "execution_count": 53,
   "metadata": {
    "collapsed": true
   },
   "outputs": [],
   "source": [
    "words_importance = {k: abs(coeficientrs[0][v]) for k, v in preprocessor['tfidf'].vocabulary_.items()}"
   ]
  },
  {
   "cell_type": "code",
   "execution_count": 54,
   "metadata": {},
   "outputs": [
    {
     "data": {
      "text/plain": [
       "[('bad', 8.215728197193947),\n",
       " ('awful', 5.0529602900061885),\n",
       " ('waste', 5.004914361581078),\n",
       " ('great', 4.955918662341306),\n",
       " ('bore', 4.955086883267302),\n",
       " ('excellent', 4.612209487379359),\n",
       " ('poor', 4.319593073857386),\n",
       " ('fail', 3.8560372880337996),\n",
       " ('dull', 3.8372078204928344),\n",
       " ('perfect', 3.7745103242127644)]"
      ]
     },
     "execution_count": 54,
     "metadata": {},
     "output_type": "execute_result"
    }
   ],
   "source": [
    "import operator\n",
    "sorted(words_importance.items(), key=operator.itemgetter(1), reverse=True)[:10]"
   ]
  },
  {
   "cell_type": "code",
   "execution_count": 55,
   "metadata": {
    "collapsed": true
   },
   "outputs": [],
   "source": [
    "from PIL import Image\n",
    "import matplotlib.pyplot as plt"
   ]
  },
  {
   "cell_type": "code",
   "execution_count": 56,
   "metadata": {},
   "outputs": [
    {
     "data": {
      "text/plain": [
       "<matplotlib.image.AxesImage at 0x7fc418e5af60>"
      ]
     },
     "execution_count": 56,
     "metadata": {},
     "output_type": "execute_result"
    },
    {
     "data": {
      "image/png": "[encoded data removed]",
      "text/plain": [
       "<Figure size 432x288 with 1 Axes>"
      ]
     },
     "metadata": {
      "needs_background": "light"
     },
     "output_type": "display_data"
    }
   ],
   "source": [
    "from wordcloud import WordCloud \n",
    "wc = WordCloud().generate_from_frequencies(words_importance)\n",
    "plt.imshow(wc)"
   ]
  },
  {
   "cell_type": "markdown",
   "metadata": {},
   "source": [
    "### Additional research.  Comparison with Spark"
   ]
  },
  {
   "cell_type": "code",
   "execution_count": 1,
   "metadata": {
    "collapsed": true
   },
   "outputs": [],
   "source": [
    "import pyspark\n",
    "from pyspark.ml.feature import HashingTF, IDF, Tokenizer\n",
    "from pyspark.ml.feature import StopWordsRemover\n",
    "from pyspark.ml.feature import NGram\n",
    "from pyspark.ml.classification import NaiveBayes, NaiveBayesModel, LinearSVC"
   ]
  },
  {
   "cell_type": "code",
   "execution_count": 2,
   "metadata": {
    "collapsed": true
   },
   "outputs": [],
   "source": [
    "from itertools import chain\n",
    "from pyspark.sql.functions import col, udf\n",
    "from pyspark.sql.types import *\n",
    "\n",
    "\n",
    "def concat(type):\n",
    "    def concat_(*args):\n",
    "        return list(chain.from_iterable((arg if arg else [] for arg in args)))\n",
    "    return udf(concat_, ArrayType(type))"
   ]
  },
  {
   "cell_type": "code",
   "execution_count": 3,
   "metadata": {
    "collapsed": true
   },
   "outputs": [],
   "source": [
    "session = pyspark.sql.SparkSession.Builder().getOrCreate()"
   ]
  },
  {
   "cell_type": "code",
   "execution_count": 4,
   "metadata": {
    "collapsed": true
   },
   "outputs": [],
   "source": [
    "train_sdf = session.read.parquet('train.parquet').select('category', 'review')\n",
    "test_sdf = session.read.parquet('test.parquet').select('category', 'review')"
   ]
  },
  {
   "cell_type": "code",
   "execution_count": 5,
   "metadata": {
    "collapsed": true
   },
   "outputs": [],
   "source": [
    "tokenizer = Tokenizer(inputCol=\"review\", outputCol=\"words\")\n",
    "train_wordsData = tokenizer.transform(train_sdf).drop('review')\n",
    "test_wordsData = tokenizer.transform(test_sdf).drop('review')"
   ]
  },
  {
   "cell_type": "code",
   "execution_count": 6,
   "metadata": {
    "collapsed": true
   },
   "outputs": [],
   "source": [
    "# remover = StopWordsRemover(inputCol=\"words\", outputCol=\"filtered\")\n",
    "# train_wordsData = remover.transform(train_wordsData).drop('words')\n",
    "# test_wordsData = remover.transform(test_wordsData).drop('words')"
   ]
  },
  {
   "cell_type": "code",
   "execution_count": 7,
   "metadata": {
    "collapsed": true
   },
   "outputs": [],
   "source": [
    "ngram = NGram(n=2, inputCol=\"words\", outputCol=\"ngrams2\")\n",
    "train_wordsData = ngram.transform(train_wordsData)\n",
    "test_wordsData = ngram.transform(test_wordsData)\n",
    "\n",
    "ngram = NGram(n=3, inputCol=\"words\", outputCol=\"ngrams3\")\n",
    "train_wordsData = ngram.transform(train_wordsData)\n",
    "test_wordsData = ngram.transform(test_wordsData)"
   ]
  },
  {
   "cell_type": "code",
   "execution_count": 8,
   "metadata": {
    "collapsed": true
   },
   "outputs": [],
   "source": [
    "concat_string_arrays = concat(StringType())\n",
    "train_wordsData = train_wordsData.withColumn('concat', concat_string_arrays(\"ngrams2\", \"ngrams3\")).drop('ngrams2', 'ngrams3')\n",
    "test_wordsData = test_wordsData.withColumn('concat', concat_string_arrays(\"ngrams2\", \"ngrams3\")).drop('ngrams2', 'ngrams3')"
   ]
  },
  {
   "cell_type": "code",
   "execution_count": 9,
   "metadata": {},
   "outputs": [
    {
     "name": "stdout",
     "output_type": "stream",
     "text": [
      "+--------+--------------------+--------------------+\n",
      "|category|               words|              concat|\n",
      "+--------+--------------------+--------------------+\n",
      "|       1|[this, is, defini...|[this is, is defi...|\n",
      "|       1|[eisenstein, desc...|[eisenstein descr...|\n",
      "+--------+--------------------+--------------------+\n",
      "\n"
     ]
    }
   ],
   "source": [
    "test_wordsData.limit(2).show()"
   ]
  },
  {
   "cell_type": "code",
   "execution_count": 10,
   "metadata": {},
   "outputs": [],
   "source": [
    "hashingTF = HashingTF(inputCol=\"concat\", outputCol=\"rawFeatures\", numFeatures=4194304)\n",
    "train_featurizedData = hashingTF.transform(train_wordsData)\n",
    "test_featurizedData = hashingTF.transform(test_wordsData)"
   ]
  },
  {
   "cell_type": "code",
   "execution_count": 11,
   "metadata": {
    "collapsed": true
   },
   "outputs": [],
   "source": [
    "idf = IDF(inputCol=\"rawFeatures\", outputCol=\"features\")\n",
    "idfModel = idf.fit(train_featurizedData)\n",
    "train_rescaledData = idfModel.transform(train_featurizedData)\n",
    "test_rescaledData = idfModel.transform(test_featurizedData)\n",
    "\n",
    "prepared_train = train_rescaledData.select(\"category\", \"features\").withColumnRenamed(\"category\", \"label\")\n",
    "prepared_test = test_rescaledData.select(\"category\", \"features\").withColumnRenamed(\"category\", \"label\")"
   ]
  },
  {
   "cell_type": "code",
   "execution_count": 12,
   "metadata": {},
   "outputs": [
    {
     "name": "stdout",
     "output_type": "stream",
     "text": [
      "+-----+--------------------+\n",
      "|label|            features|\n",
      "+-----+--------------------+\n",
      "|    0|(4194304,[1495,26...|\n",
      "|    0|(4194304,[20305,4...|\n",
      "+-----+--------------------+\n",
      "\n"
     ]
    }
   ],
   "source": [
    "prepared_train.limit(2).show()"
   ]
  },
  {
   "cell_type": "code",
   "execution_count": 13,
   "metadata": {
    "collapsed": true
   },
   "outputs": [],
   "source": [
    "from sklearn.metrics import roc_auc_score, make_scorer"
   ]
  },
  {
   "cell_type": "code",
   "execution_count": 16,
   "metadata": {},
   "outputs": [
    {
     "data": {
      "text/plain": [
       "0.8008681920716808"
      ]
     },
     "execution_count": 16,
     "metadata": {},
     "output_type": "execute_result"
    }
   ],
   "source": [
    "nb = NaiveBayes(smoothing=1.0)\n",
    "model = nb.fit(prepared_train)\n",
    "result = model.transform(prepared_test)\n",
    "pd_resullt = result.select('label', 'prediction').toPandas()\n",
    "roc_auc_score(pd_resullt['prediction'], pd_resullt['label'])"
   ]
  },
  {
   "cell_type": "code",
   "execution_count": 17,
   "metadata": {},
   "outputs": [
    {
     "data": {
      "text/plain": [
       "0.8172002317223751"
      ]
     },
     "execution_count": 17,
     "metadata": {},
     "output_type": "execute_result"
    }
   ],
   "source": [
    "nb = NaiveBayes(smoothing=2.0)\n",
    "model = nb.fit(prepared_train)\n",
    "result = model.transform(prepared_test)\n",
    "pd_resullt = result.select('label', 'prediction').toPandas()\n",
    "roc_auc_score(pd_resullt['prediction'], pd_resullt['label'])"
   ]
  },
  {
   "cell_type": "code",
   "execution_count": 18,
   "metadata": {},
   "outputs": [
    {
     "data": {
      "text/plain": [
       "0.8342285060115242"
      ]
     },
     "execution_count": 18,
     "metadata": {},
     "output_type": "execute_result"
    }
   ],
   "source": [
    "nb = NaiveBayes(smoothing=4.0)\n",
    "model = nb.fit(prepared_train)\n",
    "result = model.transform(prepared_test)\n",
    "pd_resullt = result.select('label', 'prediction').toPandas()\n",
    "roc_auc_score(pd_resullt['prediction'], pd_resullt['label'])"
   ]
  },
  {
   "cell_type": "code",
   "execution_count": 14,
   "metadata": {},
   "outputs": [
    {
     "data": {
      "text/plain": [
       "0.8543450646941204"
      ]
     },
     "execution_count": 14,
     "metadata": {},
     "output_type": "execute_result"
    }
   ],
   "source": [
    "nb = NaiveBayes(smoothing=10.0)\n",
    "model = nb.fit(prepared_train)\n",
    "result = model.transform(prepared_test)\n",
    "pd_resullt = result.select('label', 'prediction').toPandas()\n",
    "roc_auc_score(pd_resullt['prediction'], pd_resullt['label'])"
   ]
  },
  {
   "cell_type": "code",
   "execution_count": 15,
   "metadata": {},
   "outputs": [
    {
     "data": {
      "text/plain": [
       "0.8735388512641297"
      ]
     },
     "execution_count": 15,
     "metadata": {},
     "output_type": "execute_result"
    }
   ],
   "source": [
    "nb = NaiveBayes(smoothing=100.0)\n",
    "model = nb.fit(prepared_train)\n",
    "result = model.transform(prepared_test)\n",
    "pd_resullt = result.select('label', 'prediction').toPandas()\n",
    "roc_auc_score(pd_resullt['prediction'], pd_resullt['label'])"
   ]
  },
  {
   "cell_type": "markdown",
   "metadata": {},
   "source": [
    "Interesting. What abut Sklearn?"
   ]
  },
  {
   "cell_type": "code",
   "execution_count": 61,
   "metadata": {},
   "outputs": [
    {
     "data": {
      "text/plain": [
       "0.8614320608505054"
      ]
     },
     "execution_count": 61,
     "metadata": {},
     "output_type": "execute_result"
    }
   ],
   "source": [
    "md = naive_bayes.MultinomialNB(alpha=1.0)\n",
    "md.fit(x_train, y_train)\n",
    "pred = md.predict(x_test)\n",
    "roc_auc_score(pred, y_test)"
   ]
  },
  {
   "cell_type": "code",
   "execution_count": 62,
   "metadata": {},
   "outputs": [
    {
     "data": {
      "text/plain": [
       "0.8552201994797477"
      ]
     },
     "execution_count": 62,
     "metadata": {},
     "output_type": "execute_result"
    }
   ],
   "source": [
    "md = naive_bayes.MultinomialNB(alpha=10.0)\n",
    "md.fit(x_train, y_train)\n",
    "pred = md.predict(x_test)\n",
    "roc_auc_score(pred, y_test)"
   ]
  },
  {
   "cell_type": "code",
   "execution_count": 63,
   "metadata": {},
   "outputs": [
    {
     "data": {
      "text/plain": [
       "0.8494364384809375"
      ]
     },
     "execution_count": 63,
     "metadata": {},
     "output_type": "execute_result"
    }
   ],
   "source": [
    "md = naive_bayes.MultinomialNB(alpha=20.0)\n",
    "md.fit(x_train, y_train)\n",
    "pred = md.predict(x_test)\n",
    "roc_auc_score(pred, y_test)"
   ]
  },
  {
   "cell_type": "code",
   "execution_count": 64,
   "metadata": {},
   "outputs": [
    {
     "data": {
      "text/plain": [
       "0.8392917608403213"
      ]
     },
     "execution_count": 64,
     "metadata": {},
     "output_type": "execute_result"
    }
   ],
   "source": [
    "md = naive_bayes.MultinomialNB(alpha=100.0)\n",
    "md.fit(x_train, y_train)\n",
    "pred = md.predict(x_test)\n",
    "roc_auc_score(pred, y_test)"
   ]
  },
  {
   "cell_type": "code",
   "execution_count": null,
   "metadata": {
    "collapsed": true
   },
   "outputs": [],
   "source": []
  },
  {
   "cell_type": "code",
   "execution_count": null,
   "metadata": {
    "collapsed": true
   },
   "outputs": [],
   "source": []
  },
  {
   "cell_type": "code",
   "execution_count": null,
   "metadata": {
    "collapsed": true
   },
   "outputs": [],
   "source": []
  }
 ],
 "metadata": {
  "kernelspec": {
   "display_name": "Local PySpark (Python-3.5 / Spark-2.3.0 )",
   "language": "python",
   "name": "py3spark_local"
  },
  "language_info": {
   "codemirror_mode": {
    "name": "ipython",
    "version": 3
   },
   "file_extension": ".py",
   "mimetype": "text/x-python",
   "name": "python",
   "nbconvert_exporter": "python",
   "pygments_lexer": "ipython3",
   "version": "3.5.2"
  }
 },
 "nbformat": 4,
 "nbformat_minor": 2
}
