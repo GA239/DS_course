{
 "cells": [
  {
   "cell_type": "markdown",
   "metadata": {
    "toc": true
   },
   "source": [
    "<h1>Table of Contents<span class=\"tocSkip\"></span></h1>\n",
    "<div class=\"toc\"><ul class=\"toc-item\"><li><span><a href=\"#Stratification\" data-toc-modified-id=\"Stratification-1\"><span class=\"toc-item-num\">1&nbsp;&nbsp;</span>Stratification</a></span><ul class=\"toc-item\"><li><span><a href=\"#Experiments\" data-toc-modified-id=\"Experiments-1.1\"><span class=\"toc-item-num\">1.1&nbsp;&nbsp;</span>Experiments</a></span><ul class=\"toc-item\"><li><span><a href=\"#Same-expectation-and-variance\" data-toc-modified-id=\"Same-expectation-and-variance-1.1.1\"><span class=\"toc-item-num\">1.1.1&nbsp;&nbsp;</span>Same expectation and variance</a></span></li><li><span><a href=\"#Different-expectation-Same-variance\" data-toc-modified-id=\"Different-expectation-Same-variance-1.1.2\"><span class=\"toc-item-num\">1.1.2&nbsp;&nbsp;</span>Different expectation Same variance</a></span></li><li><span><a href=\"#Different-expectation-and-variance\" data-toc-modified-id=\"Different-expectation-and-variance-1.1.3\"><span class=\"toc-item-num\">1.1.3&nbsp;&nbsp;</span>Different expectation and variance</a></span></li></ul></li></ul></li></ul></div>"
   ]
  },
  {
   "cell_type": "markdown",
   "metadata": {},
   "source": [
    "# Stratification"
   ]
  },
  {
   "cell_type": "code",
   "execution_count": 1,
   "metadata": {},
   "outputs": [],
   "source": [
    "%matplotlib inline"
   ]
  },
  {
   "cell_type": "code",
   "execution_count": 2,
   "metadata": {},
   "outputs": [],
   "source": [
    "import os\n",
    "from functools import reduce\n",
    "from operator import mul\n",
    "from collections import defaultdict\n",
    "\n",
    "import pandas as pd\n",
    "import numpy as np\n",
    "import matplotlib\n",
    "import matplotlib.pyplot as plt\n",
    "from scipy import stats\n",
    "from tqdm import tqdm"
   ]
  },
  {
   "cell_type": "code",
   "execution_count": 3,
   "metadata": {},
   "outputs": [],
   "source": [
    "def generate_distributions(means, sigmas, strat_coefficients, V=10000):\n",
    "    assert sum(strat_coefficients) == 1\n",
    "    parts = np.round(V * strat_coefficients).astype(int)\n",
    "    return [np.random.normal(m, s, k) for m, s, k in zip(means, sigmas, parts)]\n",
    "\n",
    "\n",
    "def get_optimal_sample_coefficients(distributions, strat_coefficients, sample_size):\n",
    "    _sigmas = np.array([np.std(dist) for dist in distributions])\n",
    "    mul_pairs = _sigmas * strat_coefficients\n",
    "    return np.round(sample_size * mul_pairs / sum(mul_pairs)).astype(int)\n",
    "\n",
    "\n",
    "def get_proportional_sample_coefficients(strat_coefficients, sample_size):\n",
    "    return np.round(sample_size * strat_coefficients).astype(int)\n",
    "\n",
    "\n",
    "def get_sample(distributions, ns):\n",
    "    return np.concatenate([np.random.choice(dist, size) for dist, size in zip(distributions, ns)])\n",
    "\n",
    "\n",
    "def get_samples(distributions, proportional_n, optimal_n):\n",
    "    # simple\n",
    "    yield np.random.choice(np.concatenate(distributions), sum(optimal_n))\n",
    "    \n",
    "    # proportional \n",
    "    yield get_sample(distributions, proportional_n)\n",
    "\n",
    "    # optimal\n",
    "    yield get_sample(distributions, optimal_n)\n",
    "\n",
    "    \n",
    "def update_result_dict(result_dict, res):\n",
    "    result_dict['simple_mean'].append(res[0][0])\n",
    "    result_dict['simple_var'].append(res[0][1])\n",
    "\n",
    "    result_dict['proportional_mean'].append(res[1][0])\n",
    "    result_dict['proportional_var'].append(res[1][1])\n",
    "\n",
    "    result_dict['optimal_mean'].append(res[2][0])\n",
    "    result_dict['optimal_var'].append(res[2][1])\n",
    "\n",
    "    \n",
    "def experiment(distributions, proportional_n, optimal_n):    \n",
    "    return [(np.mean(sample), np.var(sample)) for sample in get_samples(distributions, proportional_n, optimal_n)]\n",
    "    \n",
    "    \n",
    "def run_experiment(sample_size, means, sigmas, strat_coefficients, retry=1000):\n",
    "    distributions = generate_distributions(means, sigmas, strat_coefficients)\n",
    "    \n",
    "    proportional_n = get_proportional_sample_coefficients(strat_coefficients, sample_size)\n",
    "    display('proportional_n = {}'.format(proportional_n))\n",
    "\n",
    "    optimal_n = get_optimal_sample_coefficients(distributions, strat_coefficients, sample_size)\n",
    "    display('optimal_n = {}'.format(optimal_n))\n",
    "\n",
    "    result = defaultdict(list)\n",
    "    for _ in tqdm(range(retry)):\n",
    "        update_result_dict(result, experiment(distributions, proportional_n, optimal_n))\n",
    "\n",
    "    real_mean = sum(means * strat_coefficients)\n",
    "    # real_var = sum((sigmas ** 2) * strat_coefficients) + sum(((real_mean - means) ** 2) * strat_coefficients)\n",
    "        \n",
    "    fig, axs = plt.subplots(1, 2)\n",
    "    fig.set_size_inches(16, 8)\n",
    "    axs[0].boxplot([result['simple_mean'], result['proportional_mean'], result['optimal_mean']])\n",
    "    axs[0].set_title('mean')\n",
    "    axs[0].set_xticklabels(['simple', 'proportional', 'optimal'], fontsize=14)\n",
    "    axs[0].plot(range(5), np.repeat(real_mean, 5), label='mean')\n",
    "    # legend = axs[0].legend(loc='upper center', fontsize='x-large')\n",
    "\n",
    "    axs[1].boxplot([result['simple_var'], result['proportional_var'], result['optimal_var']])\n",
    "    axs[1].set_title('var')\n",
    "    axs[1].set_xticklabels(['simple', 'proportional', 'optimal'], fontsize=14)\n",
    "    return result "
   ]
  },
  {
   "cell_type": "markdown",
   "metadata": {},
   "source": [
    "## Experiments"
   ]
  },
  {
   "cell_type": "markdown",
   "metadata": {},
   "source": [
    "### Same expectation and variance"
   ]
  },
  {
   "cell_type": "markdown",
   "metadata": {},
   "source": [
    "В процессе моделирования, из генеральной совокупности случайной величины (являющейся смесью трёх нормально распределённых случайных величин) извлекались выборки объма 40 и 500 тремя различными способами:\n",
    "\n",
    "* Прстое случайное сэмплирование\n",
    "* Пропорциональное сэмплирвоание\n",
    "* Оптимальное сэмплирвоание\n",
    "\n",
    "По извлечённым выборкам строились оценки математического ожидания и дисперсии исследуемой случайной величины. Эксперимент повторялся 1000 раз, и по результатам серии экспериментов сравнивались характеристики получившихся оценок."
   ]
  },
  {
   "cell_type": "code",
   "execution_count": 4,
   "metadata": {},
   "outputs": [
    {
     "data": {
      "text/plain": [
       "1.0"
      ]
     },
     "execution_count": 4,
     "metadata": {},
     "output_type": "execute_result"
    }
   ],
   "source": [
    "MEANS=np.array([0.0, 0.0, 0.0])\n",
    "SIGMAS=np.array([1.0, 1.0, 1.0])\n",
    "STRAT_COEFFICIENTS=np.array([0.5, 0.2, 0.3])\n",
    "sum(STRAT_COEFFICIENTS)"
   ]
  },
  {
   "cell_type": "code",
   "execution_count": 5,
   "metadata": {},
   "outputs": [
    {
     "data": {
      "text/plain": [
       "'proportional_n = [20  8 12]'"
      ]
     },
     "metadata": {},
     "output_type": "display_data"
    },
    {
     "data": {
      "text/plain": [
       "'optimal_n = [20  8 12]'"
      ]
     },
     "metadata": {},
     "output_type": "display_data"
    },
    {
     "name": "stderr",
     "output_type": "stream",
     "text": [
      "100%|██████████| 1000/1000 [00:00<00:00, 3425.97it/s]\n"
     ]
    },
    {
     "data": {
      "text/plain": [
       "'РаВные мат ожидания и РаВные дисперсии | V = 40'"
      ]
     },
     "metadata": {},
     "output_type": "display_data"
    },
    {
     "data": {
      "image/png": "[encoded data removed]",
      "text/plain": [
       "<matplotlib.figure.Figure at 0x7ff4cf2695c0>"
      ]
     },
     "metadata": {},
     "output_type": "display_data"
    }
   ],
   "source": [
    "run_experiment(40, means=MEANS, sigmas=SIGMAS, strat_coefficients=STRAT_COEFFICIENTS)\n",
    "display('РаВные мат ожидания и РаВные дисперсии | V = 40')"
   ]
  },
  {
   "cell_type": "code",
   "execution_count": 6,
   "metadata": {
    "scrolled": true
   },
   "outputs": [
    {
     "data": {
      "text/plain": [
       "'proportional_n = [250 100 150]'"
      ]
     },
     "metadata": {},
     "output_type": "display_data"
    },
    {
     "data": {
      "text/plain": [
       "'optimal_n = [252  98 150]'"
      ]
     },
     "metadata": {},
     "output_type": "display_data"
    },
    {
     "name": "stderr",
     "output_type": "stream",
     "text": [
      "100%|██████████| 1000/1000 [00:00<00:00, 2841.33it/s]\n"
     ]
    },
    {
     "data": {
      "text/plain": [
       "'РаВные мат ожидания и РаВные дисперсии V = 500'"
      ]
     },
     "metadata": {},
     "output_type": "display_data"
    },
    {
     "data": {
      "image/png": "[encoded data removed]",
      "text/plain": [
       "<matplotlib.figure.Figure at 0x7ff4cad63ac8>"
      ]
     },
     "metadata": {},
     "output_type": "display_data"
    }
   ],
   "source": [
    "run_experiment(500, means=MEANS, sigmas=SIGMAS, strat_coefficients=STRAT_COEFFICIENTS)\n",
    "display('РаВные мат ожидания и РаВные дисперсии V = 500')"
   ]
  },
  {
   "cell_type": "markdown",
   "metadata": {},
   "source": [
    "По результатам моделирования можно сделать следующие выводы: \n",
    "В случае одинаковых мат ожиданий и дисперсий оценка мат ожидания, полученная любым из способов является несмещённой, в то время как оценка дисперсии получилась смещённая для всех способов (?? противоречит лекции). С увеличением объёма выборки оценка построенаая по без стратификации прилижается к той, что получена с учётом стратификации, однако остаётся смещённой относительно настоящего значения. \n",
    "\n",
    "Разброс оценок мат ожидания квартили и интерквартильный разброс практически совпадают, независимо от метода. Для оценок дисперсии ситуации аналогична. \n",
    "\n",
    "Таким образом, в данном случае применение стратификации - нецелесообразно."
   ]
  },
  {
   "cell_type": "markdown",
   "metadata": {},
   "source": [
    "### Different expectation Same variance"
   ]
  },
  {
   "cell_type": "code",
   "execution_count": 7,
   "metadata": {},
   "outputs": [],
   "source": [
    "MEANS=np.array([5.0, 2.0, 0.0])"
   ]
  },
  {
   "cell_type": "code",
   "execution_count": 8,
   "metadata": {},
   "outputs": [],
   "source": [
    "# run_experiment(40, means=MEANS, sigmas=SIGMAS, strat_coefficients=STRAT_COEFFICIENTS)\n",
    "# display('РаЗные мат ожидания и РаВные дисперсии | V = 40')"
   ]
  },
  {
   "cell_type": "code",
   "execution_count": 9,
   "metadata": {},
   "outputs": [],
   "source": [
    "# run_experiment(500, means=MEANS, sigmas=SIGMAS, strat_coefficients=STRAT_COEFFICIENTS)\n",
    "# display('РаЗные мат ожидания и РаВные дисперсии | V = 500')"
   ]
  },
  {
   "cell_type": "markdown",
   "metadata": {},
   "source": [
    "По результатам моделирования можно сделать следующие выводы: \n"
   ]
  },
  {
   "cell_type": "markdown",
   "metadata": {},
   "source": [
    "### Different expectation and variance"
   ]
  },
  {
   "cell_type": "code",
   "execution_count": 10,
   "metadata": {},
   "outputs": [],
   "source": [
    "SIGMAS=np.array([0.5, 1.0, 2.0])"
   ]
  },
  {
   "cell_type": "code",
   "execution_count": 11,
   "metadata": {},
   "outputs": [
    {
     "data": {
      "text/plain": [
       "'proportional_n = [20  8 12]'"
      ]
     },
     "metadata": {},
     "output_type": "display_data"
    },
    {
     "data": {
      "text/plain": [
       "'optimal_n = [ 9  8 23]'"
      ]
     },
     "metadata": {},
     "output_type": "display_data"
    },
    {
     "name": "stderr",
     "output_type": "stream",
     "text": [
      "100%|██████████| 1000/1000 [00:00<00:00, 3427.39it/s]\n"
     ]
    },
    {
     "data": {
      "text/plain": [
       "'РаЗные мат ожидания и РаЗные дисперсии | V = 40'"
      ]
     },
     "metadata": {},
     "output_type": "display_data"
    },
    {
     "data": {
      "image/png": "[encoded data removed]",
      "text/plain": [
       "<matplotlib.figure.Figure at 0x7ff4c17f4ba8>"
      ]
     },
     "metadata": {},
     "output_type": "display_data"
    }
   ],
   "source": [
    "run_experiment(40, means=MEANS, sigmas=SIGMAS, strat_coefficients=STRAT_COEFFICIENTS)\n",
    "display('РаЗные мат ожидания и РаЗные дисперсии | V = 40')"
   ]
  },
  {
   "cell_type": "code",
   "execution_count": 12,
   "metadata": {},
   "outputs": [
    {
     "data": {
      "text/plain": [
       "'proportional_n = [250 100 150]'"
      ]
     },
     "metadata": {},
     "output_type": "display_data"
    },
    {
     "data": {
      "text/plain": [
       "'optimal_n = [119  93 287]'"
      ]
     },
     "metadata": {},
     "output_type": "display_data"
    },
    {
     "name": "stderr",
     "output_type": "stream",
     "text": [
      "100%|██████████| 1000/1000 [00:00<00:00, 2727.33it/s]\n"
     ]
    },
    {
     "data": {
      "text/plain": [
       "'РаЗные мат ожидания и РаЗные дисперсии | V = 500'"
      ]
     },
     "metadata": {},
     "output_type": "display_data"
    },
    {
     "data": {
      "image/png": "[encoded data removed]",
      "text/plain": [
       "<matplotlib.figure.Figure at 0x7ff4c16f5710>"
      ]
     },
     "metadata": {},
     "output_type": "display_data"
    }
   ],
   "source": [
    "run_experiment(500, means=MEANS, sigmas=SIGMAS, strat_coefficients=STRAT_COEFFICIENTS)\n",
    "display('РаЗные мат ожидания и РаЗные дисперсии | V = 500')"
   ]
  },
  {
   "cell_type": "markdown",
   "metadata": {},
   "source": [
    "Вот здесь я получаю очень сильное смещение в оценке среднего и рост дисперсии в случае **оптимального** сэмплирвоания. \n",
    "\n",
    "Однако этот метод сэмплирования должен давать противоположный результат. В то же время я не вижу ничего неожиданного в результатах, ведь согласно формуле мы будем брать больше точек из той страты, дисперсия которой больше. Вот и получается что  мы тянем больше из последней, смещая таким образом оценку мат ожидания в сторону актуального для третьей страты значения мат ожидания. "
   ]
  },
  {
   "cell_type": "code",
   "execution_count": null,
   "metadata": {},
   "outputs": [],
   "source": []
  },
  {
   "cell_type": "code",
   "execution_count": null,
   "metadata": {},
   "outputs": [],
   "source": []
  }
 ],
 "metadata": {
  "kernelspec": {
   "display_name": "Python 3",
   "language": "python",
   "name": "python3"
  },
  "language_info": {
   "codemirror_mode": {
    "name": "ipython",
    "version": 3
   },
   "file_extension": ".py",
   "mimetype": "text/x-python",
   "name": "python",
   "nbconvert_exporter": "python",
   "pygments_lexer": "ipython3",
   "version": "3.6.8"
  },
  "toc": {
   "base_numbering": 1,
   "nav_menu": {},
   "number_sections": true,
   "sideBar": true,
   "skip_h1_title": false,
   "title_cell": "Table of Contents",
   "title_sidebar": "Contents",
   "toc_cell": true,
   "toc_position": {},
   "toc_section_display": true,
   "toc_window_display": true
  }
 },
 "nbformat": 4,
 "nbformat_minor": 2
}
