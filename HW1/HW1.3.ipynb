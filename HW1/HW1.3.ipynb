{
 "cells": [
  {
   "cell_type": "markdown",
   "metadata": {
    "toc": true
   },
   "source": [
    "<h1>Table of Contents<span class=\"tocSkip\"></span></h1>\n",
    "<div class=\"toc\"><ul class=\"toc-item\"><li><span><a href=\"#SPRT\" data-toc-modified-id=\"SPRT-1\"><span class=\"toc-item-num\">1&nbsp;&nbsp;</span><a href=\"https://en.wikipedia.org/wiki/Sequential_probability_ratio_test\" target=\"_blank\">SPRT</a></a></span><ul class=\"toc-item\"><li><span><a href=\"#Задача\" data-toc-modified-id=\"Задача-1.1\"><span class=\"toc-item-num\">1.1&nbsp;&nbsp;</span>Задача</a></span></li><li><span><a href=\"#Решение\" data-toc-modified-id=\"Решение-1.2\"><span class=\"toc-item-num\">1.2&nbsp;&nbsp;</span>Решение</a></span><ul class=\"toc-item\"><li><span><a href=\"#Формулы\" data-toc-modified-id=\"Формулы-1.2.1\"><span class=\"toc-item-num\">1.2.1&nbsp;&nbsp;</span>Формулы</a></span><ul class=\"toc-item\"><li><span><a href=\"#The-next-step\" data-toc-modified-id=\"The-next-step-1.2.1.1\"><span class=\"toc-item-num\">1.2.1.1&nbsp;&nbsp;</span>The next step</a></span></li><li><span><a href=\"#The-stopping-rule\" data-toc-modified-id=\"The-stopping-rule-1.2.1.2\"><span class=\"toc-item-num\">1.2.1.2&nbsp;&nbsp;</span>The stopping rule</a></span></li><li><span><a href=\"#Formulas\" data-toc-modified-id=\"Formulas-1.2.1.3\"><span class=\"toc-item-num\">1.2.1.3&nbsp;&nbsp;</span>Formulas</a></span></li></ul></li></ul></li><li><span><a href=\"#Константы\" data-toc-modified-id=\"Константы-1.3\"><span class=\"toc-item-num\">1.3&nbsp;&nbsp;</span>Константы</a></span></li><li><span><a href=\"#Код\" data-toc-modified-id=\"Код-1.4\"><span class=\"toc-item-num\">1.4&nbsp;&nbsp;</span>Код</a></span></li><li><span><a href=\"#Эксперименты\" data-toc-modified-id=\"Эксперименты-1.5\"><span class=\"toc-item-num\">1.5&nbsp;&nbsp;</span>Эксперименты</a></span></li><li><span><a href=\"#Поменяем-доли-компонент-в-смеси\" data-toc-modified-id=\"Поменяем-доли-компонент-в-смеси-1.6\"><span class=\"toc-item-num\">1.6&nbsp;&nbsp;</span>Поменяем доли компонент в смеси</a></span></li><li><span><a href=\"#Оценим-средний-объём-выборки.\" data-toc-modified-id=\"Оценим-средний-объём-выборки.-1.7\"><span class=\"toc-item-num\">1.7&nbsp;&nbsp;</span>Оценим средний объём выборки.</a></span></li></ul></li></ul></div>"
   ]
  },
  {
   "cell_type": "code",
   "execution_count": 1,
   "metadata": {},
   "outputs": [],
   "source": [
    "import pandas as pd\n",
    "import numpy as np\n",
    "import scipy.stats as sts\n",
    "import matplotlib.pyplot as plt\n",
    "\n",
    "from tqdm import tqdm"
   ]
  },
  {
   "cell_type": "code",
   "execution_count": 2,
   "metadata": {},
   "outputs": [],
   "source": [
    "%matplotlib inline"
   ]
  },
  {
   "cell_type": "markdown",
   "metadata": {},
   "source": [
    "## [SPRT](https://en.wikipedia.org/wiki/Sequential_probability_ratio_test)\n",
    "\n",
    "[Видео с объяснением](https://www.youtube.com/watch?v=4NYbTUIkBbU&index=4&list=PLlb7e2G7aSpRG_Ve6kuxc9Biuwyf42kJx) (начало 1:06:20) \n",
    "\n",
    "### Задача \n",
    "* Создайте синтетические данные полученные путем смешивания 2 выборок из нормально распределеных СВ с разными матожиданиями, но одинаковыми дисперсиями\n",
    "* Примените к сгенерированным данным последовательный критерий Вальда силы $(\\alpha, \\beta)$ (критерий Вальда должен быть реализован самостоятельно). Для этого:\n",
    "    * Задайте нулевую и альтернативную гипотезы о равенствах матожиданий конкретным величинам\n",
    "    * Задайте $\\alpha, \\beta$\n",
    "    * Выпишите формулы аппроксимации границы\n",
    "    * Провести эксперимент\n",
    "    * Результат эксперимента отобразить на графике\n",
    "* Проанализируйте поведение критерия при разных долях компонент в смеси\n",
    "* Какой объем выборок в среднем требуется для принятия решения?"
   ]
  },
  {
   "cell_type": "markdown",
   "metadata": {},
   "source": [
    "### Решение \n",
    "\n",
    "#### Формулы\n",
    "\n",
    "$$H_0: m = m_2  \\quad  H_1: m = m_1$$\n",
    "\n",
    "##### The next step\n",
    "$$S_i = S_{i-1} + log(\\Lambda_i), \\quad S_0 = 0$$\n",
    "\n",
    "##### The stopping rule\n",
    "$$a < S_i < b \\rightarrow continue$$\n",
    "$$S_i \\geq b \\rightarrow Accept \\quad H_1$$\n",
    "$$S_i \\leq a \\rightarrow Accept \\quad H_0$$\n",
    "\n",
    "##### Formulas\n",
    "\n",
    "$$ a=log(\\frac{\\beta}{1-\\alpha}) \\quad \\quad b=log(\\frac{1-\\beta}{\\alpha})$$\n",
    "\n",
    "$$f(x, m) = \\frac{1}{\\sigma \\sqrt{2 \\pi}} e^{\\frac{(x-m)^2}{2\\sigma^2}}$$\n",
    "\n",
    "$$ log(\\Lambda_i) = log(\\frac{f(x,m_1)}{f(x,m_2)}) = \\frac{m_1-m_2}{\\sigma^2} x - \\frac{m_1^2-m_2^2}{2\\sigma^2}$$\n",
    "$$a < S_i < b \\rightarrow \\frac{a \\sigma^2}{m_1-m_2} + \\frac{n(m_1+m_2)}{2} < \\sum_{i=1}^n x_i < \\frac{b \\sigma^2}{m_1-m_2} + \\frac{n(m_1+m_2)}{2} $$"
   ]
  },
  {
   "cell_type": "markdown",
   "metadata": {},
   "source": [
    "### Константы\n"
   ]
  },
  {
   "cell_type": "code",
   "execution_count": 3,
   "metadata": {},
   "outputs": [],
   "source": [
    "mean_first = 0.0\n",
    "mean_second = 5.0\n",
    "V = 10000\n",
    "sigma = 1.0"
   ]
  },
  {
   "cell_type": "markdown",
   "metadata": {},
   "source": [
    "### Код"
   ]
  },
  {
   "cell_type": "code",
   "execution_count": 4,
   "metadata": {},
   "outputs": [],
   "source": [
    "def cryteria(s, lower, upper):\n",
    "    if s >= upper:\n",
    "        return 'Accept H1'\n",
    "    elif s <= lower:\n",
    "        return 'Accept H0'\n",
    "    return 'Continue'\n",
    "\n",
    "\n",
    "def recalculate_boundaries(bound, m1, m2, sigma, n):\n",
    "    return (sigma ** 2 * bound / (m1-m2)) + n * (m1+m2) / 2\n",
    "\n",
    "\n",
    "def SPRT(values_generator, m1, m2, sigma, alpha, betta):\n",
    "    a = np.log(betta / (1-alpha))\n",
    "    b = np.log((1-betta) / alpha)\n",
    "    S = []\n",
    "    boundaries_array = []\n",
    "    for n, x in values_generator:\n",
    "        S.append(x)\n",
    "        boundaries = recalculate_boundaries(np.array([a, b]), m1, m2, sigma, n)\n",
    "        boundaries_array.append(boundaries)\n",
    "        result = cryteria(sum(S), *boundaries)\n",
    "        \n",
    "        if result != 'Continue':\n",
    "            break\n",
    "\n",
    "    b = list(zip(*boundaries_array))  \n",
    "    data = pd.DataFrame(data={'lower': b[0], 'Sn': np.cumsum(S), 'upper': b[1]})\n",
    "    return result, data \n",
    "    "
   ]
  },
  {
   "cell_type": "markdown",
   "metadata": {},
   "source": [
    "### Эксперименты"
   ]
  },
  {
   "cell_type": "code",
   "execution_count": 5,
   "metadata": {},
   "outputs": [],
   "source": [
    "def experiment(h0, h1, alpha, betta, k_first, k_second, is_plot=True):\n",
    "    first = np.random.normal(mean_first, sigma, int(k_first * V))\n",
    "    second = np.random.normal(mean_second, sigma, int(k_second * V))\n",
    "\n",
    "    distr = np.concatenate([first, second])\n",
    "    if is_plot:\n",
    "        fig, (ax1, ax2) = plt.subplots(1, 2)\n",
    "        fig.set_size_inches(15, 5)\n",
    "        pd.Series(distr).hist(bins=100)\n",
    "\n",
    "    status, data = SPRT(enumerate(distr, 1), h1, h0, sigma, alpha, betta)\n",
    "    if is_plot:\n",
    "        ax1.plot(data)\n",
    "        print('result = {}'.format(status))\n",
    "    \n",
    "    return data.transpose()"
   ]
  },
  {
   "cell_type": "code",
   "execution_count": 6,
   "metadata": {},
   "outputs": [
    {
     "name": "stdout",
     "output_type": "stream",
     "text": [
      "result = Accept H0\n"
     ]
    },
    {
     "data": {
      "text/html": [
       "<div>\n",
       "<style scoped>\n",
       "    .dataframe tbody tr th:only-of-type {\n",
       "        vertical-align: middle;\n",
       "    }\n",
       "\n",
       "    .dataframe tbody tr th {\n",
       "        vertical-align: top;\n",
       "    }\n",
       "\n",
       "    .dataframe thead th {\n",
       "        text-align: right;\n",
       "    }\n",
       "</style>\n",
       "<table border=\"1\" class=\"dataframe\">\n",
       "  <thead>\n",
       "    <tr style=\"text-align: right;\">\n",
       "      <th></th>\n",
       "      <th>0</th>\n",
       "      <th>1</th>\n",
       "      <th>2</th>\n",
       "    </tr>\n",
       "  </thead>\n",
       "  <tbody>\n",
       "    <tr>\n",
       "      <th>Sn</th>\n",
       "      <td>-1.156693</td>\n",
       "      <td>-2.377725</td>\n",
       "      <td>-3.266869</td>\n",
       "    </tr>\n",
       "    <tr>\n",
       "      <th>lower</th>\n",
       "      <td>-5.406755</td>\n",
       "      <td>-3.906755</td>\n",
       "      <td>-2.406755</td>\n",
       "    </tr>\n",
       "    <tr>\n",
       "      <th>upper</th>\n",
       "      <td>8.406755</td>\n",
       "      <td>9.906755</td>\n",
       "      <td>11.406755</td>\n",
       "    </tr>\n",
       "  </tbody>\n",
       "</table>\n",
       "</div>"
      ],
      "text/plain": [
       "              0         1          2\n",
       "Sn    -1.156693 -2.377725  -3.266869\n",
       "lower -5.406755 -3.906755  -2.406755\n",
       "upper  8.406755  9.906755  11.406755"
      ]
     },
     "execution_count": 6,
     "metadata": {},
     "output_type": "execute_result"
    },
    {
     "data": {
      "image/png": "[encoded data removed]",
      "text/plain": [
       "<matplotlib.figure.Figure at 0x7f18d3aefbe0>"
      ]
     },
     "metadata": {},
     "output_type": "display_data"
    }
   ],
   "source": [
    "alpha = 0.001 # P{H1/H0} - вероятность ошибки  первого рода (отвергнуть истинную)\n",
    "betta = 0.001 # P{H0/H1} - вероятность ошибки  второго рода (принять ложную)\n",
    "\n",
    "k_first, k_second = 0.8, 0.2\n",
    "\n",
    "h1 = 2.0\n",
    "h0 = 1.0\n",
    "\n",
    "experiment(h0, h1, alpha, betta, k_first, k_second)"
   ]
  },
  {
   "cell_type": "markdown",
   "metadata": {},
   "source": [
    "Математическое ожидание смеси = $0.8 * 0.0 + 0.2 * 0.5 = 1.0$, Нулевая гипотеза верна, что и показал критерий. Попробуем увеличить вероятность совершить ошибку второго рода, т.е. ошибочно принять нулевую гипотезу."
   ]
  },
  {
   "cell_type": "code",
   "execution_count": 7,
   "metadata": {},
   "outputs": [
    {
     "name": "stdout",
     "output_type": "stream",
     "text": [
      "result = Accept H0\n"
     ]
    },
    {
     "data": {
      "text/html": [
       "<div>\n",
       "<style scoped>\n",
       "    .dataframe tbody tr th:only-of-type {\n",
       "        vertical-align: middle;\n",
       "    }\n",
       "\n",
       "    .dataframe tbody tr th {\n",
       "        vertical-align: top;\n",
       "    }\n",
       "\n",
       "    .dataframe thead th {\n",
       "        text-align: right;\n",
       "    }\n",
       "</style>\n",
       "<table border=\"1\" class=\"dataframe\">\n",
       "  <thead>\n",
       "    <tr style=\"text-align: right;\">\n",
       "      <th></th>\n",
       "      <th>0</th>\n",
       "      <th>1</th>\n",
       "    </tr>\n",
       "  </thead>\n",
       "  <tbody>\n",
       "    <tr>\n",
       "      <th>Sn</th>\n",
       "      <td>0.778032</td>\n",
       "      <td>-0.907116</td>\n",
       "    </tr>\n",
       "    <tr>\n",
       "      <th>lower</th>\n",
       "      <td>-0.947893</td>\n",
       "      <td>-0.697893</td>\n",
       "    </tr>\n",
       "    <tr>\n",
       "      <th>upper</th>\n",
       "      <td>2.992585</td>\n",
       "      <td>3.242585</td>\n",
       "    </tr>\n",
       "  </tbody>\n",
       "</table>\n",
       "</div>"
      ],
      "text/plain": [
       "              0         1\n",
       "Sn     0.778032 -0.907116\n",
       "lower -0.947893 -0.697893\n",
       "upper  2.992585  3.242585"
      ]
     },
     "execution_count": 7,
     "metadata": {},
     "output_type": "execute_result"
    },
    {
     "data": {
      "image/png": "[encoded data removed]",
      "text/plain": [
       "<matplotlib.figure.Figure at 0x7f18fb7cd240>"
      ]
     },
     "metadata": {},
     "output_type": "display_data"
    }
   ],
   "source": [
    "alpha = 0.001 # P{H1/H0} - вероятность ошибки  первого рода (отвергнуть истинную)\n",
    "betta = 0.05 # P{H0/H1} - вероятность ошибки  второго рода (принять ложную)\n",
    "\n",
    "k_first, k_second = 0.8, 0.2\n",
    "\n",
    "h1 = 1.5\n",
    "h0 = -1.0\n",
    "\n",
    "experiment(h0, h1, alpha, betta, k_first, k_second)"
   ]
  },
  {
   "cell_type": "markdown",
   "metadata": {},
   "source": [
    "Как и ожидалось, врезультате эксперимента мы ошибочно отклонили нулевую гипотезу о равенсве мат ожидания значению -1.0."
   ]
  },
  {
   "cell_type": "markdown",
   "metadata": {},
   "source": [
    "### Поменяем доли компонент в смеси\n",
    "\n",
    "Рассмотрим смесь состояющую из равных долей компонент. Математическое ожидание смеси равно 2.5. Проверим критерий при таких данных."
   ]
  },
  {
   "cell_type": "code",
   "execution_count": 8,
   "metadata": {},
   "outputs": [
    {
     "name": "stdout",
     "output_type": "stream",
     "text": [
      "result = Accept H0\n"
     ]
    },
    {
     "data": {
      "text/html": [
       "<div>\n",
       "<style scoped>\n",
       "    .dataframe tbody tr th:only-of-type {\n",
       "        vertical-align: middle;\n",
       "    }\n",
       "\n",
       "    .dataframe tbody tr th {\n",
       "        vertical-align: top;\n",
       "    }\n",
       "\n",
       "    .dataframe thead th {\n",
       "        text-align: right;\n",
       "    }\n",
       "</style>\n",
       "<table border=\"1\" class=\"dataframe\">\n",
       "  <thead>\n",
       "    <tr style=\"text-align: right;\">\n",
       "      <th></th>\n",
       "      <th>0</th>\n",
       "      <th>1</th>\n",
       "      <th>2</th>\n",
       "      <th>3</th>\n",
       "      <th>4</th>\n",
       "      <th>5</th>\n",
       "      <th>6</th>\n",
       "      <th>7</th>\n",
       "      <th>8</th>\n",
       "    </tr>\n",
       "  </thead>\n",
       "  <tbody>\n",
       "    <tr>\n",
       "      <th>Sn</th>\n",
       "      <td>-1.070591</td>\n",
       "      <td>-0.370639</td>\n",
       "      <td>-0.198758</td>\n",
       "      <td>-0.827463</td>\n",
       "      <td>-0.040523</td>\n",
       "      <td>0.348825</td>\n",
       "      <td>0.529470</td>\n",
       "      <td>-0.262419</td>\n",
       "      <td>-2.106614</td>\n",
       "    </tr>\n",
       "    <tr>\n",
       "      <th>lower</th>\n",
       "      <td>-1.381351</td>\n",
       "      <td>-1.381351</td>\n",
       "      <td>-1.381351</td>\n",
       "      <td>-1.381351</td>\n",
       "      <td>-1.381351</td>\n",
       "      <td>-1.381351</td>\n",
       "      <td>-1.381351</td>\n",
       "      <td>-1.381351</td>\n",
       "      <td>-1.381351</td>\n",
       "    </tr>\n",
       "    <tr>\n",
       "      <th>upper</th>\n",
       "      <td>1.381351</td>\n",
       "      <td>1.381351</td>\n",
       "      <td>1.381351</td>\n",
       "      <td>1.381351</td>\n",
       "      <td>1.381351</td>\n",
       "      <td>1.381351</td>\n",
       "      <td>1.381351</td>\n",
       "      <td>1.381351</td>\n",
       "      <td>1.381351</td>\n",
       "    </tr>\n",
       "  </tbody>\n",
       "</table>\n",
       "</div>"
      ],
      "text/plain": [
       "              0         1         2         3         4         5         6  \\\n",
       "Sn    -1.070591 -0.370639 -0.198758 -0.827463 -0.040523  0.348825  0.529470   \n",
       "lower -1.381351 -1.381351 -1.381351 -1.381351 -1.381351 -1.381351 -1.381351   \n",
       "upper  1.381351  1.381351  1.381351  1.381351  1.381351  1.381351  1.381351   \n",
       "\n",
       "              7         8  \n",
       "Sn    -0.262419 -2.106614  \n",
       "lower -1.381351 -1.381351  \n",
       "upper  1.381351  1.381351  "
      ]
     },
     "execution_count": 8,
     "metadata": {},
     "output_type": "execute_result"
    },
    {
     "data": {
      "image/png": "[encoded data removed]",
      "text/plain": [
       "<matplotlib.figure.Figure at 0x7f18d189dba8>"
      ]
     },
     "metadata": {},
     "output_type": "display_data"
    }
   ],
   "source": [
    "alpha = 0.001 # P{H1/H0} - вероятность ошибки  первого рода (отвергнуть истинную)\n",
    "betta = 0.001 # P{H0/H1} - вероятность ошибки  второго рода (принять ложную)\n",
    "\n",
    "k_first, k_second = 0.5, 0.5\n",
    "\n",
    "h1 = 2.5\n",
    "h0 = -2.5\n",
    "\n",
    "experiment(h0, h1, alpha, betta, k_first, k_second)"
   ]
  },
  {
   "cell_type": "markdown",
   "metadata": {},
   "source": [
    "### Оценим средний объём выборки.\n",
    "\n",
    "Оценим средний объём выборки, после которого можно принять решение в случае справедливости нулевой гипотезы."
   ]
  },
  {
   "cell_type": "code",
   "execution_count": 9,
   "metadata": {},
   "outputs": [
    {
     "name": "stderr",
     "output_type": "stream",
     "text": [
      "100%|██████████| 10000/10000 [00:16<00:00, 592.49it/s]\n"
     ]
    },
    {
     "data": {
      "text/plain": [
       "5.2845"
      ]
     },
     "execution_count": 9,
     "metadata": {},
     "output_type": "execute_result"
    },
    {
     "data": {
      "image/png": "[encoded data removed]",
      "text/plain": [
       "<matplotlib.figure.Figure at 0x7f18d14f4e10>"
      ]
     },
     "metadata": {},
     "output_type": "display_data"
    }
   ],
   "source": [
    "alpha = 0.001 # P{H1/H0} - вероятность ошибки  первого рода (отвергнуть истинную)\n",
    "betta = 0.001 # P{H0/H1} - вероятность ошибки  второго рода (принять ложную)\n",
    "\n",
    "k_first, k_second = 0.8, 0.2\n",
    "\n",
    "h1 = 2.0\n",
    "h0 = 1.0\n",
    "\n",
    "num_elements = [len(experiment(h0, h1, alpha, betta, k_first, k_second, False).columns) for _ in tqdm(range(10000))]\n",
    "plt.boxplot(num_elements)\n",
    "np.mean(num_elements)"
   ]
  },
  {
   "cell_type": "markdown",
   "metadata": {},
   "source": [
    "По результатам моделирования можно сделать вывод о том, что в среднем около пяти элементов требуется, чтобы принять решение в соответствии с критерием Вальда, однако иногда количество необходимых элементов сильно больше, о чём свидетельствуют выбросы."
   ]
  }
 ],
 "metadata": {
  "kernelspec": {
   "display_name": "Python 3",
   "language": "python",
   "name": "python3"
  },
  "language_info": {
   "codemirror_mode": {
    "name": "ipython",
    "version": 3
   },
   "file_extension": ".py",
   "mimetype": "text/x-python",
   "name": "python",
   "nbconvert_exporter": "python",
   "pygments_lexer": "ipython3",
   "version": "3.6.8"
  },
  "toc": {
   "base_numbering": 1,
   "nav_menu": {},
   "number_sections": true,
   "sideBar": true,
   "skip_h1_title": false,
   "title_cell": "Table of Contents",
   "title_sidebar": "Contents",
   "toc_cell": true,
   "toc_position": {},
   "toc_section_display": true,
   "toc_window_display": true
  }
 },
 "nbformat": 4,
 "nbformat_minor": 2
}
