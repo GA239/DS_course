{
 "cells": [
  {
   "cell_type": "markdown",
   "metadata": {
    "toc": true
   },
   "source": [
    "<h1>Table of Contents<span class=\"tocSkip\"></span></h1>\n",
    "<div class=\"toc\"><ul class=\"toc-item\"><li><span><a href=\"#Есть-ли-взаимосвязь-между-размером-мозга-интеллектом-?\" data-toc-modified-id=\"Есть-ли-взаимосвязь-между-размером-мозга-интеллектом-?-1\"><span class=\"toc-item-num\">1&nbsp;&nbsp;</span>Есть ли взаимосвязь между размером мозга интеллектом ?</a></span></li><li><span><a href=\"#Есть-ли-различия-в-выборе-авто-между-мужчинами-и-женщинами?\" data-toc-modified-id=\"Есть-ли-различия-в-выборе-авто-между-мужчинами-и-женщинами?-2\"><span class=\"toc-item-num\">2&nbsp;&nbsp;</span>Есть ли различия в выборе авто между мужчинами и женщинами?</a></span></li></ul></div>"
   ]
  },
  {
   "cell_type": "code",
   "execution_count": 1,
   "metadata": {},
   "outputs": [],
   "source": [
    "import os\n",
    "import pandas as pd\n",
    "import numpy as np\n",
    "import scipy.stats as sts\n",
    "import matplotlib.pyplot as plt\n",
    "from scipy.stats.stats import pearsonr\n",
    "\n",
    "from tqdm import tqdm"
   ]
  },
  {
   "cell_type": "code",
   "execution_count": 2,
   "metadata": {},
   "outputs": [],
   "source": [
    "%matplotlib inline"
   ]
  },
  {
   "cell_type": "markdown",
   "metadata": {},
   "source": [
    "# Есть ли взаимосвязь между размером мозга интеллектом ?"
   ]
  },
  {
   "cell_type": "code",
   "execution_count": 3,
   "metadata": {},
   "outputs": [
    {
     "data": {
      "text/html": [
       "<div>\n",
       "<style scoped>\n",
       "    .dataframe tbody tr th:only-of-type {\n",
       "        vertical-align: middle;\n",
       "    }\n",
       "\n",
       "    .dataframe tbody tr th {\n",
       "        vertical-align: top;\n",
       "    }\n",
       "\n",
       "    .dataframe thead th {\n",
       "        text-align: right;\n",
       "    }\n",
       "</style>\n",
       "<table border=\"1\" class=\"dataframe\">\n",
       "  <thead>\n",
       "    <tr style=\"text-align: right;\">\n",
       "      <th></th>\n",
       "      <th>Gender</th>\n",
       "      <th>FSIQ</th>\n",
       "      <th>VIQ</th>\n",
       "      <th>PIQ</th>\n",
       "      <th>Weight</th>\n",
       "      <th>Height</th>\n",
       "      <th>MRI_Count</th>\n",
       "    </tr>\n",
       "  </thead>\n",
       "  <tbody>\n",
       "    <tr>\n",
       "      <th>0</th>\n",
       "      <td>Female</td>\n",
       "      <td>133</td>\n",
       "      <td>132</td>\n",
       "      <td>124</td>\n",
       "      <td>118</td>\n",
       "      <td>64.5</td>\n",
       "      <td>816932</td>\n",
       "    </tr>\n",
       "    <tr>\n",
       "      <th>1</th>\n",
       "      <td>Male</td>\n",
       "      <td>140</td>\n",
       "      <td>150</td>\n",
       "      <td>124</td>\n",
       "      <td>�</td>\n",
       "      <td>72.5</td>\n",
       "      <td>1001121</td>\n",
       "    </tr>\n",
       "    <tr>\n",
       "      <th>2</th>\n",
       "      <td>Male</td>\n",
       "      <td>139</td>\n",
       "      <td>123</td>\n",
       "      <td>150</td>\n",
       "      <td>143</td>\n",
       "      <td>73.3</td>\n",
       "      <td>1038437</td>\n",
       "    </tr>\n",
       "    <tr>\n",
       "      <th>3</th>\n",
       "      <td>Male</td>\n",
       "      <td>133</td>\n",
       "      <td>129</td>\n",
       "      <td>128</td>\n",
       "      <td>172</td>\n",
       "      <td>68.8</td>\n",
       "      <td>965353</td>\n",
       "    </tr>\n",
       "    <tr>\n",
       "      <th>4</th>\n",
       "      <td>Female</td>\n",
       "      <td>137</td>\n",
       "      <td>132</td>\n",
       "      <td>134</td>\n",
       "      <td>147</td>\n",
       "      <td>65.0</td>\n",
       "      <td>951545</td>\n",
       "    </tr>\n",
       "  </tbody>\n",
       "</table>\n",
       "</div>"
      ],
      "text/plain": [
       "   Gender  FSIQ  VIQ  PIQ Weight Height  MRI_Count\n",
       "0  Female   133  132  124    118   64.5     816932\n",
       "1    Male   140  150  124      �   72.5    1001121\n",
       "2    Male   139  123  150    143   73.3    1038437\n",
       "3    Male   133  129  128    172   68.8     965353\n",
       "4  Female   137  132  134    147   65.0     951545"
      ]
     },
     "execution_count": 3,
     "metadata": {},
     "output_type": "execute_result"
    }
   ],
   "source": [
    "data = pd.read_csv(os.path.join('data', '4', 'brain.tsv'), delimiter='\\t')\n",
    "data.head(5)"
   ]
  },
  {
   "cell_type": "code",
   "execution_count": 4,
   "metadata": {},
   "outputs": [
    {
     "data": {
      "text/plain": [
       "(40, 7)"
      ]
     },
     "execution_count": 4,
     "metadata": {},
     "output_type": "execute_result"
    }
   ],
   "source": [
    "data.shape"
   ]
  },
  {
   "cell_type": "code",
   "execution_count": 5,
   "metadata": {},
   "outputs": [],
   "source": [
    "def plot_column(data, name):\n",
    "    fig, (ax1, ax2, ax3) = plt.subplots(1, 3)\n",
    "    fig.set_size_inches(15, 5)\n",
    "    \n",
    "    plt_data_1 = data[data['Gender']=='Female'][name]\n",
    "    plt_data_2 = data[data['Gender']=='Male'][name]\n",
    "    ax1.plot(plt_data_1.index, plt_data_1, 'ro')\n",
    "    ax1.plot(plt_data_2.index, plt_data_2, 'bo')\n",
    "    ax1.set_title('{} data'.format(name))\n",
    "    ax2.boxplot(data[name])\n",
    "    \n",
    "    data[name].hist()\n",
    "    ax3.set_title('{} hist'.format(name))\n",
    "    \n",
    "def describe_column(data, name):\n",
    "    plot_column(data, name)\n",
    "    data = data[name]\n",
    "    description = pd.DataFrame(data.describe()).transpose().set_index([pd.Index([name])])\n",
    "    mode = data.mode()    \n",
    "    description['mode'] = mode[0] if len(mode) == 1 else 'not one mode'\n",
    "    description['range'] = description['max'] - description['min']\n",
    "    return description"
   ]
  },
  {
   "cell_type": "code",
   "execution_count": 6,
   "metadata": {},
   "outputs": [
    {
     "data": {
      "text/html": [
       "<div>\n",
       "<style scoped>\n",
       "    .dataframe tbody tr th:only-of-type {\n",
       "        vertical-align: middle;\n",
       "    }\n",
       "\n",
       "    .dataframe tbody tr th {\n",
       "        vertical-align: top;\n",
       "    }\n",
       "\n",
       "    .dataframe thead th {\n",
       "        text-align: right;\n",
       "    }\n",
       "</style>\n",
       "<table border=\"1\" class=\"dataframe\">\n",
       "  <thead>\n",
       "    <tr style=\"text-align: right;\">\n",
       "      <th></th>\n",
       "      <th>count</th>\n",
       "      <th>mean</th>\n",
       "      <th>std</th>\n",
       "      <th>min</th>\n",
       "      <th>25%</th>\n",
       "      <th>50%</th>\n",
       "      <th>75%</th>\n",
       "      <th>max</th>\n",
       "      <th>mode</th>\n",
       "      <th>range</th>\n",
       "    </tr>\n",
       "  </thead>\n",
       "  <tbody>\n",
       "    <tr>\n",
       "      <th>PIQ</th>\n",
       "      <td>40.0</td>\n",
       "      <td>111.025</td>\n",
       "      <td>22.47105</td>\n",
       "      <td>72.0</td>\n",
       "      <td>88.25</td>\n",
       "      <td>115.0</td>\n",
       "      <td>128.0</td>\n",
       "      <td>150.0</td>\n",
       "      <td>124</td>\n",
       "      <td>78.0</td>\n",
       "    </tr>\n",
       "  </tbody>\n",
       "</table>\n",
       "</div>"
      ],
      "text/plain": [
       "     count     mean       std   min    25%    50%    75%    max  mode  range\n",
       "PIQ   40.0  111.025  22.47105  72.0  88.25  115.0  128.0  150.0   124   78.0"
      ]
     },
     "execution_count": 6,
     "metadata": {},
     "output_type": "execute_result"
    },
    {
     "data": {
      "image/png": "[encoded data removed]",
      "text/plain": [
       "<matplotlib.figure.Figure at 0x7fcb0492e978>"
      ]
     },
     "metadata": {},
     "output_type": "display_data"
    }
   ],
   "source": [
    "describe_column(data, 'PIQ')"
   ]
  },
  {
   "cell_type": "code",
   "execution_count": 7,
   "metadata": {},
   "outputs": [
    {
     "data": {
      "text/html": [
       "<div>\n",
       "<style scoped>\n",
       "    .dataframe tbody tr th:only-of-type {\n",
       "        vertical-align: middle;\n",
       "    }\n",
       "\n",
       "    .dataframe tbody tr th {\n",
       "        vertical-align: top;\n",
       "    }\n",
       "\n",
       "    .dataframe thead th {\n",
       "        text-align: right;\n",
       "    }\n",
       "</style>\n",
       "<table border=\"1\" class=\"dataframe\">\n",
       "  <thead>\n",
       "    <tr style=\"text-align: right;\">\n",
       "      <th></th>\n",
       "      <th>count</th>\n",
       "      <th>mean</th>\n",
       "      <th>std</th>\n",
       "      <th>min</th>\n",
       "      <th>25%</th>\n",
       "      <th>50%</th>\n",
       "      <th>75%</th>\n",
       "      <th>max</th>\n",
       "      <th>mode</th>\n",
       "      <th>range</th>\n",
       "    </tr>\n",
       "  </thead>\n",
       "  <tbody>\n",
       "    <tr>\n",
       "      <th>MRI_Count</th>\n",
       "      <td>40.0</td>\n",
       "      <td>908755.0</td>\n",
       "      <td>72282.048931</td>\n",
       "      <td>790619.0</td>\n",
       "      <td>855918.5</td>\n",
       "      <td>905399.0</td>\n",
       "      <td>950078.0</td>\n",
       "      <td>1079549.0</td>\n",
       "      <td>not one mode</td>\n",
       "      <td>288930.0</td>\n",
       "    </tr>\n",
       "  </tbody>\n",
       "</table>\n",
       "</div>"
      ],
      "text/plain": [
       "           count      mean           std       min       25%       50%  \\\n",
       "MRI_Count   40.0  908755.0  72282.048931  790619.0  855918.5  905399.0   \n",
       "\n",
       "                75%        max          mode     range  \n",
       "MRI_Count  950078.0  1079549.0  not one mode  288930.0  "
      ]
     },
     "execution_count": 7,
     "metadata": {},
     "output_type": "execute_result"
    },
    {
     "data": {
      "image/png": "[encoded data removed]",
      "text/plain": [
       "<matplotlib.figure.Figure at 0x7fcb026268d0>"
      ]
     },
     "metadata": {},
     "output_type": "display_data"
    }
   ],
   "source": [
    "describe_column(data, 'MRI_Count')"
   ]
  },
  {
   "cell_type": "code",
   "execution_count": 8,
   "metadata": {},
   "outputs": [],
   "source": [
    "def plot_correlation(data, name_1, name_2):\n",
    "    plt_data_1 = data[data['Gender']=='Female']\n",
    "    plt_data_2 = data[data['Gender']=='Male']\n",
    "\n",
    "    fig, (ax1, ax2, ax3) = plt.subplots(1, 3, sharey=True)\n",
    "    fig.set_size_inches(15, 5)\n",
    "    ax1.plot(plt_data_1[name_1], plt_data_1[name_2], 'ro')\n",
    "    ax2.plot(plt_data_2[name_1], plt_data_2[name_2], 'bo')\n",
    "    ax1.set_title('Female')\n",
    "    ax2.set_title('Male')\n",
    "    ax1.set_ylabel(name_1)\n",
    "    ax1.set_xlabel(name_2)\n",
    "    ax2.set_xlabel(name_2)\n",
    "    \n",
    "    ax3.plot(data[name_1], data[name_2], 'ko')\n",
    "    ax3.set_title('Both')\n",
    "    ax3.set_xlabel(name_2)\n",
    "\n",
    "    lib_arts_r = pearsonr(plt_data_1[name_1], plt_data_1[name_2])\n",
    "    univ_r = pearsonr(plt_data_2[name_1], plt_data_2[name_2])\n",
    "    both_r = pearsonr(data[name_1], data[name_2])\n",
    "    index = pd.Index(['Female', 'Male', 'Both'])\n",
    "    return pd.DataFrame([lib_arts_r,univ_r, both_r], columns=['R', 'p-value']).set_index([index]).transpose()"
   ]
  },
  {
   "cell_type": "code",
   "execution_count": 9,
   "metadata": {},
   "outputs": [
    {
     "data": {
      "text/html": [
       "<div>\n",
       "<style scoped>\n",
       "    .dataframe tbody tr th:only-of-type {\n",
       "        vertical-align: middle;\n",
       "    }\n",
       "\n",
       "    .dataframe tbody tr th {\n",
       "        vertical-align: top;\n",
       "    }\n",
       "\n",
       "    .dataframe thead th {\n",
       "        text-align: right;\n",
       "    }\n",
       "</style>\n",
       "<table border=\"1\" class=\"dataframe\">\n",
       "  <thead>\n",
       "    <tr style=\"text-align: right;\">\n",
       "      <th></th>\n",
       "      <th>Female</th>\n",
       "      <th>Male</th>\n",
       "      <th>Both</th>\n",
       "    </tr>\n",
       "  </thead>\n",
       "  <tbody>\n",
       "    <tr>\n",
       "      <th>R</th>\n",
       "      <td>0.396157</td>\n",
       "      <td>0.568237</td>\n",
       "      <td>0.386817</td>\n",
       "    </tr>\n",
       "    <tr>\n",
       "      <th>p-value</th>\n",
       "      <td>0.083781</td>\n",
       "      <td>0.008950</td>\n",
       "      <td>0.013675</td>\n",
       "    </tr>\n",
       "  </tbody>\n",
       "</table>\n",
       "</div>"
      ],
      "text/plain": [
       "           Female      Male      Both\n",
       "R        0.396157  0.568237  0.386817\n",
       "p-value  0.083781  0.008950  0.013675"
      ]
     },
     "execution_count": 9,
     "metadata": {},
     "output_type": "execute_result"
    },
    {
     "data": {
      "image/png": "[encoded data removed]",
      "text/plain": [
       "<matplotlib.figure.Figure at 0x7fcb026ea710>"
      ]
     },
     "metadata": {},
     "output_type": "display_data"
    }
   ],
   "source": [
    "plot_correlation(data, 'MRI_Count', 'PIQ')"
   ]
  },
  {
   "cell_type": "markdown",
   "metadata": {},
   "source": [
    "Был рассчитан коэффициент корреляции между размером головного мозга и интеллектом. Во всех случаях наблюдается положительная, хоть и не высокая корреляция, т.е. поспешно можно сделать вывод о наличии взаимосвязи между этими показателями у всех людей (мужчин/женщин). Однако рассчитанные согласно [Критерию Фишера](https://github.com/scipy/scipy/blob/v0.14.0/scipy/stats/stats.py#L2445) p-value показывают, что вероятность ошибиться при подобного рода обобщении достаточно велика (больше 0.001 в каждом случае и больше 0.01 в случае Женщин и смешанной выборки)."
   ]
  },
  {
   "cell_type": "markdown",
   "metadata": {},
   "source": [
    "# Есть ли различия в выборе авто между мужчинами и женщинами?"
   ]
  },
  {
   "cell_type": "code",
   "execution_count": 10,
   "metadata": {},
   "outputs": [
    {
     "data": {
      "text/html": [
       "<div>\n",
       "<style scoped>\n",
       "    .dataframe tbody tr th:only-of-type {\n",
       "        vertical-align: middle;\n",
       "    }\n",
       "\n",
       "    .dataframe tbody tr th {\n",
       "        vertical-align: top;\n",
       "    }\n",
       "\n",
       "    .dataframe thead th {\n",
       "        text-align: right;\n",
       "    }\n",
       "</style>\n",
       "<table border=\"1\" class=\"dataframe\">\n",
       "  <thead>\n",
       "    <tr style=\"text-align: right;\">\n",
       "      <th></th>\n",
       "      <th>ID</th>\n",
       "      <th>Age</th>\n",
       "      <th>Sex</th>\n",
       "      <th>LicYr</th>\n",
       "      <th>LicMth</th>\n",
       "      <th>ActCar</th>\n",
       "      <th>Kids5</th>\n",
       "      <th>Kids6</th>\n",
       "      <th>PreferCar</th>\n",
       "      <th>Car15K</th>\n",
       "      <th>...</th>\n",
       "      <th>Reliable</th>\n",
       "      <th>Perform</th>\n",
       "      <th>Fuel</th>\n",
       "      <th>Safety</th>\n",
       "      <th>AC/PS</th>\n",
       "      <th>Park</th>\n",
       "      <th>Room</th>\n",
       "      <th>Doors</th>\n",
       "      <th>Prestige</th>\n",
       "      <th>Colour</th>\n",
       "    </tr>\n",
       "  </thead>\n",
       "  <tbody>\n",
       "    <tr>\n",
       "      <th>0</th>\n",
       "      <td>110</td>\n",
       "      <td>18</td>\n",
       "      <td>2</td>\n",
       "      <td>0</td>\n",
       "      <td>2</td>\n",
       "      <td>3</td>\n",
       "      <td>2</td>\n",
       "      <td>2</td>\n",
       "      <td>2</td>\n",
       "      <td>2</td>\n",
       "      <td>...</td>\n",
       "      <td>4</td>\n",
       "      <td>3</td>\n",
       "      <td>3</td>\n",
       "      <td>3</td>\n",
       "      <td>3</td>\n",
       "      <td>3</td>\n",
       "      <td>3</td>\n",
       "      <td>3</td>\n",
       "      <td>3</td>\n",
       "      <td>2</td>\n",
       "    </tr>\n",
       "    <tr>\n",
       "      <th>1</th>\n",
       "      <td>111</td>\n",
       "      <td>25</td>\n",
       "      <td>1</td>\n",
       "      <td>8</td>\n",
       "      <td>0</td>\n",
       "      <td>1</td>\n",
       "      <td>2</td>\n",
       "      <td>2</td>\n",
       "      <td>1</td>\n",
       "      <td>1</td>\n",
       "      <td>...</td>\n",
       "      <td>4</td>\n",
       "      <td>4</td>\n",
       "      <td>4</td>\n",
       "      <td>4</td>\n",
       "      <td>3</td>\n",
       "      <td>4</td>\n",
       "      <td>4</td>\n",
       "      <td>2</td>\n",
       "      <td>3</td>\n",
       "      <td>3</td>\n",
       "    </tr>\n",
       "    <tr>\n",
       "      <th>2</th>\n",
       "      <td>112</td>\n",
       "      <td>63</td>\n",
       "      <td>2</td>\n",
       "      <td>46</td>\n",
       "      <td>0</td>\n",
       "      <td>3</td>\n",
       "      <td>2</td>\n",
       "      <td>2</td>\n",
       "      <td>3</td>\n",
       "      <td>2</td>\n",
       "      <td>...</td>\n",
       "      <td>3</td>\n",
       "      <td>3</td>\n",
       "      <td>3</td>\n",
       "      <td>3</td>\n",
       "      <td>3</td>\n",
       "      <td>3</td>\n",
       "      <td>3</td>\n",
       "      <td>3</td>\n",
       "      <td>3</td>\n",
       "      <td>3</td>\n",
       "    </tr>\n",
       "    <tr>\n",
       "      <th>3</th>\n",
       "      <td>113</td>\n",
       "      <td>51</td>\n",
       "      <td>1</td>\n",
       "      <td>35</td>\n",
       "      <td>0</td>\n",
       "      <td>3</td>\n",
       "      <td>2</td>\n",
       "      <td>2</td>\n",
       "      <td>2</td>\n",
       "      <td>2</td>\n",
       "      <td>...</td>\n",
       "      <td>3</td>\n",
       "      <td>3</td>\n",
       "      <td>3</td>\n",
       "      <td>4</td>\n",
       "      <td>3</td>\n",
       "      <td>3</td>\n",
       "      <td>3</td>\n",
       "      <td>3</td>\n",
       "      <td>1</td>\n",
       "      <td>3</td>\n",
       "    </tr>\n",
       "    <tr>\n",
       "      <th>4</th>\n",
       "      <td>114</td>\n",
       "      <td>19</td>\n",
       "      <td>1</td>\n",
       "      <td>2</td>\n",
       "      <td>0</td>\n",
       "      <td>2</td>\n",
       "      <td>2</td>\n",
       "      <td>2</td>\n",
       "      <td>2</td>\n",
       "      <td>1</td>\n",
       "      <td>...</td>\n",
       "      <td>3</td>\n",
       "      <td>4</td>\n",
       "      <td>3</td>\n",
       "      <td>3</td>\n",
       "      <td>2</td>\n",
       "      <td>3</td>\n",
       "      <td>3</td>\n",
       "      <td>2</td>\n",
       "      <td>3</td>\n",
       "      <td>3</td>\n",
       "    </tr>\n",
       "  </tbody>\n",
       "</table>\n",
       "<p>5 rows × 22 columns</p>\n",
       "</div>"
      ],
      "text/plain": [
       "    ID  Age  Sex  LicYr  LicMth  ActCar  Kids5  Kids6  PreferCar  Car15K  \\\n",
       "0  110   18    2      0       2       3      2      2          2       2   \n",
       "1  111   25    1      8       0       1      2      2          1       1   \n",
       "2  112   63    2     46       0       3      2      2          3       2   \n",
       "3  113   51    1     35       0       3      2      2          2       2   \n",
       "4  114   19    1      2       0       2      2      2          2       1   \n",
       "\n",
       "    ...    Reliable  Perform  Fuel  Safety  AC/PS  Park  Room  Doors  \\\n",
       "0   ...           4        3     3       3      3     3     3      3   \n",
       "1   ...           4        4     4       4      3     4     4      2   \n",
       "2   ...           3        3     3       3      3     3     3      3   \n",
       "3   ...           3        3     3       4      3     3     3      3   \n",
       "4   ...           3        4     3       3      2     3     3      2   \n",
       "\n",
       "   Prestige  Colour  \n",
       "0         3       2  \n",
       "1         3       3  \n",
       "2         3       3  \n",
       "3         1       3  \n",
       "4         3       3  \n",
       "\n",
       "[5 rows x 22 columns]"
      ]
     },
     "execution_count": 10,
     "metadata": {},
     "output_type": "execute_result"
    }
   ],
   "source": [
    "data = pd.read_csv(os.path.join('data', '4', 'carprefs.tsv'), delimiter='\\t')\n",
    "data.head(5)"
   ]
  },
  {
   "cell_type": "code",
   "execution_count": 11,
   "metadata": {},
   "outputs": [
    {
     "data": {
      "text/plain": [
       "(300, 22)"
      ]
     },
     "execution_count": 11,
     "metadata": {},
     "output_type": "execute_result"
    }
   ],
   "source": [
    "data.shape"
   ]
  },
  {
   "cell_type": "markdown",
   "metadata": {},
   "source": [
    "Необходимо применить критерий \"хи-квадрат\" для анализа таблиц сопряженности, поэтому воспользуемся [scipy.stats.chi2_contingency](https://github.com/scipy/scipy/blob/v0.15.1/scipy/stats/contingency.py#L110)"
   ]
  },
  {
   "cell_type": "code",
   "execution_count": 12,
   "metadata": {},
   "outputs": [],
   "source": [
    "tb = pd.crosstab(data['Sex'], data['PreferCar'])"
   ]
  },
  {
   "cell_type": "code",
   "execution_count": 13,
   "metadata": {},
   "outputs": [
    {
     "data": {
      "text/html": [
       "<div>\n",
       "<style scoped>\n",
       "    .dataframe tbody tr th:only-of-type {\n",
       "        vertical-align: middle;\n",
       "    }\n",
       "\n",
       "    .dataframe tbody tr th {\n",
       "        vertical-align: top;\n",
       "    }\n",
       "\n",
       "    .dataframe thead th {\n",
       "        text-align: right;\n",
       "    }\n",
       "</style>\n",
       "<table border=\"1\" class=\"dataframe\">\n",
       "  <thead>\n",
       "    <tr style=\"text-align: right;\">\n",
       "      <th>PreferCar</th>\n",
       "      <th>1</th>\n",
       "      <th>2</th>\n",
       "      <th>3</th>\n",
       "      <th>4</th>\n",
       "    </tr>\n",
       "    <tr>\n",
       "      <th>Sex</th>\n",
       "      <th></th>\n",
       "      <th></th>\n",
       "      <th></th>\n",
       "      <th></th>\n",
       "    </tr>\n",
       "  </thead>\n",
       "  <tbody>\n",
       "    <tr>\n",
       "      <th>1</th>\n",
       "      <td>43</td>\n",
       "      <td>75</td>\n",
       "      <td>26</td>\n",
       "      <td>6</td>\n",
       "    </tr>\n",
       "    <tr>\n",
       "      <th>2</th>\n",
       "      <td>25</td>\n",
       "      <td>61</td>\n",
       "      <td>47</td>\n",
       "      <td>17</td>\n",
       "    </tr>\n",
       "  </tbody>\n",
       "</table>\n",
       "</div>"
      ],
      "text/plain": [
       "PreferCar   1   2   3   4\n",
       "Sex                      \n",
       "1          43  75  26   6\n",
       "2          25  61  47  17"
      ]
     },
     "execution_count": 13,
     "metadata": {},
     "output_type": "execute_result"
    }
   ],
   "source": [
    "tb"
   ]
  },
  {
   "cell_type": "code",
   "execution_count": 14,
   "metadata": {},
   "outputs": [
    {
     "name": "stdout",
     "output_type": "stream",
     "text": [
      "test Statistics: 17.507847808569526\n",
      "degrees of freedom: 3\n",
      "p-value: 0.0005555699275518034\n",
      "\n",
      "Критическое значение для уровня значимости 99% - 11.344866730144373\n",
      "Отвергаем H0: выбор зависит от гендера\n"
     ]
    }
   ],
   "source": [
    "chi2, prob, df, expected = sts.chi2_contingency(tb.values)\n",
    "output = \"test Statistics: {}\\ndegrees of freedom: {}\\np-value: {}\\n\"\n",
    "\n",
    "print(output.format(chi2, df, prob))\n",
    "critical_value = sts.chi2.ppf(0.99, df)\n",
    "print('Критическое значение для уровня значимости 99% - {}'.format(critical_value))\n",
    "print('{}'.format('Отвергаем H0: выбор зависит от гендера' if critical_value < chi2 else 'Принимаем H0:, выбор НЕ зависит от гендера'))"
   ]
  },
  {
   "cell_type": "markdown",
   "metadata": {},
   "source": [
    "Вероятность ошибочно отклонить гипотезу о том, что наблюдаемые частоты независимы - крайне мала (0.0005555699275518034), следовательно можно сделать вывод о зависимости выбора автомобиля от гендера выбирающего. Таким образом, на вопрос \"есть ли различия в выборе авто между мужчинами и женщинами?\", можно ответить: различия есть."
   ]
  },
  {
   "cell_type": "code",
   "execution_count": null,
   "metadata": {},
   "outputs": [],
   "source": []
  }
 ],
 "metadata": {
  "kernelspec": {
   "display_name": "Python 3",
   "language": "python",
   "name": "python3"
  },
  "language_info": {
   "codemirror_mode": {
    "name": "ipython",
    "version": 3
   },
   "file_extension": ".py",
   "mimetype": "text/x-python",
   "name": "python",
   "nbconvert_exporter": "python",
   "pygments_lexer": "ipython3",
   "version": "3.6.8"
  },
  "toc": {
   "base_numbering": 1,
   "nav_menu": {},
   "number_sections": true,
   "sideBar": true,
   "skip_h1_title": false,
   "title_cell": "Table of Contents",
   "title_sidebar": "Contents",
   "toc_cell": true,
   "toc_position": {},
   "toc_section_display": true,
   "toc_window_display": true
  }
 },
 "nbformat": 4,
 "nbformat_minor": 2
}
