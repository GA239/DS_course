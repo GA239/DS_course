{
 "cells": [
  {
   "cell_type": "code",
   "execution_count": 1,
   "metadata": {},
   "outputs": [
    {
     "name": "stderr",
     "output_type": "stream",
     "text": [
      "/usr/local/lib/python3.5/dist-packages/sklearn/utils/deprecation.py:144: FutureWarning: The sklearn.metrics.classification module is  deprecated in version 0.22 and will be removed in version 0.24. The corresponding classes / functions should instead be imported from sklearn.metrics. Anything that cannot be imported from sklearn.metrics is now part of the private API.\n",
      "  warnings.warn(message, FutureWarning)\n"
     ]
    }
   ],
   "source": [
    "import pandas as pd\n",
    "import numpy as np\n",
    "import sys\n",
    "import matplotlib\n",
    "import matplotlib.pyplot as plt\n",
    "from contextlib import contextmanager\n",
    "from functools import wraps, partial\n",
    "\n",
    "import os\n",
    "\n",
    "from sklearn.preprocessing import FunctionTransformer, LabelEncoder\n",
    "from sklearn.feature_extraction.text import TfidfVectorizer\n",
    "from sklearn.decomposition import TruncatedSVD, PCA\n",
    "from sklearn.impute import SimpleImputer\n",
    "from sklearn.preprocessing import StandardScaler, RobustScaler\n",
    "from sklearn.metrics.pairwise import cosine_similarity\n",
    "from scipy.cluster.hierarchy import ward, dendrogram\n",
    "from scipy.spatial.distance import cdist\n",
    "from sklearn.metrics import pairwise_distances\n",
    "import imageio\n",
    "from yellowbrick.text import TSNEVisualizer\n",
    "from PIL import Image\n",
    "from sklearn.cluster import KMeans\n",
    "from sklearn.metrics import confusion_matrix\n",
    "import seaborn as sns; sns.set()  # for plot styling\n",
    "from sklearn import metrics\n"
   ]
  },
  {
   "cell_type": "code",
   "execution_count": 2,
   "metadata": {},
   "outputs": [
    {
     "name": "stdout",
     "output_type": "stream",
     "text": [
      "Python version\n",
      "3.5.2 (default, Oct  8 2019, 13:06:37) \n",
      "[GCC 5.4.0 20160609]\n",
      "Version info.\n",
      "sys.version_info(major=3, minor=5, micro=2, releaselevel='final', serial=0)\n"
     ]
    }
   ],
   "source": [
    "print(\"Python version\")\n",
    "print (sys.version)\n",
    "print(\"Version info.\")\n",
    "print (sys.version_info)"
   ]
  },
  {
   "cell_type": "code",
   "execution_count": 3,
   "metadata": {
    "collapsed": true
   },
   "outputs": [],
   "source": [
    "import pickle\n",
    "def save(mapping_dict, name):\n",
    "    with open('data/{}.pickle'.format(name), 'wb') as handle:\n",
    "        pickle.dump(mapping_dict, handle, protocol=pickle.HIGHEST_PROTOCOL)\n",
    "        \n",
    "def load(name):\n",
    "    with open('data/{}.pickle'.format(name), 'rb') as handle:\n",
    "        return pickle.load(handle)\n",
    "    \n",
    "\n",
    "def save_result(file_name=None, calculate=False, skip=False):\n",
    "    def decorator(func):\n",
    "        @wraps(func)\n",
    "        def wrapper(*args, **kwargs):\n",
    "            \n",
    "            final_file_name = kwargs['file_name'] if 'file_name' in kwargs else file_name\n",
    "            \n",
    "            if calculate:\n",
    "                result = func(*args, **kwargs)\n",
    "                if final_file_name:\n",
    "                    if isinstance(result, pd.DataFrame):\n",
    "                        result.to_parquet('data/{}.parquet'.format(final_file_name))\n",
    "                    elif isinstance(result, matplotlib.figure.Figure):\n",
    "                        result.savefig('img/{}.png'.format(result._suptitle._text), dpi=100)\n",
    "                        save(result, result._suptitle._text)\n",
    "                        return\n",
    "                    else:\n",
    "                        save(result, final_file_name)\n",
    "                return result\n",
    "            else:\n",
    "                if not skip and 'title' in kwargs:\n",
    "                    display('read {}'.format(kwargs['title']))\n",
    "                    return load(kwargs['title'])                    \n",
    "                if not skip and final_file_name:\n",
    "                    display('read {}'.format(final_file_name))\n",
    "                    if os.path.isfile('data/{}.parquet'.format(final_file_name)) :\n",
    "                        return pd.read_parquet('data/{}.parquet'.format(final_file_name))\n",
    "                    else:\n",
    "                        return load(final_file_name)                    \n",
    "                else:\n",
    "                    display('code skipped')\n",
    "                    return\n",
    "        return wrapper\n",
    "\n",
    "    return decorator"
   ]
  },
  {
   "cell_type": "markdown",
   "metadata": {},
   "source": [
    "# Prepare DataSet"
   ]
  },
  {
   "cell_type": "code",
   "execution_count": 4,
   "metadata": {
    "collapsed": true
   },
   "outputs": [],
   "source": [
    "from sklearn.datasets import fetch_20newsgroups"
   ]
  },
  {
   "cell_type": "code",
   "execution_count": 5,
   "metadata": {
    "collapsed": true
   },
   "outputs": [],
   "source": [
    "def generate_new_clusters(obj, mapping):\n",
    "    for v in mapping.values():\n",
    "        for i in obj:\n",
    "            if v.startswith(i):\n",
    "                yield i\n",
    "\n",
    "@save_result('mydata')\n",
    "def load_dataset():\n",
    "    mydata = fetch_20newsgroups(subset='all', remove=('headers', 'footers', 'quotes'), shuffle=True)\n",
    "    display('Training data size:', len(mydata['data']))\n",
    "    return mydata \n",
    "\n",
    "@save_result('mappings')\n",
    "def generate_mappings(mydata):\n",
    "    a = [np.unique(['.'.join(i.split('.')[:k]) for i in mydata.target_names]) for k in range(1,4)]\n",
    "    targets = np.unique(mydata.target)\n",
    "    mapping1 = dict(zip(targets, a[2]))\n",
    "    mapping2 = dict(zip(targets, generate_new_clusters(a[1], mapping1)))\n",
    "    mapping3 = dict(zip(targets, generate_new_clusters(a[0], mapping1)))\n",
    "    return mapping1, mapping2, mapping3"
   ]
  },
  {
   "cell_type": "code",
   "execution_count": 6,
   "metadata": {},
   "outputs": [
    {
     "data": {
      "text/plain": [
       "'read mydata'"
      ]
     },
     "metadata": {},
     "output_type": "display_data"
    }
   ],
   "source": [
    "dset = load_dataset()"
   ]
  },
  {
   "cell_type": "code",
   "execution_count": 7,
   "metadata": {},
   "outputs": [
    {
     "data": {
      "text/plain": [
       "'read mappings'"
      ]
     },
     "metadata": {},
     "output_type": "display_data"
    },
    {
     "name": "stdout",
     "output_type": "stream",
     "text": [
      "{0: 'alt.atheism', 1: 'comp.graphics', 2: 'comp.os.ms-windows', 3: 'comp.sys.ibm', 4: 'comp.sys.mac', 5: 'comp.windows.x', 6: 'misc.forsale', 7: 'rec.autos', 8: 'rec.motorcycles', 9: 'rec.sport.baseball', 10: 'rec.sport.hockey', 11: 'sci.crypt', 12: 'sci.electronics', 13: 'sci.med', 14: 'sci.space', 15: 'soc.religion.christian', 16: 'talk.politics.guns', 17: 'talk.politics.mideast', 18: 'talk.politics.misc', 19: 'talk.religion.misc'} \n",
      "\n",
      "{0: 'alt.atheism', 1: 'comp.graphics', 2: 'comp.os', 3: 'comp.sys', 4: 'comp.sys', 5: 'comp.windows', 6: 'misc.forsale', 7: 'rec.autos', 8: 'rec.motorcycles', 9: 'rec.sport', 10: 'rec.sport', 11: 'sci.crypt', 12: 'sci.electronics', 13: 'sci.med', 14: 'sci.space', 15: 'soc.religion', 16: 'talk.politics', 17: 'talk.politics', 18: 'talk.politics', 19: 'talk.religion'} \n",
      "\n",
      "{0: 'alt', 1: 'comp', 2: 'comp', 3: 'comp', 4: 'comp', 5: 'comp', 6: 'misc', 7: 'rec', 8: 'rec', 9: 'rec', 10: 'rec', 11: 'sci', 12: 'sci', 13: 'sci', 14: 'sci', 15: 'soc', 16: 'talk', 17: 'talk', 18: 'talk', 19: 'talk'} \n",
      "\n"
     ]
    }
   ],
   "source": [
    "res = generate_mappings(dset)\n",
    "if res:\n",
    "    for mapping in res:\n",
    "        print(mapping, '\\n')"
   ]
  },
  {
   "cell_type": "code",
   "execution_count": 8,
   "metadata": {
    "collapsed": true
   },
   "outputs": [],
   "source": [
    "TARGET_COLUMNS = ['clusters', 'clusters_2', 'clusters_3']\n",
    "TEXT_COLUMN = 'data'"
   ]
  },
  {
   "cell_type": "code",
   "execution_count": 9,
   "metadata": {
    "collapsed": true
   },
   "outputs": [],
   "source": [
    "@save_result('df', calculate=False)\n",
    "def prepare_raw_df(mydata, mapping1, mapping2, mapping3):\n",
    "    df = pd.DataFrame({'data': mydata.data, 'target': mydata.target})\n",
    "    for mapping, col in zip([mapping1, mapping2, mapping3], TARGET_COLUMNS):\n",
    "        le = LabelEncoder()\n",
    "        df[col] = le.fit_transform(df['target'].apply(lambda x: mapping[x]))    \n",
    "        save(dict(enumerate(le.classes_)), col)\n",
    "    return df.drop(columns=['target']).drop_duplicates().reset_index(drop=True)"
   ]
  },
  {
   "cell_type": "code",
   "execution_count": 10,
   "metadata": {},
   "outputs": [
    {
     "data": {
      "text/plain": [
       "'read mappings'"
      ]
     },
     "metadata": {},
     "output_type": "display_data"
    },
    {
     "data": {
      "text/plain": [
       "'read df'"
      ]
     },
     "metadata": {},
     "output_type": "display_data"
    },
    {
     "data": {
      "text/html": [
       "<div>\n",
       "<style scoped>\n",
       "    .dataframe tbody tr th:only-of-type {\n",
       "        vertical-align: middle;\n",
       "    }\n",
       "\n",
       "    .dataframe tbody tr th {\n",
       "        vertical-align: top;\n",
       "    }\n",
       "\n",
       "    .dataframe thead th {\n",
       "        text-align: right;\n",
       "    }\n",
       "</style>\n",
       "<table border=\"1\" class=\"dataframe\">\n",
       "  <thead>\n",
       "    <tr style=\"text-align: right;\">\n",
       "      <th></th>\n",
       "      <th>data</th>\n",
       "      <th>clusters</th>\n",
       "      <th>clusters_2</th>\n",
       "      <th>clusters_3</th>\n",
       "    </tr>\n",
       "  </thead>\n",
       "  <tbody>\n",
       "    <tr>\n",
       "      <th>0</th>\n",
       "      <td>\\n\\nI am sure some bashers of Pens fans are pr...</td>\n",
       "      <td>10</td>\n",
       "      <td>8</td>\n",
       "      <td>3</td>\n",
       "    </tr>\n",
       "    <tr>\n",
       "      <th>1</th>\n",
       "      <td>My brother is in the market for a high-perform...</td>\n",
       "      <td>3</td>\n",
       "      <td>3</td>\n",
       "      <td>1</td>\n",
       "    </tr>\n",
       "    <tr>\n",
       "      <th>2</th>\n",
       "      <td>\\n\\n\\n\\n\\tFinally you said what you dream abou...</td>\n",
       "      <td>17</td>\n",
       "      <td>14</td>\n",
       "      <td>6</td>\n",
       "    </tr>\n",
       "    <tr>\n",
       "      <th>3</th>\n",
       "      <td>\\nThink!\\n\\nIt's the SCSI card doing the DMA t...</td>\n",
       "      <td>3</td>\n",
       "      <td>3</td>\n",
       "      <td>1</td>\n",
       "    </tr>\n",
       "    <tr>\n",
       "      <th>4</th>\n",
       "      <td>1)    I have an old Jasmine drive which I cann...</td>\n",
       "      <td>4</td>\n",
       "      <td>3</td>\n",
       "      <td>1</td>\n",
       "    </tr>\n",
       "  </tbody>\n",
       "</table>\n",
       "</div>"
      ],
      "text/plain": [
       "                                                data  clusters  clusters_2  \\\n",
       "0  \\n\\nI am sure some bashers of Pens fans are pr...        10           8   \n",
       "1  My brother is in the market for a high-perform...         3           3   \n",
       "2  \\n\\n\\n\\n\\tFinally you said what you dream abou...        17          14   \n",
       "3  \\nThink!\\n\\nIt's the SCSI card doing the DMA t...         3           3   \n",
       "4  1)    I have an old Jasmine drive which I cann...         4           3   \n",
       "\n",
       "   clusters_3  \n",
       "0           3  \n",
       "1           1  \n",
       "2           6  \n",
       "3           1  \n",
       "4           1  "
      ]
     },
     "execution_count": 10,
     "metadata": {},
     "output_type": "execute_result"
    }
   ],
   "source": [
    "prepare_raw_df(dset, *generate_mappings(dset)).head()"
   ]
  },
  {
   "cell_type": "code",
   "execution_count": 11,
   "metadata": {
    "collapsed": true
   },
   "outputs": [],
   "source": [
    "import gc\n",
    "class DataAdapter:\n",
    "    def __init__(self, df, **kwargs):\n",
    "        self.data = df.copy()\n",
    "\n",
    "    @property\n",
    "    def _text_data(self):\n",
    "        return  self.data[TEXT_COLUMN]\n",
    "    \n",
    "    def get_target(self, num):\n",
    "        return self.data[TARGET_COLUMNS[num]]\n",
    "        \n",
    "    def update_data(self, df):\n",
    "        del self.data\n",
    "        gc.collect()\n",
    "        self.data = df.copy()\n",
    "        \n",
    "    @save_result('-', calculate=False, skip=False)    \n",
    "    def calculate_kmenas(self, num_clusters, file_name=None):\n",
    "        return KMeans(n_clusters=num_clusters).fit_predict(self.vectors)\n",
    "    \n",
    "    def calculate_metrics(self, num):\n",
    "        # Compute confusion matrix\n",
    "        truth = self.get_target(num).values\n",
    "\n",
    "        num_clus = len(set(truth))\n",
    "        k_labels = self.calculate_kmenas(num_clus, file_name='kmenas_{}'.format(num_clus))\n",
    "\n",
    "        return {\n",
    "            'adjusted_rand_score': metrics.adjusted_rand_score(truth, k_labels),\n",
    "            'adjusted_mutual_info_score': metrics.adjusted_mutual_info_score(truth, k_labels),\n",
    "\n",
    "            'homogeneity_score': metrics.homogeneity_score(truth, k_labels),\n",
    "            'completeness_score': metrics.completeness_score(truth, k_labels),\n",
    "            'v_measure_score': metrics.v_measure_score(truth, k_labels),\n",
    "\n",
    "        }"
   ]
  },
  {
   "cell_type": "code",
   "execution_count": 12,
   "metadata": {},
   "outputs": [],
   "source": [
    "from wordcloud import WordCloud\n",
    "\n",
    "class Plotter:\n",
    "    \n",
    "    @save_result('-', calculate=False, skip=True)\n",
    "    def plot_clusters(self, func, title='title'):\n",
    "        fig, axs = plt.subplots(1, 3, figsize=(19, 3), sharey=False)\n",
    "        for num, col in enumerate(TARGET_COLUMNS):\n",
    "            self.plot(axs[num], self.convert_params(*func(self.data, col)))\n",
    "        fig.suptitle(title)\n",
    "        return fig\n",
    "\n",
    "    @save_result('-', calculate=False, skip=True)    \n",
    "    def clusters_wordcloud(self, name, title='title'):\n",
    "        mapping = load(name)\n",
    "        pdf = pd.DataFrame(self.data.groupby(name).agg(TEXT_COLUMN).sum())\n",
    "\n",
    "        fig = plt.figure(figsize=(20, 25))\n",
    "        for i in range(len(mapping)):\n",
    "            ax = fig.add_subplot(7,3,i+1)\n",
    "            wordcloud = WordCloud().generate(pdf['data'][i])\n",
    "            ax.set_title(\"WordCloud \" + mapping[pdf.index[i]])\n",
    "            ax.imshow(wordcloud, interpolation='bilinear')\n",
    "            ax.axis('off')\n",
    "        fig.suptitle(title)\n",
    "        return fig\n",
    "    \n",
    "    @save_result('-', calculate=True, skip=False)    \n",
    "    def clusters_tsne(self, num, title='title'):\n",
    "        tsne = TSNEVisualizer()\n",
    "        tsne.fit(self.vectors, self.get_target(num))\n",
    "        f = tsne.show().figure\n",
    "        f.set_figheight(15)\n",
    "        f.set_figwidth(15)\n",
    "        f.suptitle(title)\n",
    "        return f\n",
    "\n",
    "    @save_result('-', calculate=True, skip=False)    \n",
    "    def plot_confusion_matrix(self, num, title='title'):\n",
    "\n",
    "        # Compute confusion matrix\n",
    "        truth = self.get_target(num).values\n",
    "         \n",
    "        num_clus = len(set(truth))\n",
    "        k_labels = self.calculate_kmenas(num_clus, file_name='kmenas_{}'.format(num_clus))\n",
    "\n",
    "        \n",
    "        fig = plt.figure(figsize=(8, 8))\n",
    "        mat = confusion_matrix(truth, k_labels)\n",
    "        sns.heatmap(mat.T, square=True, annot=True, fmt='d', cbar=False,\n",
    "                    xticklabels=set(truth),\n",
    "                    yticklabels=set(truth))\n",
    "        plt.xlabel('true label')\n",
    "        plt.ylabel('predicted label');\n",
    "        fig.suptitle(title)\n",
    "        return fig\n",
    "\n",
    "    \n",
    "    @staticmethod\n",
    "    @save_result('-', calculate=False, skip=True)\n",
    "    def plot_linkage_matrix(linkage_matrix, ylimit=None, title=\"ward_clusters\", truncate_mode=None, p=5):\n",
    "        fig, ax = plt.subplots(figsize=(15, 20))\n",
    "\n",
    "        kwargs = {\n",
    "            'leaf_rotation':90.,  # rotates the x axis labels\n",
    "            'leaf_font_size':8.,  # font size for the x axis labels\n",
    "            'show_contracted':False,  # to get a distribution impression in truncated branches\n",
    "            'show_leaf_counts':False,  # otherwise numbers in brackets are counts\n",
    "\n",
    "        }\n",
    "        if truncate_mode:\n",
    "            kwargs.update({\n",
    "                'truncate_mode':truncate_mode,  # show only the last p merged clusters\n",
    "                'p':p,  # show only the last p merged clusters\n",
    "            })\n",
    "\n",
    "        axs = dendrogram(linkage_matrix, **kwargs);\n",
    "\n",
    "        if ylimit:\n",
    "            ax.set_ylim(*ylimit)\n",
    "\n",
    "        plt.tick_params(\n",
    "            axis= 'x',         # changes apply to the x-axis\n",
    "            which='both',      # both major and minor ticks are affected\n",
    "            bottom='off',      # ticks along the bottom edge are off\n",
    "            top='off',         # ticks along the top edge are off\n",
    "            labelbottom='off')\n",
    "\n",
    "        plt.tight_layout(); #show plot with tight layout\n",
    "        fig.suptitle(title)\n",
    "        return fig\n",
    "\n",
    "\n",
    "class PlotterBar(Plotter):\n",
    "\n",
    "    @staticmethod\n",
    "    def convert_params(x,y):\n",
    "        return { \"x\": x, \"height\": y}\n",
    "\n",
    "    def plot(self, ax, params):\n",
    "        ax.bar(**params)\n",
    "\n",
    "class PlotterScatter(Plotter):\n",
    "\n",
    "    @staticmethod\n",
    "    def convert_params(x,y,z):\n",
    "        return {'x': x, 'y': y, 'c': z}\n",
    "    \n",
    "    def plot(self, ax, params):\n",
    "        ax.scatter(**params)\n",
    "\n",
    "    def plot_clusters_svd(self, func):\n",
    "        svd = TruncatedSVD(n_components=2, n_iter=7, random_state=42)\n",
    "        svd_df = pd.DataFrame(data=svd.fit_transform(self.vectors), index=self.data.index, columns=[\"x\", \"y\"])\n",
    "        self.plot_clusters(partial(func, svd_df=svd_df), title='scatter plot for clusters SVD')\n",
    "        \n",
    "    def plot_clusters_svd_deep(self, func, with_text_features=True, n_components=300):\n",
    "        title = 'scatter plot for clusters SVD & then PCA {} {}'.format(with_text_features, n_components)\n",
    "        svd = TruncatedSVD(n_components=15, n_iter=7, random_state=42)\n",
    "        features = svd.fit_transform(self.vectors)\n",
    "\n",
    "        if with_text_features:\n",
    "            tmp = self.data[['word_count', 'length', 'word_density', 'compound', 'neg', 'neu', 'pos']]\n",
    "            tmp = SimpleImputer(missing_values=np.nan, strategy='median').fit_transform(tmp)\n",
    "            tmp = StandardScaler().fit_transform(tmp)\n",
    "            features = np.concatenate([np.array(tmp),features], axis=1)\n",
    "\n",
    "        pca = PCA(n_components=2, random_state=42)\n",
    "        svd_df = pd.DataFrame(data=pca.fit_transform(features), index=self.data.index, columns=[\"x\", \"y\"])\n",
    "        self.plot_clusters(partial(func, svd_df=svd_df), title=title)"
   ]
  },
  {
   "cell_type": "markdown",
   "metadata": {},
   "source": [
    "# Preproccessing DataSet"
   ]
  },
  {
   "cell_type": "code",
   "execution_count": 13,
   "metadata": {
    "collapsed": true
   },
   "outputs": [],
   "source": [
    "class PreproccessingAdapter(DataAdapter, PlotterBar):\n",
    "    pass"
   ]
  },
  {
   "cell_type": "code",
   "execution_count": 14,
   "metadata": {},
   "outputs": [
    {
     "data": {
      "text/plain": [
       "'read mappings'"
      ]
     },
     "metadata": {},
     "output_type": "display_data"
    },
    {
     "data": {
      "text/plain": [
       "'read df'"
      ]
     },
     "metadata": {},
     "output_type": "display_data"
    }
   ],
   "source": [
    "adapter = PreproccessingAdapter(prepare_raw_df(dset, *generate_mappings(dset)))"
   ]
  },
  {
   "cell_type": "markdown",
   "metadata": {},
   "source": [
    "# Clusters Frequency"
   ]
  },
  {
   "cell_type": "code",
   "execution_count": 15,
   "metadata": {},
   "outputs": [
    {
     "data": {
      "text/plain": [
       "'code skipped'"
      ]
     },
     "metadata": {},
     "output_type": "display_data"
    }
   ],
   "source": [
    "def get_frequency(df, column_name):\n",
    "    targets, frequency = np.unique(df[column_name], return_counts=True)\n",
    "    return range(len(targets)), frequency\n",
    "\n",
    "adapter.plot_clusters(get_frequency, title='Clusters Frequency');"
   ]
  },
  {
   "cell_type": "code",
   "execution_count": 16,
   "metadata": {},
   "outputs": [
    {
     "name": "stderr",
     "output_type": "stream",
     "text": [
      "[nltk_data] Downloading package wordnet to /home/dlab-\n",
      "[nltk_data]     user/nltk_data...\n",
      "[nltk_data]   Package wordnet is already up-to-date!\n",
      "[nltk_data] Downloading package vader_lexicon to /home/dlab-\n",
      "[nltk_data]     user/nltk_data...\n",
      "[nltk_data]   Package vader_lexicon is already up-to-date!\n"
     ]
    }
   ],
   "source": [
    "from gensim.parsing.preprocessing import remove_stopwords\n",
    "from gensim.utils import tokenize\n",
    "\n",
    "import nltk\n",
    "from nltk.stem import WordNetLemmatizer\n",
    "nltk.download('wordnet')\n",
    "wordnet_lemmatizer = WordNetLemmatizer()\n",
    "\n",
    "from nltk.sentiment import SentimentIntensityAnalyzer\n",
    "nltk.download('vader_lexicon')\n",
    "vader_analyzer = SentimentIntensityAnalyzer()\n",
    "\n",
    "def word_lemmatizer(word):\n",
    "    word = word.replace('_', '')\n",
    "    word1 = wordnet_lemmatizer.lemmatize(word, pos = \"n\") # NOUNS\n",
    "    word2 = wordnet_lemmatizer.lemmatize(word1, pos = \"v\") # VERB\n",
    "    return wordnet_lemmatizer.lemmatize(word2, pos = (\"a\")) # ADJ\n",
    "    \n",
    "\n",
    "def text_lemmatizer(text):\n",
    "    return ' '.join(map(word_lemmatizer, text))\n",
    "\n",
    "\n",
    "def lemmatizer(x):\n",
    "    x[TEXT_COLUMN] = x[TEXT_COLUMN].apply(lambda text: text_lemmatizer(tokenize(remove_stopwords(text))))\n",
    "    return x\n",
    "\n",
    "def get_sentimnent(x):\n",
    "    x['sentimnent'] = x[TEXT_COLUMN].apply(lambda text: vader_analyzer.polarity_scores(text))\n",
    "    return x\n",
    "\n",
    "def text_feature_selector(x):\n",
    "    x['word_count'] = x[TEXT_COLUMN].apply(lambda text : len(str(text).split()))\n",
    "    x['length'] = x[TEXT_COLUMN].apply(len)\n",
    "    x['word_density'] = x['length'] / x['word_count']\n",
    "    return x"
   ]
  },
  {
   "cell_type": "code",
   "execution_count": 17,
   "metadata": {
    "collapsed": true
   },
   "outputs": [],
   "source": [
    "@save_result('preprocessed_df', calculate=False)\n",
    "def nlp_preprocessing(df):\n",
    "    display(df.shape)\n",
    "    df = FunctionTransformer(lemmatizer, validate=False).transform(df)\n",
    "    display(df.shape)\n",
    "    df = FunctionTransformer(text_feature_selector, validate=False).transform(df)\n",
    "    display(df.shape)\n",
    "    df = FunctionTransformer(get_sentimnent, validate=False).transform(df)\n",
    "    display(df.shape)\n",
    "    df = pd.concat([df, pd.io.json.json_normalize(df['sentimnent'])], axis=1).drop(columns=['sentimnent'])\n",
    "    display(df.shape)\n",
    "    return df"
   ]
  },
  {
   "cell_type": "code",
   "execution_count": 18,
   "metadata": {},
   "outputs": [
    {
     "data": {
      "text/plain": [
       "'read preprocessed_df'"
      ]
     },
     "metadata": {},
     "output_type": "display_data"
    }
   ],
   "source": [
    "adapter.update_data(nlp_preprocessing(adapter.data))"
   ]
  },
  {
   "cell_type": "code",
   "execution_count": 19,
   "metadata": {},
   "outputs": [
    {
     "data": {
      "text/html": [
       "<div>\n",
       "<style scoped>\n",
       "    .dataframe tbody tr th:only-of-type {\n",
       "        vertical-align: middle;\n",
       "    }\n",
       "\n",
       "    .dataframe tbody tr th {\n",
       "        vertical-align: top;\n",
       "    }\n",
       "\n",
       "    .dataframe thead th {\n",
       "        text-align: right;\n",
       "    }\n",
       "</style>\n",
       "<table border=\"1\" class=\"dataframe\">\n",
       "  <thead>\n",
       "    <tr style=\"text-align: right;\">\n",
       "      <th></th>\n",
       "      <th>data</th>\n",
       "      <th>clusters</th>\n",
       "      <th>clusters_2</th>\n",
       "      <th>clusters_3</th>\n",
       "      <th>word_count</th>\n",
       "      <th>length</th>\n",
       "      <th>word_density</th>\n",
       "      <th>compound</th>\n",
       "      <th>neg</th>\n",
       "      <th>neu</th>\n",
       "      <th>pos</th>\n",
       "    </tr>\n",
       "  </thead>\n",
       "  <tbody>\n",
       "    <tr>\n",
       "      <th>0</th>\n",
       "      <td>I sure bashers Pens fan pretty confuse lack ki...</td>\n",
       "      <td>10</td>\n",
       "      <td>8</td>\n",
       "      <td>3</td>\n",
       "      <td>71</td>\n",
       "      <td>400</td>\n",
       "      <td>5.633803</td>\n",
       "      <td>0.5719</td>\n",
       "      <td>0.244</td>\n",
       "      <td>0.466</td>\n",
       "      <td>0.290</td>\n",
       "    </tr>\n",
       "    <tr>\n",
       "      <th>1</th>\n",
       "      <td>My brother market high performance video card ...</td>\n",
       "      <td>3</td>\n",
       "      <td>3</td>\n",
       "      <td>1</td>\n",
       "      <td>39</td>\n",
       "      <td>232</td>\n",
       "      <td>5.948718</td>\n",
       "      <td>0.8225</td>\n",
       "      <td>0.029</td>\n",
       "      <td>0.752</td>\n",
       "      <td>0.219</td>\n",
       "    </tr>\n",
       "    <tr>\n",
       "      <th>2</th>\n",
       "      <td>Finally say dream about Mediterranean That new...</td>\n",
       "      <td>17</td>\n",
       "      <td>14</td>\n",
       "      <td>6</td>\n",
       "      <td>161</td>\n",
       "      <td>926</td>\n",
       "      <td>5.751553</td>\n",
       "      <td>-0.9970</td>\n",
       "      <td>0.366</td>\n",
       "      <td>0.555</td>\n",
       "      <td>0.079</td>\n",
       "    </tr>\n",
       "    <tr>\n",
       "      <th>3</th>\n",
       "      <td>Think It s SCSI card DMA transfer NOT disk The...</td>\n",
       "      <td>3</td>\n",
       "      <td>3</td>\n",
       "      <td>1</td>\n",
       "      <td>82</td>\n",
       "      <td>476</td>\n",
       "      <td>5.804878</td>\n",
       "      <td>0.9153</td>\n",
       "      <td>0.000</td>\n",
       "      <td>0.822</td>\n",
       "      <td>0.178</td>\n",
       "    </tr>\n",
       "    <tr>\n",
       "      <th>4</th>\n",
       "      <td>I old Jasmine drive I use new system My unders...</td>\n",
       "      <td>4</td>\n",
       "      <td>3</td>\n",
       "      <td>1</td>\n",
       "      <td>58</td>\n",
       "      <td>342</td>\n",
       "      <td>5.896552</td>\n",
       "      <td>0.5574</td>\n",
       "      <td>0.000</td>\n",
       "      <td>0.911</td>\n",
       "      <td>0.089</td>\n",
       "    </tr>\n",
       "  </tbody>\n",
       "</table>\n",
       "</div>"
      ],
      "text/plain": [
       "                                                data  clusters  clusters_2  \\\n",
       "0  I sure bashers Pens fan pretty confuse lack ki...        10           8   \n",
       "1  My brother market high performance video card ...         3           3   \n",
       "2  Finally say dream about Mediterranean That new...        17          14   \n",
       "3  Think It s SCSI card DMA transfer NOT disk The...         3           3   \n",
       "4  I old Jasmine drive I use new system My unders...         4           3   \n",
       "\n",
       "   clusters_3  word_count  length  word_density  compound    neg    neu    pos  \n",
       "0           3          71     400      5.633803    0.5719  0.244  0.466  0.290  \n",
       "1           1          39     232      5.948718    0.8225  0.029  0.752  0.219  \n",
       "2           6         161     926      5.751553   -0.9970  0.366  0.555  0.079  \n",
       "3           1          82     476      5.804878    0.9153  0.000  0.822  0.178  \n",
       "4           1          58     342      5.896552    0.5574  0.000  0.911  0.089  "
      ]
     },
     "execution_count": 19,
     "metadata": {},
     "output_type": "execute_result"
    }
   ],
   "source": [
    "adapter.data.head()"
   ]
  },
  {
   "cell_type": "code",
   "execution_count": 20,
   "metadata": {
    "collapsed": true
   },
   "outputs": [],
   "source": [
    "def get_word_density(df, colname, feature):\n",
    "    tdf = df.groupby([colname]).agg(feature).mean()\n",
    "    return tdf.index, tdf.values"
   ]
  },
  {
   "cell_type": "code",
   "execution_count": 21,
   "metadata": {},
   "outputs": [
    {
     "data": {
      "text/plain": [
       "'code skipped'"
      ]
     },
     "metadata": {},
     "output_type": "display_data"
    }
   ],
   "source": [
    "adapter.plot_clusters(partial(get_word_density, feature='word_density'), title='Clusters word_density');"
   ]
  },
  {
   "cell_type": "code",
   "execution_count": 22,
   "metadata": {},
   "outputs": [
    {
     "data": {
      "text/plain": [
       "'code skipped'"
      ]
     },
     "metadata": {},
     "output_type": "display_data"
    }
   ],
   "source": [
    "adapter.plot_clusters(partial(get_word_density, feature='length'), title='Clusters length');"
   ]
  },
  {
   "cell_type": "code",
   "execution_count": 23,
   "metadata": {},
   "outputs": [
    {
     "data": {
      "text/plain": [
       "'code skipped'"
      ]
     },
     "metadata": {},
     "output_type": "display_data"
    }
   ],
   "source": [
    "adapter.plot_clusters(partial(get_word_density, feature='word_count'), title='Clusters word_count');"
   ]
  },
  {
   "cell_type": "code",
   "execution_count": null,
   "metadata": {
    "collapsed": true
   },
   "outputs": [],
   "source": []
  },
  {
   "cell_type": "code",
   "execution_count": 24,
   "metadata": {},
   "outputs": [
    {
     "data": {
      "text/plain": [
       "'code skipped'"
      ]
     },
     "metadata": {},
     "output_type": "display_data"
    }
   ],
   "source": [
    "adapter.clusters_wordcloud('clusters', title='wordcloud_clusters');"
   ]
  },
  {
   "cell_type": "code",
   "execution_count": 25,
   "metadata": {},
   "outputs": [
    {
     "data": {
      "text/plain": [
       "'code skipped'"
      ]
     },
     "metadata": {},
     "output_type": "display_data"
    }
   ],
   "source": [
    "adapter.clusters_wordcloud('clusters_2', title='wordcloud_clusters_2');"
   ]
  },
  {
   "cell_type": "code",
   "execution_count": 26,
   "metadata": {},
   "outputs": [
    {
     "data": {
      "text/plain": [
       "'code skipped'"
      ]
     },
     "metadata": {},
     "output_type": "display_data"
    }
   ],
   "source": [
    "adapter.clusters_wordcloud('clusters_3', title='wordcloud_clusters_3');"
   ]
  },
  {
   "cell_type": "code",
   "execution_count": 27,
   "metadata": {},
   "outputs": [
    {
     "data": {
      "text/html": [
       "<div>\n",
       "<style scoped>\n",
       "    .dataframe tbody tr th:only-of-type {\n",
       "        vertical-align: middle;\n",
       "    }\n",
       "\n",
       "    .dataframe tbody tr th {\n",
       "        vertical-align: top;\n",
       "    }\n",
       "\n",
       "    .dataframe thead th {\n",
       "        text-align: right;\n",
       "    }\n",
       "</style>\n",
       "<table border=\"1\" class=\"dataframe\">\n",
       "  <thead>\n",
       "    <tr style=\"text-align: right;\">\n",
       "      <th></th>\n",
       "      <th>data</th>\n",
       "      <th>clusters</th>\n",
       "      <th>clusters_2</th>\n",
       "      <th>clusters_3</th>\n",
       "      <th>word_count</th>\n",
       "      <th>length</th>\n",
       "      <th>word_density</th>\n",
       "      <th>compound</th>\n",
       "      <th>neg</th>\n",
       "      <th>neu</th>\n",
       "      <th>pos</th>\n",
       "    </tr>\n",
       "  </thead>\n",
       "  <tbody>\n",
       "    <tr>\n",
       "      <th>0</th>\n",
       "      <td>I sure bashers Pens fan pretty confuse lack ki...</td>\n",
       "      <td>10</td>\n",
       "      <td>8</td>\n",
       "      <td>3</td>\n",
       "      <td>71</td>\n",
       "      <td>400</td>\n",
       "      <td>5.633803</td>\n",
       "      <td>0.5719</td>\n",
       "      <td>0.244</td>\n",
       "      <td>0.466</td>\n",
       "      <td>0.290</td>\n",
       "    </tr>\n",
       "    <tr>\n",
       "      <th>1</th>\n",
       "      <td>My brother market high performance video card ...</td>\n",
       "      <td>3</td>\n",
       "      <td>3</td>\n",
       "      <td>1</td>\n",
       "      <td>39</td>\n",
       "      <td>232</td>\n",
       "      <td>5.948718</td>\n",
       "      <td>0.8225</td>\n",
       "      <td>0.029</td>\n",
       "      <td>0.752</td>\n",
       "      <td>0.219</td>\n",
       "    </tr>\n",
       "    <tr>\n",
       "      <th>2</th>\n",
       "      <td>Finally say dream about Mediterranean That new...</td>\n",
       "      <td>17</td>\n",
       "      <td>14</td>\n",
       "      <td>6</td>\n",
       "      <td>161</td>\n",
       "      <td>926</td>\n",
       "      <td>5.751553</td>\n",
       "      <td>-0.9970</td>\n",
       "      <td>0.366</td>\n",
       "      <td>0.555</td>\n",
       "      <td>0.079</td>\n",
       "    </tr>\n",
       "    <tr>\n",
       "      <th>3</th>\n",
       "      <td>Think It s SCSI card DMA transfer NOT disk The...</td>\n",
       "      <td>3</td>\n",
       "      <td>3</td>\n",
       "      <td>1</td>\n",
       "      <td>82</td>\n",
       "      <td>476</td>\n",
       "      <td>5.804878</td>\n",
       "      <td>0.9153</td>\n",
       "      <td>0.000</td>\n",
       "      <td>0.822</td>\n",
       "      <td>0.178</td>\n",
       "    </tr>\n",
       "    <tr>\n",
       "      <th>4</th>\n",
       "      <td>I old Jasmine drive I use new system My unders...</td>\n",
       "      <td>4</td>\n",
       "      <td>3</td>\n",
       "      <td>1</td>\n",
       "      <td>58</td>\n",
       "      <td>342</td>\n",
       "      <td>5.896552</td>\n",
       "      <td>0.5574</td>\n",
       "      <td>0.000</td>\n",
       "      <td>0.911</td>\n",
       "      <td>0.089</td>\n",
       "    </tr>\n",
       "  </tbody>\n",
       "</table>\n",
       "</div>"
      ],
      "text/plain": [
       "                                                data  clusters  clusters_2  \\\n",
       "0  I sure bashers Pens fan pretty confuse lack ki...        10           8   \n",
       "1  My brother market high performance video card ...         3           3   \n",
       "2  Finally say dream about Mediterranean That new...        17          14   \n",
       "3  Think It s SCSI card DMA transfer NOT disk The...         3           3   \n",
       "4  I old Jasmine drive I use new system My unders...         4           3   \n",
       "\n",
       "   clusters_3  word_count  length  word_density  compound    neg    neu    pos  \n",
       "0           3          71     400      5.633803    0.5719  0.244  0.466  0.290  \n",
       "1           1          39     232      5.948718    0.8225  0.029  0.752  0.219  \n",
       "2           6         161     926      5.751553   -0.9970  0.366  0.555  0.079  \n",
       "3           1          82     476      5.804878    0.9153  0.000  0.822  0.178  \n",
       "4           1          58     342      5.896552    0.5574  0.000  0.911  0.089  "
      ]
     },
     "execution_count": 27,
     "metadata": {},
     "output_type": "execute_result"
    }
   ],
   "source": [
    "adapter.data.head()"
   ]
  },
  {
   "cell_type": "markdown",
   "metadata": {},
   "source": [
    "# TF-iDF"
   ]
  },
  {
   "cell_type": "code",
   "execution_count": 28,
   "metadata": {
    "collapsed": true
   },
   "outputs": [],
   "source": [
    "class TfidfVectoriserAdapter(DataAdapter, PlotterScatter):\n",
    "    \n",
    "    def __init__(self, df, **kwargs):\n",
    "        super().__init__(df, **kwargs)\n",
    "\n",
    "        self.vectorizer = TfidfVectorizer()\n",
    "        self.is_fited = False\n",
    "        self._vectors = None\n",
    "        \n",
    "\n",
    "    @property\n",
    "    def vectors(self, refit=False):\n",
    "        if not self.is_fited or refit:\n",
    "            self._vectors = self.vectorizer.fit_transform(self._text_data.tolist())\n",
    "            self.is_fited = True\n",
    "        return self._vectors\n",
    "    \n",
    "    @property\n",
    "    def get_cosine_similarity(self):\n",
    "        return cosine_similarity(self.vectors())\n",
    "\n",
    "    @property\n",
    "    @save_result('tfidf_wrap_cosdist', calculate=False)\n",
    "    def linkage_matrix(self):\n",
    "        display('calculate linkage_matrix')\n",
    "        return ward(1 - self.get_cosine_similarity)\n",
    "\n",
    "    def illustrate_dendrogram(self, mode=\"Full\"):\n",
    "        vtype = \"tfidf\"\n",
    "        if mode == \"Full\":\n",
    "            self.plot_linkage_matrix(self.linkage_matrix, title=\"dendrogram_{}_full\".format(vtype))\n",
    "            return\n",
    "        self.plot_linkage_matrix(self.linkage_matrix, \n",
    "                                 ylimit=(1.2, None), \n",
    "                                 truncate_mode='level', p=5, \n",
    "                                 title=\"dendrogram_{}_truncate_mode_{}_p_{}_with_ylimit\".format(vtype, 'level', 5))\n"
   ]
  },
  {
   "cell_type": "code",
   "execution_count": 29,
   "metadata": {
    "collapsed": true
   },
   "outputs": [],
   "source": [
    "tfidf_adapter = TfidfVectoriserAdapter(adapter.data)"
   ]
  },
  {
   "cell_type": "code",
   "execution_count": 30,
   "metadata": {
    "collapsed": true
   },
   "outputs": [],
   "source": [
    "def reduced_results(df, column_name, svd_df):\n",
    "    results_pd = pd.concat([df[[column_name]], svd_df], axis=1)\n",
    "    results_pd = results_pd[results_pd['x'] < 60]\n",
    "    return results_pd['x'].values, results_pd['y'].values, results_pd[column_name].values"
   ]
  },
  {
   "cell_type": "code",
   "execution_count": 31,
   "metadata": {},
   "outputs": [
    {
     "data": {
      "text/plain": [
       "'code skipped'"
      ]
     },
     "metadata": {},
     "output_type": "display_data"
    }
   ],
   "source": [
    "tfidf_adapter.plot_clusters_svd(reduced_results);"
   ]
  },
  {
   "cell_type": "code",
   "execution_count": 32,
   "metadata": {},
   "outputs": [
    {
     "data": {
      "text/plain": [
       "'code skipped'"
      ]
     },
     "metadata": {},
     "output_type": "display_data"
    }
   ],
   "source": [
    "tfidf_adapter.plot_clusters_svd_deep(reduced_results);"
   ]
  },
  {
   "cell_type": "code",
   "execution_count": 33,
   "metadata": {},
   "outputs": [
    {
     "data": {
      "text/plain": [
       "'code skipped'"
      ]
     },
     "metadata": {},
     "output_type": "display_data"
    }
   ],
   "source": [
    "tfidf_adapter.plot_clusters_svd_deep(reduced_results, with_text_features=False, n_components=15);"
   ]
  },
  {
   "cell_type": "code",
   "execution_count": 34,
   "metadata": {},
   "outputs": [
    {
     "data": {
      "text/plain": [
       "'code skipped'"
      ]
     },
     "metadata": {},
     "output_type": "display_data"
    }
   ],
   "source": [
    "tfidf_adapter.plot_clusters_svd_deep(reduced_results, with_text_features=False, n_components=300);"
   ]
  },
  {
   "cell_type": "code",
   "execution_count": 35,
   "metadata": {},
   "outputs": [
    {
     "data": {
      "text/plain": [
       "'code skipped'"
      ]
     },
     "metadata": {},
     "output_type": "display_data"
    }
   ],
   "source": [
    "tfidf_adapter.plot_clusters_svd_deep(reduced_results, with_text_features=False, n_components=1000);"
   ]
  },
  {
   "cell_type": "code",
   "execution_count": 36,
   "metadata": {},
   "outputs": [
    {
     "data": {
      "text/plain": [
       "'read tfidf_wrap_cosdist'"
      ]
     },
     "metadata": {},
     "output_type": "display_data"
    },
    {
     "data": {
      "text/plain": [
       "'code skipped'"
      ]
     },
     "metadata": {},
     "output_type": "display_data"
    }
   ],
   "source": [
    "tfidf_adapter.illustrate_dendrogram();"
   ]
  },
  {
   "cell_type": "code",
   "execution_count": 37,
   "metadata": {},
   "outputs": [
    {
     "data": {
      "text/plain": [
       "'read tfidf_wrap_cosdist'"
      ]
     },
     "metadata": {},
     "output_type": "display_data"
    },
    {
     "data": {
      "text/plain": [
       "'code skipped'"
      ]
     },
     "metadata": {},
     "output_type": "display_data"
    }
   ],
   "source": [
    "tfidf_adapter.illustrate_dendrogram(mode=\"not Full\")"
   ]
  },
  {
   "cell_type": "code",
   "execution_count": 38,
   "metadata": {},
   "outputs": [],
   "source": [
    "# tfidf_adapter.clusters_tsne(num = 0, title='tsne_0')"
   ]
  },
  {
   "cell_type": "code",
   "execution_count": 39,
   "metadata": {},
   "outputs": [],
   "source": [
    "# tfidf_adapter.clusters_tsne(num = 1, title='tsne_1')"
   ]
  },
  {
   "cell_type": "code",
   "execution_count": 40,
   "metadata": {},
   "outputs": [],
   "source": [
    "# tfidf_adapter.clusters_tsne(num = 2, title='tsne_2')"
   ]
  },
  {
   "cell_type": "code",
   "execution_count": 41,
   "metadata": {},
   "outputs": [
    {
     "data": {
      "text/plain": [
       "'read kmenas_20'"
      ]
     },
     "metadata": {},
     "output_type": "display_data"
    },
    {
     "data": {
      "image/png": "[encoded data removed]",
      "text/plain": [
       "<Figure size 576x576 with 1 Axes>"
      ]
     },
     "metadata": {
      "needs_background": "light"
     },
     "output_type": "display_data"
    }
   ],
   "source": [
    "tfidf_adapter.plot_confusion_matrix(0, title='kmenas_20_confusion_matrix')"
   ]
  },
  {
   "cell_type": "code",
   "execution_count": 42,
   "metadata": {},
   "outputs": [
    {
     "data": {
      "text/plain": [
       "'read kmenas_16'"
      ]
     },
     "metadata": {},
     "output_type": "display_data"
    },
    {
     "data": {
      "image/png": "[encoded data removed]",
      "text/plain": [
       "<Figure size 576x576 with 1 Axes>"
      ]
     },
     "metadata": {
      "needs_background": "light"
     },
     "output_type": "display_data"
    }
   ],
   "source": [
    "tfidf_adapter.plot_confusion_matrix(1, title='kmenas_16_confusion_matrix')"
   ]
  },
  {
   "cell_type": "code",
   "execution_count": 43,
   "metadata": {},
   "outputs": [
    {
     "data": {
      "text/plain": [
       "'read kmenas_7'"
      ]
     },
     "metadata": {},
     "output_type": "display_data"
    },
    {
     "data": {
      "image/png": "[encoded data removed]",
      "text/plain": [
       "<Figure size 576x576 with 1 Axes>"
      ]
     },
     "metadata": {
      "needs_background": "light"
     },
     "output_type": "display_data"
    }
   ],
   "source": [
    "tfidf_adapter.plot_confusion_matrix(2, title='kmenas_7_confusion_matrix')"
   ]
  },
  {
   "cell_type": "code",
   "execution_count": 44,
   "metadata": {},
   "outputs": [
    {
     "data": {
      "text/plain": [
       "'read kmenas_20'"
      ]
     },
     "metadata": {},
     "output_type": "display_data"
    },
    {
     "data": {
      "text/plain": [
       "{'adjusted_mutual_info_score': 0.3014178484062217,\n",
       " 'adjusted_rand_score': 0.06810421105991954,\n",
       " 'completeness_score': 0.33643585672856485,\n",
       " 'homogeneity_score': 0.27720978037874683,\n",
       " 'v_measure_score': 0.30396471290792054}"
      ]
     },
     "execution_count": 44,
     "metadata": {},
     "output_type": "execute_result"
    }
   ],
   "source": [
    "tfidf_adapter.calculate_metrics(0)"
   ]
  },
  {
   "cell_type": "code",
   "execution_count": 45,
   "metadata": {},
   "outputs": [
    {
     "data": {
      "text/plain": [
       "'read kmenas_16'"
      ]
     },
     "metadata": {},
     "output_type": "display_data"
    },
    {
     "data": {
      "text/plain": [
       "{'adjusted_mutual_info_score': 0.3331788240663835,\n",
       " 'adjusted_rand_score': 0.09043747354955896,\n",
       " 'completeness_score': 0.3728382532918957,\n",
       " 'homogeneity_score': 0.3039152684212182,\n",
       " 'v_measure_score': 0.33486707993797177}"
      ]
     },
     "execution_count": 45,
     "metadata": {},
     "output_type": "execute_result"
    }
   ],
   "source": [
    "tfidf_adapter.calculate_metrics(1)"
   ]
  },
  {
   "cell_type": "code",
   "execution_count": 46,
   "metadata": {},
   "outputs": [
    {
     "data": {
      "text/plain": [
       "'read kmenas_7'"
      ]
     },
     "metadata": {},
     "output_type": "display_data"
    },
    {
     "data": {
      "text/plain": [
       "{'adjusted_mutual_info_score': 0.2604713111042972,\n",
       " 'adjusted_rand_score': 0.09924834743846876,\n",
       " 'completeness_score': 0.28675837137973553,\n",
       " 'homogeneity_score': 0.23935836152918816,\n",
       " 'v_measure_score': 0.2609231360072096}"
      ]
     },
     "execution_count": 46,
     "metadata": {},
     "output_type": "execute_result"
    }
   ],
   "source": [
    "tfidf_adapter.calculate_metrics(2)"
   ]
  },
  {
   "cell_type": "code",
   "execution_count": null,
   "metadata": {
    "collapsed": true
   },
   "outputs": [],
   "source": []
  }
 ],
 "metadata": {
  "kernelspec": {
   "display_name": "Local PySpark (Python-3.5 / Spark-2.3.0 )",
   "language": "python",
   "name": "py3spark_local"
  },
  "language_info": {
   "codemirror_mode": {
    "name": "ipython",
    "version": 3
   },
   "file_extension": ".py",
   "mimetype": "text/x-python",
   "name": "python",
   "nbconvert_exporter": "python",
   "pygments_lexer": "ipython3",
   "version": "3.5.2"
  }
 },
 "nbformat": 4,
 "nbformat_minor": 4
}
