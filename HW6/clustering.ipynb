{
 "cells": [
  {
   "cell_type": "code",
   "execution_count": 95,
   "metadata": {},
   "outputs": [],
   "source": [
    "import pandas as pd\n",
    "import numpy as np\n",
    "import sys\n",
    "import matplotlib\n",
    "import matplotlib.pyplot as plt\n",
    "\n",
    "from sklearn.preprocessing import FunctionTransformer\n",
    "from sklearn.feature_extraction.text import TfidfVectorizer\n",
    "from sklearn.decomposition import TruncatedSVD, PCA\n",
    "from sklearn.impute import SimpleImputer\n",
    "from sklearn.preprocessing import StandardScaler, RobustScaler\n",
    "from sklearn.metrics.pairwise import cosine_similarity\n",
    "from scipy.cluster.hierarchy import ward, dendrogram\n",
    "from scipy.spatial.distance import cdist\n",
    "from sklearn.metrics import pairwise_distances"
   ]
  },
  {
   "cell_type": "code",
   "execution_count": 2,
   "metadata": {},
   "outputs": [
    {
     "name": "stdout",
     "output_type": "stream",
     "text": [
      "Python version\n",
      "3.5.2 (default, Oct  8 2019, 13:06:37) \n",
      "[GCC 5.4.0 20160609]\n",
      "Version info.\n",
      "sys.version_info(major=3, minor=5, micro=2, releaselevel='final', serial=0)\n"
     ]
    }
   ],
   "source": [
    "print(\"Python version\")\n",
    "print (sys.version)\n",
    "print(\"Version info.\")\n",
    "print (sys.version_info)"
   ]
  },
  {
   "cell_type": "markdown",
   "metadata": {},
   "source": [
    "# Prepare DataSet"
   ]
  },
  {
   "cell_type": "code",
   "execution_count": 3,
   "metadata": {},
   "outputs": [
    {
     "name": "stdout",
     "output_type": "stream",
     "text": [
      "Couldn't find program: 'False'\n"
     ]
    }
   ],
   "source": [
    "%%script False\n",
    "from sklearn.datasets import fetch_20newsgroups\n",
    "mydata  = fetch_20newsgroups(subset='all', remove=('headers', 'footers', 'quotes'), shuffle=True)\n",
    "print('Training data size:', len(mydata['data']))"
   ]
  },
  {
   "cell_type": "code",
   "execution_count": 4,
   "metadata": {},
   "outputs": [
    {
     "name": "stdout",
     "output_type": "stream",
     "text": [
      "Couldn't find program: 'False'\n"
     ]
    }
   ],
   "source": [
    "%%script False\n",
    "a = [np.unique(['.'.join(i.split('.')[:k]) for i in mydata.target_names]) for k in range(1,4)]\n",
    "targets = np.unique(mydata.target)\n",
    "mapping = dict(zip(targets, a[2]))"
   ]
  },
  {
   "cell_type": "code",
   "execution_count": 5,
   "metadata": {
    "collapsed": true
   },
   "outputs": [],
   "source": [
    "import pickle\n",
    "def save_mapping(mapping_dict, name):\n",
    "    with open('data/{}.pickle'.format(name), 'wb') as handle:\n",
    "        pickle.dump(mapping_dict, handle, protocol=pickle.HIGHEST_PROTOCOL)\n",
    "        \n",
    "def load_mapping(name):\n",
    "    with open('data/{}.pickle'.format(name), 'rb') as handle:\n",
    "        return pickle.load(handle)"
   ]
  },
  {
   "cell_type": "code",
   "execution_count": 6,
   "metadata": {},
   "outputs": [
    {
     "name": "stdout",
     "output_type": "stream",
     "text": [
      "Couldn't find program: 'False'\n"
     ]
    }
   ],
   "source": [
    "%%script False\n",
    "\n",
    "def generate_new_clusters(obj):\n",
    "    for v in mapping.values():\n",
    "        for i in obj:\n",
    "            if v.startswith(i):\n",
    "                yield i\n",
    "\n",
    "mapping2 = dict(zip(targets, generate_new_clusters(a[1])))\n",
    "mapping3 = dict(zip(targets, generate_new_clusters(a[0])))\n",
    "print(mapping2)\n",
    "print(mapping3)\n",
    "print(len(mapping))\n",
    "print(len(mapping2))\n",
    "print(len(mapping3))"
   ]
  },
  {
   "cell_type": "code",
   "execution_count": 7,
   "metadata": {
    "collapsed": true
   },
   "outputs": [],
   "source": [
    "TARGET_COLUMNS = ['clusters', 'clusters_2', 'clusters_3']\n",
    "TEXT_COLUMN = 'data'"
   ]
  },
  {
   "cell_type": "code",
   "execution_count": 8,
   "metadata": {},
   "outputs": [
    {
     "name": "stdout",
     "output_type": "stream",
     "text": [
      "Couldn't find program: 'False'\n"
     ]
    }
   ],
   "source": [
    "%%script False\n",
    "\n",
    "df = pd.DataFrame({'data': mydata.data, 'target': mydata.target})\n",
    "for mapping, col in zip([mapping, mapping2, mapping3], TARGET_COLUMNS):\n",
    "    df[col] = df['target'].apply(lambda x: mapping[x])\n",
    "    \n",
    "df.to_parquet('data/df.parquet')"
   ]
  },
  {
   "cell_type": "markdown",
   "metadata": {},
   "source": [
    "# Preproccessing DataSet"
   ]
  },
  {
   "cell_type": "code",
   "execution_count": 9,
   "metadata": {},
   "outputs": [
    {
     "name": "stdout",
     "output_type": "stream",
     "text": [
      "Couldn't find program: 'False'\n"
     ]
    }
   ],
   "source": [
    "%%script False\n",
    "df = pd.read_parquet('data/df.parquet')"
   ]
  },
  {
   "cell_type": "code",
   "execution_count": 10,
   "metadata": {
    "collapsed": true
   },
   "outputs": [],
   "source": [
    "def drop_duplicate_values(x):\n",
    "    return x.drop_duplicates().reset_index(drop=True)"
   ]
  },
  {
   "cell_type": "markdown",
   "metadata": {},
   "source": [
    "# Clusters Frequency"
   ]
  },
  {
   "cell_type": "code",
   "execution_count": 11,
   "metadata": {
    "collapsed": true
   },
   "outputs": [],
   "source": [
    "def get_frequency(column_name):\n",
    "    targets, frequency = np.unique(df[column_name], return_counts=True)\n",
    "    if column_name == 'clusters_3':\n",
    "        return targets, frequency\n",
    "    return range(len(targets)), frequency\n",
    "\n",
    "def plot_clusters(func, title, type='bar'):\n",
    "    fig, axs = plt.subplots(1, 3, figsize=(19, 3), sharey=False)\n",
    "    for num, col in enumerate(TARGET_COLUMNS):\n",
    "        if type == 'bar':\n",
    "            axs[num].bar(*func(col))\n",
    "        else:\n",
    "            axs[num].scatter(**func(col))\n",
    "    fig.suptitle(title)"
   ]
  },
  {
   "cell_type": "code",
   "execution_count": 12,
   "metadata": {},
   "outputs": [
    {
     "name": "stdout",
     "output_type": "stream",
     "text": [
      "Couldn't find program: 'False'\n"
     ]
    }
   ],
   "source": [
    "%%script False\n",
    "plot_clusters(get_frequency, 'Clusters Frequency')"
   ]
  },
  {
   "cell_type": "code",
   "execution_count": 13,
   "metadata": {},
   "outputs": [
    {
     "name": "stdout",
     "output_type": "stream",
     "text": [
      "Couldn't find program: 'False'\n"
     ]
    }
   ],
   "source": [
    "%%script False\n",
    "from sklearn.preprocessing import LabelEncoder\n",
    "for col in TARGET_COLUMNS:\n",
    "    le = LabelEncoder()\n",
    "    df[col] = le.fit_transform(df[col])    \n",
    "    save_mapping(dict(enumerate(le.classes_)), col)\n",
    "df = df.drop(columns=['target'])"
   ]
  },
  {
   "cell_type": "code",
   "execution_count": 14,
   "metadata": {},
   "outputs": [
    {
     "name": "stderr",
     "output_type": "stream",
     "text": [
      "[nltk_data] Downloading package wordnet to /home/dlab-\n",
      "[nltk_data]     user/nltk_data...\n",
      "[nltk_data]   Package wordnet is already up-to-date!\n",
      "[nltk_data] Downloading package vader_lexicon to /home/dlab-\n",
      "[nltk_data]     user/nltk_data...\n",
      "[nltk_data]   Package vader_lexicon is already up-to-date!\n"
     ]
    }
   ],
   "source": [
    "from gensim.parsing.preprocessing import remove_stopwords\n",
    "from gensim.utils import tokenize\n",
    "\n",
    "import nltk\n",
    "from nltk.stem import WordNetLemmatizer\n",
    "nltk.download('wordnet')\n",
    "wordnet_lemmatizer = WordNetLemmatizer()\n",
    "\n",
    "from nltk.sentiment import SentimentIntensityAnalyzer\n",
    "nltk.download('vader_lexicon')\n",
    "vader_analyzer = SentimentIntensityAnalyzer()\n",
    "\n",
    "def word_lemmatizer(word):\n",
    "    word = word.replace('_', '')\n",
    "    word1 = wordnet_lemmatizer.lemmatize(word, pos = \"n\") # NOUNS\n",
    "    word2 = wordnet_lemmatizer.lemmatize(word1, pos = \"v\") # VERB\n",
    "    return wordnet_lemmatizer.lemmatize(word2, pos = (\"a\")) # ADJ\n",
    "    \n",
    "\n",
    "def text_lemmatizer(text):\n",
    "    return ' '.join(map(word_lemmatizer, text))\n",
    "\n",
    "\n",
    "def lemmatizer(x):\n",
    "    x[TEXT_COLUMN] = x[TEXT_COLUMN].apply(lambda text: text_lemmatizer(tokenize(remove_stopwords(text))))\n",
    "    return x\n",
    "\n",
    "def get_sentimnent(x):\n",
    "    x['sentimnent'] = x[TEXT_COLUMN].apply(lambda text: vader_analyzer.polarity_scores(text))\n",
    "    return x"
   ]
  },
  {
   "cell_type": "code",
   "execution_count": 15,
   "metadata": {
    "collapsed": true
   },
   "outputs": [],
   "source": [
    "def text_feature_selector(x):\n",
    "    x['word_count'] = x[TEXT_COLUMN].apply(lambda text : len(str(text).split()))\n",
    "    x['length'] = x[TEXT_COLUMN].apply(len)\n",
    "    x['word_density'] = x['length'] / x['word_count']\n",
    "    return x"
   ]
  },
  {
   "cell_type": "code",
   "execution_count": 16,
   "metadata": {},
   "outputs": [
    {
     "name": "stdout",
     "output_type": "stream",
     "text": [
      "Couldn't find program: 'False'\n"
     ]
    }
   ],
   "source": [
    "%%script False\n",
    "display(df.shape)\n",
    "df = FunctionTransformer(drop_duplicate_values, validate=False).transform(df)\n",
    "display(df.shape)\n",
    "df = FunctionTransformer(lemmatizer, validate=False).transform(df)\n",
    "display(df.shape)\n",
    "df = FunctionTransformer(text_feature_selector, validate=False).transform(df)\n",
    "display(df.shape)\n",
    "df = FunctionTransformer(get_sentimnent, validate=False).transform(df)\n",
    "display(df.shape)\n",
    "df = pd.concat([df, pd.io.json.json_normalize(df['sentimnent'])], axis=1).drop(columns=['sentimnent'])\n",
    "display(df.shape)\n",
    "\n",
    "df.to_parquet('data/preprocessed_df.parquet')"
   ]
  },
  {
   "cell_type": "code",
   "execution_count": 17,
   "metadata": {
    "collapsed": true
   },
   "outputs": [],
   "source": [
    "df = pd.read_parquet('data/preprocessed_df.parquet')"
   ]
  },
  {
   "cell_type": "code",
   "execution_count": 18,
   "metadata": {},
   "outputs": [
    {
     "data": {
      "text/plain": [
       "(18371, 11)"
      ]
     },
     "execution_count": 18,
     "metadata": {},
     "output_type": "execute_result"
    }
   ],
   "source": [
    "df.shape"
   ]
  },
  {
   "cell_type": "code",
   "execution_count": 19,
   "metadata": {
    "collapsed": true
   },
   "outputs": [],
   "source": [
    "from functools import partial\n",
    "def get_word_density(colname, feature):\n",
    "    tdf = df.groupby([colname]).agg(feature).mean()\n",
    "    return tdf.index, tdf.values"
   ]
  },
  {
   "cell_type": "code",
   "execution_count": 41,
   "metadata": {},
   "outputs": [
    {
     "data": {
      "image/png": "[encoded data removed]",
      "text/plain": [
       "<Figure size 1368x216 with 3 Axes>"
      ]
     },
     "metadata": {
      "needs_background": "light"
     },
     "output_type": "display_data"
    }
   ],
   "source": [
    "plot_clusters(partial(get_word_density, feature='word_density') , 'Clusters word_density')"
   ]
  },
  {
   "cell_type": "code",
   "execution_count": 21,
   "metadata": {
    "collapsed": true
   },
   "outputs": [],
   "source": [
    "# plot_clusters(partial(get_word_density, feature='length'), 'Clusters length')"
   ]
  },
  {
   "cell_type": "code",
   "execution_count": 22,
   "metadata": {
    "collapsed": true
   },
   "outputs": [],
   "source": [
    "# plot_clusters(partial(get_word_density, feature='word_count'), 'Clusters word_count')"
   ]
  },
  {
   "cell_type": "code",
   "execution_count": 23,
   "metadata": {
    "collapsed": true
   },
   "outputs": [],
   "source": [
    "from wordcloud import WordCloud\n",
    "\n",
    "def clusters_wordcloud(name):\n",
    "    mapping = load_mapping(name)\n",
    "    pdf = pd.DataFrame(df.groupby(name).agg('data').sum())\n",
    "\n",
    "    fig = plt.figure(figsize=(20, 25))\n",
    "    for i in range(len(mapping)):\n",
    "        ax = fig.add_subplot(7,3,i+1)\n",
    "        wordcloud = WordCloud().generate(pdf['data'][i])\n",
    "        ax.set_title(\"WordCloud \" + mapping[pdf.index[i]])\n",
    "        ax.imshow(wordcloud, interpolation='bilinear')\n",
    "        ax.axis('off')"
   ]
  },
  {
   "cell_type": "code",
   "execution_count": 24,
   "metadata": {
    "collapsed": true
   },
   "outputs": [],
   "source": [
    "# clusters_wordcloud('clusters')"
   ]
  },
  {
   "cell_type": "code",
   "execution_count": 25,
   "metadata": {
    "collapsed": true
   },
   "outputs": [],
   "source": [
    "# clusters_wordcloud('clusters_2')"
   ]
  },
  {
   "cell_type": "code",
   "execution_count": 26,
   "metadata": {
    "collapsed": true
   },
   "outputs": [],
   "source": [
    "# clusters_wordcloud('clusters_3')"
   ]
  },
  {
   "cell_type": "code",
   "execution_count": 27,
   "metadata": {},
   "outputs": [
    {
     "data": {
      "text/html": [
       "<div>\n",
       "<style scoped>\n",
       "    .dataframe tbody tr th:only-of-type {\n",
       "        vertical-align: middle;\n",
       "    }\n",
       "\n",
       "    .dataframe tbody tr th {\n",
       "        vertical-align: top;\n",
       "    }\n",
       "\n",
       "    .dataframe thead th {\n",
       "        text-align: right;\n",
       "    }\n",
       "</style>\n",
       "<table border=\"1\" class=\"dataframe\">\n",
       "  <thead>\n",
       "    <tr style=\"text-align: right;\">\n",
       "      <th></th>\n",
       "      <th>data</th>\n",
       "      <th>clusters</th>\n",
       "      <th>clusters_2</th>\n",
       "      <th>clusters_3</th>\n",
       "      <th>word_count</th>\n",
       "      <th>length</th>\n",
       "      <th>word_density</th>\n",
       "      <th>compound</th>\n",
       "      <th>neg</th>\n",
       "      <th>neu</th>\n",
       "      <th>pos</th>\n",
       "    </tr>\n",
       "  </thead>\n",
       "  <tbody>\n",
       "    <tr>\n",
       "      <th>0</th>\n",
       "      <td>I sure bashers Pens fan pretty confuse lack ki...</td>\n",
       "      <td>10</td>\n",
       "      <td>8</td>\n",
       "      <td>3</td>\n",
       "      <td>71</td>\n",
       "      <td>400</td>\n",
       "      <td>5.633803</td>\n",
       "      <td>0.5719</td>\n",
       "      <td>0.244</td>\n",
       "      <td>0.466</td>\n",
       "      <td>0.290</td>\n",
       "    </tr>\n",
       "    <tr>\n",
       "      <th>1</th>\n",
       "      <td>My brother market high performance video card ...</td>\n",
       "      <td>3</td>\n",
       "      <td>3</td>\n",
       "      <td>1</td>\n",
       "      <td>39</td>\n",
       "      <td>232</td>\n",
       "      <td>5.948718</td>\n",
       "      <td>0.8225</td>\n",
       "      <td>0.029</td>\n",
       "      <td>0.752</td>\n",
       "      <td>0.219</td>\n",
       "    </tr>\n",
       "    <tr>\n",
       "      <th>2</th>\n",
       "      <td>Finally say dream about Mediterranean That new...</td>\n",
       "      <td>17</td>\n",
       "      <td>14</td>\n",
       "      <td>6</td>\n",
       "      <td>161</td>\n",
       "      <td>926</td>\n",
       "      <td>5.751553</td>\n",
       "      <td>-0.9970</td>\n",
       "      <td>0.366</td>\n",
       "      <td>0.555</td>\n",
       "      <td>0.079</td>\n",
       "    </tr>\n",
       "    <tr>\n",
       "      <th>3</th>\n",
       "      <td>Think It s SCSI card DMA transfer NOT disk The...</td>\n",
       "      <td>3</td>\n",
       "      <td>3</td>\n",
       "      <td>1</td>\n",
       "      <td>82</td>\n",
       "      <td>476</td>\n",
       "      <td>5.804878</td>\n",
       "      <td>0.9153</td>\n",
       "      <td>0.000</td>\n",
       "      <td>0.822</td>\n",
       "      <td>0.178</td>\n",
       "    </tr>\n",
       "    <tr>\n",
       "      <th>4</th>\n",
       "      <td>I old Jasmine drive I use new system My unders...</td>\n",
       "      <td>4</td>\n",
       "      <td>3</td>\n",
       "      <td>1</td>\n",
       "      <td>58</td>\n",
       "      <td>342</td>\n",
       "      <td>5.896552</td>\n",
       "      <td>0.5574</td>\n",
       "      <td>0.000</td>\n",
       "      <td>0.911</td>\n",
       "      <td>0.089</td>\n",
       "    </tr>\n",
       "  </tbody>\n",
       "</table>\n",
       "</div>"
      ],
      "text/plain": [
       "                                                data  clusters  clusters_2  \\\n",
       "0  I sure bashers Pens fan pretty confuse lack ki...        10           8   \n",
       "1  My brother market high performance video card ...         3           3   \n",
       "2  Finally say dream about Mediterranean That new...        17          14   \n",
       "3  Think It s SCSI card DMA transfer NOT disk The...         3           3   \n",
       "4  I old Jasmine drive I use new system My unders...         4           3   \n",
       "\n",
       "   clusters_3  word_count  length  word_density  compound    neg    neu    pos  \n",
       "0           3          71     400      5.633803    0.5719  0.244  0.466  0.290  \n",
       "1           1          39     232      5.948718    0.8225  0.029  0.752  0.219  \n",
       "2           6         161     926      5.751553   -0.9970  0.366  0.555  0.079  \n",
       "3           1          82     476      5.804878    0.9153  0.000  0.822  0.178  \n",
       "4           1          58     342      5.896552    0.5574  0.000  0.911  0.089  "
      ]
     },
     "execution_count": 27,
     "metadata": {},
     "output_type": "execute_result"
    }
   ],
   "source": [
    "df.head()"
   ]
  },
  {
   "cell_type": "markdown",
   "metadata": {},
   "source": [
    "# TF-iDF"
   ]
  },
  {
   "cell_type": "code",
   "execution_count": 263,
   "metadata": {},
   "outputs": [],
   "source": [
    "text_data = df[TEXT_COLUMN].tolist()\n",
    "\n",
    "vectorizer = TfidfVectorizer()\n",
    "vectors = vectorizer.fit_transform(text_data)"
   ]
  },
  {
   "cell_type": "code",
   "execution_count": 264,
   "metadata": {},
   "outputs": [
    {
     "data": {
      "text/plain": [
       "<18371x86821 sparse matrix of type '<class 'numpy.float64'>'\n",
       "\twith 1208503 stored elements in Compressed Sparse Row format>"
      ]
     },
     "execution_count": 264,
     "metadata": {},
     "output_type": "execute_result"
    }
   ],
   "source": [
    "vectors"
   ]
  },
  {
   "cell_type": "code",
   "execution_count": 266,
   "metadata": {},
   "outputs": [
    {
     "data": {
      "text/plain": [
       "(18371, 18371)"
      ]
     },
     "execution_count": 266,
     "metadata": {},
     "output_type": "execute_result"
    }
   ],
   "source": [
    "cosine_similarity(vectors).shape"
   ]
  },
  {
   "cell_type": "code",
   "execution_count": 30,
   "metadata": {
    "collapsed": true
   },
   "outputs": [],
   "source": [
    "def reduced_results(col, results):\n",
    "    results_pd = pd.concat([df[[col]], pd.DataFrame(data=results, index=df.index, columns=[\"x\", \"y\"])], axis=1)\n",
    "    results_pd = results_pd[results_pd['x'] < 60]\n",
    "    return {\n",
    "        'x': results_pd['x'].values,\n",
    "        'y': results_pd['y'].values,\n",
    "        'c': results_pd[col].values\n",
    "    }\n",
    "\n",
    "def plot_clusters_svd(vectors):\n",
    "    svd = TruncatedSVD(n_components=2, n_iter=7, random_state=42)\n",
    "    plot_clusters(partial(reduced_results, results=svd.fit_transform(vectors)), 'scatter plot for clusters SVD', type='lld')\n",
    "\n",
    "def plot_clusters_two_decompositions(vectors, with_text_features=True, n_components=300):\n",
    "    svd = TruncatedSVD(n_components=15, n_iter=7, random_state=42)\n",
    "    features = svd.fit_transform(vectors)\n",
    "\n",
    "    res = features\n",
    "    if with_text_features:\n",
    "        tmp = df[['word_count', 'length', 'word_density', 'compound', 'neg', 'neu', 'pos']]\n",
    "        tmp = SimpleImputer(missing_values=np.nan, strategy='median').fit_transform(tmp)\n",
    "        tmp = StandardScaler().fit_transform(tmp)\n",
    "        res = np.concatenate([np.array(tmp),features], axis=1)\n",
    "    pca = PCA(n_components=2, random_state=42)\n",
    "    features2 = pca.fit_transform(res)\n",
    "    plot_clusters(partial(reduced_results, results=features2), 'scatter plot for clusters SVD & then PCA', type='lld')"
   ]
  },
  {
   "cell_type": "code",
   "execution_count": 31,
   "metadata": {},
   "outputs": [],
   "source": [
    "# plot_clusters_svd(vectors)"
   ]
  },
  {
   "cell_type": "code",
   "execution_count": 32,
   "metadata": {},
   "outputs": [],
   "source": [
    "# plot_clusters_two_decompositions(vectors)"
   ]
  },
  {
   "cell_type": "code",
   "execution_count": 33,
   "metadata": {},
   "outputs": [],
   "source": [
    "# plot_clusters_two_decompositions(vectors, with_text_features=False, n_components=15)"
   ]
  },
  {
   "cell_type": "code",
   "execution_count": 34,
   "metadata": {},
   "outputs": [],
   "source": [
    "# plot_clusters_two_decompositions(vectors, with_text_features=False, n_components=300)"
   ]
  },
  {
   "cell_type": "code",
   "execution_count": 35,
   "metadata": {},
   "outputs": [],
   "source": [
    "# plot_clusters_two_decompositions(vectors, with_text_features=False, n_components=1000)"
   ]
  },
  {
   "cell_type": "code",
   "execution_count": 36,
   "metadata": {},
   "outputs": [],
   "source": [
    "def plot_linkage_matrix(linkage_matrix, pic_save=True, ylimit=None, title=\"ward_clusters\", truncate_mode=None, p=5):\n",
    "    fig, ax = plt.subplots(figsize=(15, 20))\n",
    "    \n",
    "    kwargs = {\n",
    "        'leaf_rotation':90.,  # rotates the x axis labels\n",
    "        'leaf_font_size':8.,  # font size for the x axis labels\n",
    "        'show_contracted':False,  # to get a distribution impression in truncated branches\n",
    "        'show_leaf_counts':False,  # otherwise numbers in brackets are counts\n",
    "        \n",
    "    }\n",
    "    if truncate_mode:\n",
    "        kwargs.update({\n",
    "            'truncate_mode':truncate_mode,  # show only the last p merged clusters\n",
    "            'p':p,  # show only the last p merged clusters\n",
    "        })\n",
    "        \n",
    "    axs = dendrogram(linkage_matrix, **kwargs);\n",
    "\n",
    "    if ylimit:\n",
    "        ax.set_ylim(*ylimit)\n",
    "\n",
    "    plt.tick_params(\n",
    "        axis= 'x',         # changes apply to the x-axis\n",
    "        which='both',      # both major and minor ticks are affected\n",
    "        bottom='off',      # ticks along the bottom edge are off\n",
    "        top='off',         # ticks along the top edge are off\n",
    "        labelbottom='off')\n",
    "\n",
    "    plt.tight_layout(); #show plot with tight layout\n",
    "    if pic_save:\n",
    "        plt.savefig('{}.png'.format(title), dpi=500)\n",
    "\n",
    "        \n",
    "def illustrate_dendrogram(vectors, vtype=\"tfidf\", method):\n",
    "    #define the linkage_matrix using ward clustering pre-computed distances\n",
    "    linkage_matrix = ward(1 - cosine_similarity(vectors)) \n",
    "    plot_linkage_matrix(linkage_matrix, \n",
    "                        ylimit=(1.2, None), \n",
    "                        truncate_mode='level', p=5, \n",
    "                        title=\"dendrogram_{}_truncate_mode_{}_p_{}_with_ylimit\".format(vtype, 'level', 5))\n",
    "    plot_linkage_matrix(linkage_matrix, title=\"dendrogram_{}_full\".format(vtype))\n",
    "    return linkage_matrix"
   ]
  },
  {
   "cell_type": "code",
   "execution_count": 37,
   "metadata": {},
   "outputs": [
    {
     "name": "stderr",
     "output_type": "stream",
     "text": [
      "/usr/local/lib/python3.5/dist-packages/matplotlib/cbook/__init__.py:424: MatplotlibDeprecationWarning: \n",
      "Passing one of 'on', 'true', 'off', 'false' as a boolean is deprecated; use an actual boolean (True/False) instead.\n",
      "  warn_deprecated(\"2.2\", \"Passing one of 'on', 'true', 'off', 'false' as a \"\n"
     ]
    },
    {
     "data": {
      "image/png": "[encoded data removed]",
      "text/plain": [
       "<Figure size 1080x1440 with 1 Axes>"
      ]
     },
     "metadata": {
      "needs_background": "light"
     },
     "output_type": "display_data"
    },
    {
     "data": {
      "image/png": "[encoded data removed]",
      "text/plain": [
       "<Figure size 1080x1440 with 1 Axes>"
      ]
     },
     "metadata": {
      "needs_background": "light"
     },
     "output_type": "display_data"
    }
   ],
   "source": [
    "linkage_matrix = illustrate_dendrogram(vectors, vtype=\"tfidf\");\n",
    "# plot_linkage_matrix(linkage_matrix, ylimit=(1.2, None), truncate_mode='level', p=5)"
   ]
  },
  {
   "cell_type": "code",
   "execution_count": 40,
   "metadata": {},
   "outputs": [
    {
     "data": {
      "image/png": "[encoded data removed]",
      "text/plain": [
       "<Figure size 1080x1440 with 1 Axes>"
      ]
     },
     "metadata": {
      "needs_background": "light"
     },
     "output_type": "display_data"
    }
   ],
   "source": [
    "plot_linkage_matrix(linkage_matrix, truncate_mode='level', p=6)"
   ]
  },
  {
   "cell_type": "code",
   "execution_count": 42,
   "metadata": {
    "collapsed": true
   },
   "outputs": [],
   "source": [
    "save_mapping(linkage_matrix, 'tfidf_wrap_cosdist')"
   ]
  },
  {
   "cell_type": "code",
   "execution_count": null,
   "metadata": {
    "collapsed": true
   },
   "outputs": [],
   "source": []
  },
  {
   "cell_type": "code",
   "execution_count": 184,
   "metadata": {},
   "outputs": [
    {
     "data": {
      "text/plain": [
       "2"
      ]
     },
     "execution_count": 184,
     "metadata": {},
     "output_type": "execute_result"
    }
   ],
   "source": [
    "import editdistance\n",
    "editdistance.eval('banana', 'bahama')"
   ]
  },
  {
   "cell_type": "code",
   "execution_count": null,
   "metadata": {},
   "outputs": [],
   "source": [
    "from scipy.spatial.distance import pdist, squareform\n",
    "Y = squareform(pdist(np.array(df['data'].values).reshape(-1,1), np.vectorize(editdistance.eval)))"
   ]
  },
  {
   "cell_type": "code",
   "execution_count": null,
   "metadata": {},
   "outputs": [],
   "source": [
    "Y.shape"
   ]
  },
  {
   "cell_type": "code",
   "execution_count": null,
   "metadata": {
    "collapsed": true
   },
   "outputs": [],
   "source": [
    "save_mapping(Y, 'levdis')"
   ]
  },
  {
   "cell_type": "code",
   "execution_count": null,
   "metadata": {
    "collapsed": true
   },
   "outputs": [],
   "source": []
  }
 ],
 "metadata": {
  "kernelspec": {
   "display_name": "Local PySpark (Python-3.5 / Spark-2.3.0 )",
   "language": "python",
   "name": "py3spark_local"
  },
  "language_info": {
   "codemirror_mode": {
    "name": "ipython",
    "version": 3
   },
   "file_extension": ".py",
   "mimetype": "text/x-python",
   "name": "python",
   "nbconvert_exporter": "python",
   "pygments_lexer": "ipython3",
   "version": "3.5.2"
  }
 },
 "nbformat": 4,
 "nbformat_minor": 4
}
