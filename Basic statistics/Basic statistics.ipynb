{
 "cells": [
  {
   "cell_type": "markdown",
   "metadata": {
    "toc": true
   },
   "source": [
    "<h1>Table of Contents<span class=\"tocSkip\"></span></h1>\n",
    "<div class=\"toc\"><ul class=\"toc-item\"><li><span><a href=\"#Descriptive-Statistics\" data-toc-modified-id=\"Descriptive-Statistics-1\"><span class=\"toc-item-num\">1&nbsp;&nbsp;</span>Descriptive Statistics</a></span><ul class=\"toc-item\"><li><span><a href=\"#Calculating-and-Visualization-of-Descriptive-Statistics\" data-toc-modified-id=\"Calculating-and-Visualization-of-Descriptive-Statistics-1.1\"><span class=\"toc-item-num\">1.1&nbsp;&nbsp;</span>Calculating and Visualization of Descriptive Statistics</a></span></li><li><span><a href=\"#Remove-Outliers\" data-toc-modified-id=\"Remove-Outliers-1.2\"><span class=\"toc-item-num\">1.2&nbsp;&nbsp;</span>Remove Outliers</a></span></li><li><span><a href=\"#Correlation\" data-toc-modified-id=\"Correlation-1.3\"><span class=\"toc-item-num\">1.3&nbsp;&nbsp;</span>Correlation</a></span></li></ul></li><li><span><a href=\"#Stratification\" data-toc-modified-id=\"Stratification-2\"><span class=\"toc-item-num\">2&nbsp;&nbsp;</span>Stratification</a></span><ul class=\"toc-item\"><li><span><a href=\"#Experiments\" data-toc-modified-id=\"Experiments-2.1\"><span class=\"toc-item-num\">2.1&nbsp;&nbsp;</span>Experiments</a></span><ul class=\"toc-item\"><li><span><a href=\"#Same-expectation-and-variance\" data-toc-modified-id=\"Same-expectation-and-variance-2.1.1\"><span class=\"toc-item-num\">2.1.1&nbsp;&nbsp;</span>Same expectation and variance</a></span></li><li><span><a href=\"#Different-expectation-Same-variance\" data-toc-modified-id=\"Different-expectation-Same-variance-2.1.2\"><span class=\"toc-item-num\">2.1.2&nbsp;&nbsp;</span>Different expectation Same variance</a></span></li><li><span><a href=\"#Different-expectation-and-variance\" data-toc-modified-id=\"Different-expectation-and-variance-2.1.3\"><span class=\"toc-item-num\">2.1.3&nbsp;&nbsp;</span>Different expectation and variance</a></span></li></ul></li></ul></li></ul></div>"
   ]
  },
  {
   "cell_type": "code",
   "execution_count": 1,
   "metadata": {},
   "outputs": [],
   "source": [
    "%matplotlib inline"
   ]
  },
  {
   "cell_type": "code",
   "execution_count": 2,
   "metadata": {},
   "outputs": [],
   "source": [
    "import os\n",
    "from functools import reduce\n",
    "from operator import mul\n",
    "from collections import defaultdict\n",
    "\n",
    "import pandas as pd\n",
    "import numpy as np\n",
    "import matplotlib\n",
    "import matplotlib.pyplot as plt\n",
    "from scipy import stats\n",
    "from scipy.stats.stats import pearsonr\n",
    "from tqdm import tqdm"
   ]
  },
  {
   "cell_type": "code",
   "execution_count": 3,
   "metadata": {},
   "outputs": [
    {
     "data": {
      "text/html": [
       "<div>\n",
       "<style scoped>\n",
       "    .dataframe tbody tr th:only-of-type {\n",
       "        vertical-align: middle;\n",
       "    }\n",
       "\n",
       "    .dataframe tbody tr th {\n",
       "        vertical-align: top;\n",
       "    }\n",
       "\n",
       "    .dataframe thead th {\n",
       "        text-align: right;\n",
       "    }\n",
       "</style>\n",
       "<table border=\"1\" class=\"dataframe\">\n",
       "  <thead>\n",
       "    <tr style=\"text-align: right;\">\n",
       "      <th></th>\n",
       "      <th>School</th>\n",
       "      <th>School_Type</th>\n",
       "      <th>SAT</th>\n",
       "      <th>Acceptance</th>\n",
       "      <th>$/Student</th>\n",
       "      <th>Top 10%</th>\n",
       "      <th>%PhD</th>\n",
       "      <th>Grad%</th>\n",
       "    </tr>\n",
       "  </thead>\n",
       "  <tbody>\n",
       "    <tr>\n",
       "      <th>0</th>\n",
       "      <td>Amherst</td>\n",
       "      <td>Lib Arts</td>\n",
       "      <td>1315</td>\n",
       "      <td>22</td>\n",
       "      <td>26636</td>\n",
       "      <td>85</td>\n",
       "      <td>81</td>\n",
       "      <td>93</td>\n",
       "    </tr>\n",
       "    <tr>\n",
       "      <th>1</th>\n",
       "      <td>Swarthmore</td>\n",
       "      <td>Lib Arts</td>\n",
       "      <td>1310</td>\n",
       "      <td>24</td>\n",
       "      <td>27487</td>\n",
       "      <td>78</td>\n",
       "      <td>93</td>\n",
       "      <td>88</td>\n",
       "    </tr>\n",
       "    <tr>\n",
       "      <th>2</th>\n",
       "      <td>Williams</td>\n",
       "      <td>Lib Arts</td>\n",
       "      <td>1336</td>\n",
       "      <td>28</td>\n",
       "      <td>23772</td>\n",
       "      <td>86</td>\n",
       "      <td>90</td>\n",
       "      <td>93</td>\n",
       "    </tr>\n",
       "    <tr>\n",
       "      <th>3</th>\n",
       "      <td>Bowdoin</td>\n",
       "      <td>Lib Arts</td>\n",
       "      <td>1300</td>\n",
       "      <td>24</td>\n",
       "      <td>25703</td>\n",
       "      <td>78</td>\n",
       "      <td>95</td>\n",
       "      <td>90</td>\n",
       "    </tr>\n",
       "    <tr>\n",
       "      <th>4</th>\n",
       "      <td>Wellesley</td>\n",
       "      <td>Lib Arts</td>\n",
       "      <td>1250</td>\n",
       "      <td>49</td>\n",
       "      <td>27879</td>\n",
       "      <td>76</td>\n",
       "      <td>91</td>\n",
       "      <td>86</td>\n",
       "    </tr>\n",
       "  </tbody>\n",
       "</table>\n",
       "</div>"
      ],
      "text/plain": [
       "       School School_Type   SAT  Acceptance  $/Student  Top 10%  %PhD  Grad%\n",
       "0     Amherst    Lib Arts  1315          22      26636       85    81     93\n",
       "1  Swarthmore    Lib Arts  1310          24      27487       78    93     88\n",
       "2    Williams    Lib Arts  1336          28      23772       86    90     93\n",
       "3     Bowdoin    Lib Arts  1300          24      25703       78    95     90\n",
       "4   Wellesley    Lib Arts  1250          49      27879       76    91     86"
      ]
     },
     "execution_count": 3,
     "metadata": {},
     "output_type": "execute_result"
    }
   ],
   "source": [
    "data = pd.read_csv(os.path.join('data', '1', 'data.tsv'), delimiter='\\t')\n",
    "data.head(5)"
   ]
  },
  {
   "cell_type": "markdown",
   "metadata": {},
   "source": [
    "Description: These data were collected from the 25 top liberal arts colleges and the 25 top research universities. There are 50 cases on 8 variables.\n",
    "Variable Names:\n",
    "* **School**: Contains the name of each school\n",
    "* **School_Type**: Coded 'LibArts' for liberal arts and 'Univ' for university\n",
    "* **SAT**: Median combined Math and Verbal SAT score of students\n",
    "* **Acceptance**: % of applicants accepted\n",
    "* **$/Student**: Money spent per student in dollars\n",
    "* **Top 10%**: % of students in the top 10% of their h.s. graduating class\n",
    "* **%PhD**: % of faculty at the institution that have PhD degrees\n",
    "* **Grad%**: % of students at institution who eventually graduate"
   ]
  },
  {
   "cell_type": "markdown",
   "metadata": {},
   "source": [
    "# Descriptive Statistics"
   ]
  },
  {
   "cell_type": "markdown",
   "metadata": {},
   "source": [
    "## Calculating and Visualization of Descriptive Statistics"
   ]
  },
  {
   "cell_type": "code",
   "execution_count": 4,
   "metadata": {},
   "outputs": [],
   "source": [
    "def plot_column(data, name):\n",
    "    fig, (ax1, ax2, ax3) = plt.subplots(1, 3)\n",
    "    fig.set_size_inches(15, 5)\n",
    "    \n",
    "    plt_data_1 = data[data['School_Type']=='Lib Arts'][name]\n",
    "    plt_data_2 = data[data['School_Type']=='Univ'][name]\n",
    "    ax1.plot(plt_data_1.index, plt_data_1, 'ro')\n",
    "    ax1.plot(plt_data_2.index, plt_data_2, 'bo')\n",
    "    ax1.set_title('{} data'.format(name))\n",
    "    ax2.boxplot(data[name])\n",
    "    \n",
    "    data[name].hist()\n",
    "    ax3.set_title('{} hist'.format(name))\n",
    "    \n",
    "def describe_column(data, name):\n",
    "    plot_column(data, name)\n",
    "    data = data[name]\n",
    "    description = pd.DataFrame(data.describe()).transpose().set_index([pd.Index([name])])\n",
    "    mode = data.mode()    \n",
    "    description['mode'] = mode[0] if len(mode) == 1 else 'not one mode'\n",
    "    description['range'] = description['max'] - description['min']\n",
    "    return description"
   ]
  },
  {
   "cell_type": "code",
   "execution_count": 5,
   "metadata": {},
   "outputs": [
    {
     "data": {
      "text/html": [
       "<div>\n",
       "<style scoped>\n",
       "    .dataframe tbody tr th:only-of-type {\n",
       "        vertical-align: middle;\n",
       "    }\n",
       "\n",
       "    .dataframe tbody tr th {\n",
       "        vertical-align: top;\n",
       "    }\n",
       "\n",
       "    .dataframe thead th {\n",
       "        text-align: right;\n",
       "    }\n",
       "</style>\n",
       "<table border=\"1\" class=\"dataframe\">\n",
       "  <thead>\n",
       "    <tr style=\"text-align: right;\">\n",
       "      <th></th>\n",
       "      <th>count</th>\n",
       "      <th>mean</th>\n",
       "      <th>std</th>\n",
       "      <th>min</th>\n",
       "      <th>25%</th>\n",
       "      <th>50%</th>\n",
       "      <th>75%</th>\n",
       "      <th>max</th>\n",
       "      <th>mode</th>\n",
       "      <th>range</th>\n",
       "    </tr>\n",
       "  </thead>\n",
       "  <tbody>\n",
       "    <tr>\n",
       "      <th>SAT</th>\n",
       "      <td>50.0</td>\n",
       "      <td>1263.96</td>\n",
       "      <td>62.329591</td>\n",
       "      <td>1109.0</td>\n",
       "      <td>1225.0</td>\n",
       "      <td>1264.0</td>\n",
       "      <td>1304.5</td>\n",
       "      <td>1400.0</td>\n",
       "      <td>1300</td>\n",
       "      <td>291.0</td>\n",
       "    </tr>\n",
       "  </tbody>\n",
       "</table>\n",
       "</div>"
      ],
      "text/plain": [
       "     count     mean        std     min     25%     50%     75%     max  mode  \\\n",
       "SAT   50.0  1263.96  62.329591  1109.0  1225.0  1264.0  1304.5  1400.0  1300   \n",
       "\n",
       "     range  \n",
       "SAT  291.0  "
      ]
     },
     "execution_count": 5,
     "metadata": {},
     "output_type": "execute_result"
    },
    {
     "data": {
      "image/png": "[encoded data removed]",
      "text/plain": [
       "<matplotlib.figure.Figure at 0x7f43b98c7e10>"
      ]
     },
     "metadata": {},
     "output_type": "display_data"
    }
   ],
   "source": [
    "describe_column(data, 'SAT')"
   ]
  },
  {
   "cell_type": "markdown",
   "metadata": {},
   "source": [
    "**Распределение слегка асимметрично, однако унимодально и медиана близка к среднему значению. Выбросов не наблюдается. И медиана, и среднее могут быть использованы в качестве меры центральной тенденции. Стандартное отклонение не велико (по сравнению с размахом), как и межквартильное расстояние, что говорит о невысокой изменчивости данных.**"
   ]
  },
  {
   "cell_type": "code",
   "execution_count": 6,
   "metadata": {},
   "outputs": [
    {
     "data": {
      "text/html": [
       "<div>\n",
       "<style scoped>\n",
       "    .dataframe tbody tr th:only-of-type {\n",
       "        vertical-align: middle;\n",
       "    }\n",
       "\n",
       "    .dataframe tbody tr th {\n",
       "        vertical-align: top;\n",
       "    }\n",
       "\n",
       "    .dataframe thead th {\n",
       "        text-align: right;\n",
       "    }\n",
       "</style>\n",
       "<table border=\"1\" class=\"dataframe\">\n",
       "  <thead>\n",
       "    <tr style=\"text-align: right;\">\n",
       "      <th></th>\n",
       "      <th>count</th>\n",
       "      <th>mean</th>\n",
       "      <th>std</th>\n",
       "      <th>min</th>\n",
       "      <th>25%</th>\n",
       "      <th>50%</th>\n",
       "      <th>75%</th>\n",
       "      <th>max</th>\n",
       "      <th>mode</th>\n",
       "      <th>range</th>\n",
       "    </tr>\n",
       "  </thead>\n",
       "  <tbody>\n",
       "    <tr>\n",
       "      <th>Acceptance</th>\n",
       "      <td>50.0</td>\n",
       "      <td>37.84</td>\n",
       "      <td>13.363612</td>\n",
       "      <td>17.0</td>\n",
       "      <td>25.75</td>\n",
       "      <td>36.0</td>\n",
       "      <td>47.75</td>\n",
       "      <td>67.0</td>\n",
       "      <td>24</td>\n",
       "      <td>50.0</td>\n",
       "    </tr>\n",
       "  </tbody>\n",
       "</table>\n",
       "</div>"
      ],
      "text/plain": [
       "            count   mean        std   min    25%   50%    75%   max  mode  \\\n",
       "Acceptance   50.0  37.84  13.363612  17.0  25.75  36.0  47.75  67.0    24   \n",
       "\n",
       "            range  \n",
       "Acceptance   50.0  "
      ]
     },
     "execution_count": 6,
     "metadata": {},
     "output_type": "execute_result"
    },
    {
     "data": {
      "image/png": "[encoded data removed]",
      "text/plain": [
       "<matplotlib.figure.Figure at 0x7f43b7805f60>"
      ]
     },
     "metadata": {},
     "output_type": "display_data"
    }
   ],
   "source": [
    "describe_column(data, 'Acceptance')"
   ]
  },
  {
   "cell_type": "markdown",
   "metadata": {},
   "source": [
    "**Распределение асимметрично и унимодально. Медиана близка к среднему. Выбросов не наблюдается. И медиана, и среднее могут быть использованы в качестве меры центральной тенденции. Наблюдается высокая изменчивость данных, о чём свидетельствует высокие стандартное отклонение и межквартильное расстояние.**"
   ]
  },
  {
   "cell_type": "code",
   "execution_count": 7,
   "metadata": {},
   "outputs": [
    {
     "data": {
      "text/html": [
       "<div>\n",
       "<style scoped>\n",
       "    .dataframe tbody tr th:only-of-type {\n",
       "        vertical-align: middle;\n",
       "    }\n",
       "\n",
       "    .dataframe tbody tr th {\n",
       "        vertical-align: top;\n",
       "    }\n",
       "\n",
       "    .dataframe thead th {\n",
       "        text-align: right;\n",
       "    }\n",
       "</style>\n",
       "<table border=\"1\" class=\"dataframe\">\n",
       "  <thead>\n",
       "    <tr style=\"text-align: right;\">\n",
       "      <th></th>\n",
       "      <th>count</th>\n",
       "      <th>mean</th>\n",
       "      <th>std</th>\n",
       "      <th>min</th>\n",
       "      <th>25%</th>\n",
       "      <th>50%</th>\n",
       "      <th>75%</th>\n",
       "      <th>max</th>\n",
       "      <th>mode</th>\n",
       "      <th>range</th>\n",
       "    </tr>\n",
       "  </thead>\n",
       "  <tbody>\n",
       "    <tr>\n",
       "      <th>$/Student</th>\n",
       "      <td>50.0</td>\n",
       "      <td>30247.2</td>\n",
       "      <td>15266.172682</td>\n",
       "      <td>17520.0</td>\n",
       "      <td>20182.25</td>\n",
       "      <td>24994.5</td>\n",
       "      <td>36803.75</td>\n",
       "      <td>102262.0</td>\n",
       "      <td>not one mode</td>\n",
       "      <td>84742.0</td>\n",
       "    </tr>\n",
       "  </tbody>\n",
       "</table>\n",
       "</div>"
      ],
      "text/plain": [
       "           count     mean           std      min       25%      50%       75%  \\\n",
       "$/Student   50.0  30247.2  15266.172682  17520.0  20182.25  24994.5  36803.75   \n",
       "\n",
       "                max          mode    range  \n",
       "$/Student  102262.0  not one mode  84742.0  "
      ]
     },
     "execution_count": 7,
     "metadata": {},
     "output_type": "execute_result"
    },
    {
     "data": {
      "image/png": "[encoded data removed]",
      "text/plain": [
       "<matplotlib.figure.Figure at 0x7f43b76a4fd0>"
      ]
     },
     "metadata": {},
     "output_type": "display_data"
    }
   ],
   "source": [
    "describe_column(data, '$/Student')"
   ]
  },
  {
   "cell_type": "markdown",
   "metadata": {},
   "source": [
    "**Распределение сильно асимметрично и не унимодально. Медиана отличается от среднего и наблюдаются выбросы. В качестве меры центральной тенденции имеет смысл использовать медиану. Изменчивость данных невысокая.**"
   ]
  },
  {
   "cell_type": "code",
   "execution_count": 8,
   "metadata": {},
   "outputs": [
    {
     "data": {
      "text/html": [
       "<div>\n",
       "<style scoped>\n",
       "    .dataframe tbody tr th:only-of-type {\n",
       "        vertical-align: middle;\n",
       "    }\n",
       "\n",
       "    .dataframe tbody tr th {\n",
       "        vertical-align: top;\n",
       "    }\n",
       "\n",
       "    .dataframe thead th {\n",
       "        text-align: right;\n",
       "    }\n",
       "</style>\n",
       "<table border=\"1\" class=\"dataframe\">\n",
       "  <thead>\n",
       "    <tr style=\"text-align: right;\">\n",
       "      <th></th>\n",
       "      <th>count</th>\n",
       "      <th>mean</th>\n",
       "      <th>std</th>\n",
       "      <th>min</th>\n",
       "      <th>25%</th>\n",
       "      <th>50%</th>\n",
       "      <th>75%</th>\n",
       "      <th>max</th>\n",
       "      <th>mode</th>\n",
       "      <th>range</th>\n",
       "    </tr>\n",
       "  </thead>\n",
       "  <tbody>\n",
       "    <tr>\n",
       "      <th>Top 10%</th>\n",
       "      <td>50.0</td>\n",
       "      <td>74.44</td>\n",
       "      <td>13.515162</td>\n",
       "      <td>47.0</td>\n",
       "      <td>65.0</td>\n",
       "      <td>76.5</td>\n",
       "      <td>85.0</td>\n",
       "      <td>98.0</td>\n",
       "      <td>not one mode</td>\n",
       "      <td>51.0</td>\n",
       "    </tr>\n",
       "  </tbody>\n",
       "</table>\n",
       "</div>"
      ],
      "text/plain": [
       "         count   mean        std   min   25%   50%   75%   max          mode  \\\n",
       "Top 10%   50.0  74.44  13.515162  47.0  65.0  76.5  85.0  98.0  not one mode   \n",
       "\n",
       "         range  \n",
       "Top 10%   51.0  "
      ]
     },
     "execution_count": 8,
     "metadata": {},
     "output_type": "execute_result"
    },
    {
     "data": {
      "image/png": "[encoded data removed]",
      "text/plain": [
       "<matplotlib.figure.Figure at 0x7f43b7667828>"
      ]
     },
     "metadata": {},
     "output_type": "display_data"
    }
   ],
   "source": [
    "describe_column(data, 'Top 10%')"
   ]
  },
  {
   "cell_type": "markdown",
   "metadata": {},
   "source": [
    "**Распределение асимметрично и не унимодально. Медиана близка к среднему. Выбросов не наблюдается. И медиана, и среднее могут быть использованы в качестве меры центральной тенденции. Наблюдается высокая изменчивость данных, о чём свидетельствует высокие стандартное отклонение и межквартильное расстояние.**"
   ]
  },
  {
   "cell_type": "code",
   "execution_count": 9,
   "metadata": {},
   "outputs": [
    {
     "data": {
      "text/html": [
       "<div>\n",
       "<style scoped>\n",
       "    .dataframe tbody tr th:only-of-type {\n",
       "        vertical-align: middle;\n",
       "    }\n",
       "\n",
       "    .dataframe tbody tr th {\n",
       "        vertical-align: top;\n",
       "    }\n",
       "\n",
       "    .dataframe thead th {\n",
       "        text-align: right;\n",
       "    }\n",
       "</style>\n",
       "<table border=\"1\" class=\"dataframe\">\n",
       "  <thead>\n",
       "    <tr style=\"text-align: right;\">\n",
       "      <th></th>\n",
       "      <th>count</th>\n",
       "      <th>mean</th>\n",
       "      <th>std</th>\n",
       "      <th>min</th>\n",
       "      <th>25%</th>\n",
       "      <th>50%</th>\n",
       "      <th>75%</th>\n",
       "      <th>max</th>\n",
       "      <th>mode</th>\n",
       "      <th>range</th>\n",
       "    </tr>\n",
       "  </thead>\n",
       "  <tbody>\n",
       "    <tr>\n",
       "      <th>%PhD</th>\n",
       "      <td>50.0</td>\n",
       "      <td>90.56</td>\n",
       "      <td>8.258972</td>\n",
       "      <td>58.0</td>\n",
       "      <td>86.25</td>\n",
       "      <td>93.0</td>\n",
       "      <td>97.75</td>\n",
       "      <td>100.0</td>\n",
       "      <td>98</td>\n",
       "      <td>42.0</td>\n",
       "    </tr>\n",
       "  </tbody>\n",
       "</table>\n",
       "</div>"
      ],
      "text/plain": [
       "      count   mean       std   min    25%   50%    75%    max  mode  range\n",
       "%PhD   50.0  90.56  8.258972  58.0  86.25  93.0  97.75  100.0    98   42.0"
      ]
     },
     "execution_count": 9,
     "metadata": {},
     "output_type": "execute_result"
    },
    {
     "data": {
      "image/png": "[encoded data removed]",
      "text/plain": [
       "<matplotlib.figure.Figure at 0x7f43b7485400>"
      ]
     },
     "metadata": {},
     "output_type": "display_data"
    }
   ],
   "source": [
    "describe_column(data, '%PhD')"
   ]
  },
  {
   "cell_type": "markdown",
   "metadata": {},
   "source": [
    "**Распределение сильно асимметрично, однако унимодально. Медиана близка к среднему. Наблюдается выброс. В качестве меры центральной тенденции имеет смысл использовать медиану. Изменчивость данных невысокая.**"
   ]
  },
  {
   "cell_type": "code",
   "execution_count": 10,
   "metadata": {},
   "outputs": [
    {
     "data": {
      "text/html": [
       "<div>\n",
       "<style scoped>\n",
       "    .dataframe tbody tr th:only-of-type {\n",
       "        vertical-align: middle;\n",
       "    }\n",
       "\n",
       "    .dataframe tbody tr th {\n",
       "        vertical-align: top;\n",
       "    }\n",
       "\n",
       "    .dataframe thead th {\n",
       "        text-align: right;\n",
       "    }\n",
       "</style>\n",
       "<table border=\"1\" class=\"dataframe\">\n",
       "  <thead>\n",
       "    <tr style=\"text-align: right;\">\n",
       "      <th></th>\n",
       "      <th>count</th>\n",
       "      <th>mean</th>\n",
       "      <th>std</th>\n",
       "      <th>min</th>\n",
       "      <th>25%</th>\n",
       "      <th>50%</th>\n",
       "      <th>75%</th>\n",
       "      <th>max</th>\n",
       "      <th>mode</th>\n",
       "      <th>range</th>\n",
       "    </tr>\n",
       "  </thead>\n",
       "  <tbody>\n",
       "    <tr>\n",
       "      <th>Grad%</th>\n",
       "      <td>50.0</td>\n",
       "      <td>83.48</td>\n",
       "      <td>7.557237</td>\n",
       "      <td>61.0</td>\n",
       "      <td>77.25</td>\n",
       "      <td>85.5</td>\n",
       "      <td>89.0</td>\n",
       "      <td>95.0</td>\n",
       "      <td>88</td>\n",
       "      <td>34.0</td>\n",
       "    </tr>\n",
       "  </tbody>\n",
       "</table>\n",
       "</div>"
      ],
      "text/plain": [
       "       count   mean       std   min    25%   50%   75%   max  mode  range\n",
       "Grad%   50.0  83.48  7.557237  61.0  77.25  85.5  89.0  95.0    88   34.0"
      ]
     },
     "execution_count": 10,
     "metadata": {},
     "output_type": "execute_result"
    },
    {
     "data": {
      "image/png": "[encoded data removed]",
      "text/plain": [
       "<matplotlib.figure.Figure at 0x7f43b7213a20>"
      ]
     },
     "metadata": {},
     "output_type": "display_data"
    }
   ],
   "source": [
    "describe_column(data, 'Grad%')"
   ]
  },
  {
   "cell_type": "markdown",
   "metadata": {},
   "source": [
    "**Распределение асимметрично, однако унимодально. Медиана близка к среднему. Выбросов ненаблюдается. В качестве меры центральной тенденции можно использовать как медиану, так и среднее. Изменчивость данных высокая.**"
   ]
  },
  {
   "cell_type": "markdown",
   "metadata": {},
   "source": [
    "## Remove Outliers "
   ]
  },
  {
   "cell_type": "code",
   "execution_count": 11,
   "metadata": {},
   "outputs": [],
   "source": [
    "num_data = data.select_dtypes(include=[\"number\"])\n",
    "other_data = data.select_dtypes(exclude=[\"number\"])\n",
    "idx = np.all(np.abs(stats.zscore(num_data)) < 3, axis=1)\n",
    "data_cleaned = pd.concat([num_data.loc[idx], other_data.loc[idx]], axis=1)"
   ]
  },
  {
   "cell_type": "code",
   "execution_count": 12,
   "metadata": {},
   "outputs": [
    {
     "data": {
      "text/html": [
       "<div>\n",
       "<style scoped>\n",
       "    .dataframe tbody tr th:only-of-type {\n",
       "        vertical-align: middle;\n",
       "    }\n",
       "\n",
       "    .dataframe tbody tr th {\n",
       "        vertical-align: top;\n",
       "    }\n",
       "\n",
       "    .dataframe thead th {\n",
       "        text-align: right;\n",
       "    }\n",
       "</style>\n",
       "<table border=\"1\" class=\"dataframe\">\n",
       "  <thead>\n",
       "    <tr style=\"text-align: right;\">\n",
       "      <th></th>\n",
       "      <th>count</th>\n",
       "      <th>mean</th>\n",
       "      <th>std</th>\n",
       "      <th>min</th>\n",
       "      <th>25%</th>\n",
       "      <th>50%</th>\n",
       "      <th>75%</th>\n",
       "      <th>max</th>\n",
       "      <th>mode</th>\n",
       "      <th>range</th>\n",
       "    </tr>\n",
       "  </thead>\n",
       "  <tbody>\n",
       "    <tr>\n",
       "      <th>%PhD</th>\n",
       "      <td>47.0</td>\n",
       "      <td>90.893617</td>\n",
       "      <td>6.808671</td>\n",
       "      <td>75.0</td>\n",
       "      <td>86.5</td>\n",
       "      <td>93.0</td>\n",
       "      <td>96.5</td>\n",
       "      <td>100.0</td>\n",
       "      <td>98</td>\n",
       "      <td>25.0</td>\n",
       "    </tr>\n",
       "  </tbody>\n",
       "</table>\n",
       "</div>"
      ],
      "text/plain": [
       "      count       mean       std   min   25%   50%   75%    max  mode  range\n",
       "%PhD   47.0  90.893617  6.808671  75.0  86.5  93.0  96.5  100.0    98   25.0"
      ]
     },
     "execution_count": 12,
     "metadata": {},
     "output_type": "execute_result"
    },
    {
     "data": {
      "image/png": "[encoded data removed]",
      "text/plain": [
       "<matplotlib.figure.Figure at 0x7f43b70cd748>"
      ]
     },
     "metadata": {},
     "output_type": "display_data"
    }
   ],
   "source": [
    "describe_column(data_cleaned, '%PhD')"
   ]
  },
  {
   "cell_type": "markdown",
   "metadata": {},
   "source": [
    "**Переход к нормированным значениям посволил отсечь выбросы в тех наборах данных, где они были**"
   ]
  },
  {
   "cell_type": "markdown",
   "metadata": {},
   "source": [
    "## Correlation"
   ]
  },
  {
   "cell_type": "code",
   "execution_count": 13,
   "metadata": {},
   "outputs": [],
   "source": [
    "def plot_correlation(data, name_1, name_2):\n",
    "    plt_data_1 = data[data['School_Type']=='Lib Arts']\n",
    "    plt_data_2 = data[data['School_Type']=='Univ']\n",
    "\n",
    "    fig, (ax1, ax2, ax3) = plt.subplots(1, 3, sharey=True)\n",
    "    fig.set_size_inches(15, 5)\n",
    "    ax1.plot(plt_data_1[name_1], plt_data_1[name_2], 'ro')\n",
    "    ax2.plot(plt_data_2[name_1], plt_data_2[name_2], 'bo')\n",
    "    ax1.set_title('Lib Arts')\n",
    "    ax2.set_title('Univ')\n",
    "    ax1.set_ylabel(name_1)\n",
    "    ax1.set_xlabel(name_2)\n",
    "    ax2.set_xlabel(name_2)\n",
    "    \n",
    "    ax3.plot(data[name_1], data[name_2], 'ko')\n",
    "    ax3.set_title('Both')\n",
    "    ax3.set_xlabel(name_2)\n",
    "\n",
    "    lib_arts_r = pearsonr(plt_data_1[name_1], plt_data_1[name_2])\n",
    "    univ_r = pearsonr(plt_data_2[name_1], plt_data_2[name_2])\n",
    "    both_r = pearsonr(data[name_1], data[name_2])\n",
    "    index = pd.Index(['Lib Arts', 'Univ', 'Both'])\n",
    "    return pd.DataFrame([lib_arts_r,univ_r, both_r], columns=['R', 'p-value']).set_index([index]).transpose()"
   ]
  },
  {
   "cell_type": "code",
   "execution_count": 14,
   "metadata": {},
   "outputs": [
    {
     "data": {
      "text/html": [
       "<div>\n",
       "<style scoped>\n",
       "    .dataframe tbody tr th:only-of-type {\n",
       "        vertical-align: middle;\n",
       "    }\n",
       "\n",
       "    .dataframe tbody tr th {\n",
       "        vertical-align: top;\n",
       "    }\n",
       "\n",
       "    .dataframe thead th {\n",
       "        text-align: right;\n",
       "    }\n",
       "</style>\n",
       "<table border=\"1\" class=\"dataframe\">\n",
       "  <thead>\n",
       "    <tr style=\"text-align: right;\">\n",
       "      <th></th>\n",
       "      <th>Lib Arts</th>\n",
       "      <th>Univ</th>\n",
       "      <th>Both</th>\n",
       "    </tr>\n",
       "  </thead>\n",
       "  <tbody>\n",
       "    <tr>\n",
       "      <th>R</th>\n",
       "      <td>0.423645</td>\n",
       "      <td>0.651683</td>\n",
       "      <td>0.569126</td>\n",
       "    </tr>\n",
       "    <tr>\n",
       "      <th>p-value</th>\n",
       "      <td>0.034831</td>\n",
       "      <td>0.000417</td>\n",
       "      <td>0.000016</td>\n",
       "    </tr>\n",
       "  </tbody>\n",
       "</table>\n",
       "</div>"
      ],
      "text/plain": [
       "         Lib Arts      Univ      Both\n",
       "R        0.423645  0.651683  0.569126\n",
       "p-value  0.034831  0.000417  0.000016"
      ]
     },
     "execution_count": 14,
     "metadata": {},
     "output_type": "execute_result"
    },
    {
     "data": {
      "image/png": "[encoded data removed]",
      "text/plain": [
       "<matplotlib.figure.Figure at 0x7f43b73908d0>"
      ]
     },
     "metadata": {},
     "output_type": "display_data"
    }
   ],
   "source": [
    "plot_correlation(data, 'SAT', 'Grad%')"
   ]
  },
  {
   "cell_type": "markdown",
   "metadata": {},
   "source": [
    "**Вполне ожидаемо, что средний бал по математике больше связан с процентом выпускников исследовательского университета, чем с процентом выпускников гумунитарных колледжей.**"
   ]
  },
  {
   "cell_type": "code",
   "execution_count": 15,
   "metadata": {},
   "outputs": [
    {
     "data": {
      "text/html": [
       "<div>\n",
       "<style scoped>\n",
       "    .dataframe tbody tr th:only-of-type {\n",
       "        vertical-align: middle;\n",
       "    }\n",
       "\n",
       "    .dataframe tbody tr th {\n",
       "        vertical-align: top;\n",
       "    }\n",
       "\n",
       "    .dataframe thead th {\n",
       "        text-align: right;\n",
       "    }\n",
       "</style>\n",
       "<table border=\"1\" class=\"dataframe\">\n",
       "  <thead>\n",
       "    <tr style=\"text-align: right;\">\n",
       "      <th></th>\n",
       "      <th>Lib Arts</th>\n",
       "      <th>Univ</th>\n",
       "      <th>Both</th>\n",
       "    </tr>\n",
       "  </thead>\n",
       "  <tbody>\n",
       "    <tr>\n",
       "      <th>R</th>\n",
       "      <td>0.133816</td>\n",
       "      <td>0.224475</td>\n",
       "      <td>0.220944</td>\n",
       "    </tr>\n",
       "    <tr>\n",
       "      <th>p-value</th>\n",
       "      <td>0.523666</td>\n",
       "      <td>0.280697</td>\n",
       "      <td>0.123093</td>\n",
       "    </tr>\n",
       "  </tbody>\n",
       "</table>\n",
       "</div>"
      ],
      "text/plain": [
       "         Lib Arts      Univ      Both\n",
       "R        0.133816  0.224475  0.220944\n",
       "p-value  0.523666  0.280697  0.123093"
      ]
     },
     "execution_count": 15,
     "metadata": {},
     "output_type": "execute_result"
    },
    {
     "data": {
      "image/png": "[encoded data removed]",
      "text/plain": [
       "<matplotlib.figure.Figure at 0x7f43b78ac898>"
      ]
     },
     "metadata": {},
     "output_type": "display_data"
    }
   ],
   "source": [
    "plot_correlation(data, 'SAT', '%PhD')"
   ]
  },
  {
   "cell_type": "markdown",
   "metadata": {},
   "source": [
    "**Однако процент процент защитивших PhD слабо связан со средним балом по математике**"
   ]
  },
  {
   "cell_type": "code",
   "execution_count": 16,
   "metadata": {},
   "outputs": [
    {
     "data": {
      "text/html": [
       "<div>\n",
       "<style scoped>\n",
       "    .dataframe tbody tr th:only-of-type {\n",
       "        vertical-align: middle;\n",
       "    }\n",
       "\n",
       "    .dataframe tbody tr th {\n",
       "        vertical-align: top;\n",
       "    }\n",
       "\n",
       "    .dataframe thead th {\n",
       "        text-align: right;\n",
       "    }\n",
       "</style>\n",
       "<table border=\"1\" class=\"dataframe\">\n",
       "  <thead>\n",
       "    <tr style=\"text-align: right;\">\n",
       "      <th></th>\n",
       "      <th>Lib Arts</th>\n",
       "      <th>Univ</th>\n",
       "      <th>Both</th>\n",
       "    </tr>\n",
       "  </thead>\n",
       "  <tbody>\n",
       "    <tr>\n",
       "      <th>R</th>\n",
       "      <td>-0.175029</td>\n",
       "      <td>-0.262920</td>\n",
       "      <td>-0.288819</td>\n",
       "    </tr>\n",
       "    <tr>\n",
       "      <th>p-value</th>\n",
       "      <td>0.402690</td>\n",
       "      <td>0.204162</td>\n",
       "      <td>0.041933</td>\n",
       "    </tr>\n",
       "  </tbody>\n",
       "</table>\n",
       "</div>"
      ],
      "text/plain": [
       "         Lib Arts      Univ      Both\n",
       "R       -0.175029 -0.262920 -0.288819\n",
       "p-value  0.402690  0.204162  0.041933"
      ]
     },
     "execution_count": 16,
     "metadata": {},
     "output_type": "execute_result"
    },
    {
     "data": {
      "image/png": "[encoded data removed]",
      "text/plain": [
       "<matplotlib.figure.Figure at 0x7f43b7824e10>"
      ]
     },
     "metadata": {},
     "output_type": "display_data"
    }
   ],
   "source": [
    "plot_correlation(data, 'Acceptance', '$/Student')"
   ]
  },
  {
   "cell_type": "markdown",
   "metadata": {},
   "source": [
    "**Здесь зависимость нелинейна, поэтому о коэффициенте корреляции Пирсона говорить не имеет смысла. Однако можно заметить, что с увеличением числа студентов уменьшается число денег потраченных на каждого студента.**"
   ]
  },
  {
   "cell_type": "code",
   "execution_count": 17,
   "metadata": {},
   "outputs": [
    {
     "data": {
      "text/html": [
       "<div>\n",
       "<style scoped>\n",
       "    .dataframe tbody tr th:only-of-type {\n",
       "        vertical-align: middle;\n",
       "    }\n",
       "\n",
       "    .dataframe tbody tr th {\n",
       "        vertical-align: top;\n",
       "    }\n",
       "\n",
       "    .dataframe thead th {\n",
       "        text-align: right;\n",
       "    }\n",
       "</style>\n",
       "<table border=\"1\" class=\"dataframe\">\n",
       "  <thead>\n",
       "    <tr style=\"text-align: right;\">\n",
       "      <th></th>\n",
       "      <th>Lib Arts</th>\n",
       "      <th>Univ</th>\n",
       "      <th>Both</th>\n",
       "    </tr>\n",
       "  </thead>\n",
       "  <tbody>\n",
       "    <tr>\n",
       "      <th>R</th>\n",
       "      <td>0.315962</td>\n",
       "      <td>0.401354</td>\n",
       "      <td>0.448616</td>\n",
       "    </tr>\n",
       "    <tr>\n",
       "      <th>p-value</th>\n",
       "      <td>0.123889</td>\n",
       "      <td>0.046752</td>\n",
       "      <td>0.001085</td>\n",
       "    </tr>\n",
       "  </tbody>\n",
       "</table>\n",
       "</div>"
      ],
      "text/plain": [
       "         Lib Arts      Univ      Both\n",
       "R        0.315962  0.401354  0.448616\n",
       "p-value  0.123889  0.046752  0.001085"
      ]
     },
     "execution_count": 17,
     "metadata": {},
     "output_type": "execute_result"
    },
    {
     "data": {
      "image/png": "[encoded data removed]",
      "text/plain": [
       "<matplotlib.figure.Figure at 0x7f43b7700cc0>"
      ]
     },
     "metadata": {},
     "output_type": "display_data"
    }
   ],
   "source": [
    "plot_correlation(data, 'Top 10%', '%PhD')"
   ]
  },
  {
   "cell_type": "markdown",
   "metadata": {},
   "source": [
    "**Процент студентов с высокими балами имеет связь с процентом успешных защит PhD**."
   ]
  },
  {
   "cell_type": "markdown",
   "metadata": {},
   "source": [
    "# Stratification"
   ]
  },
  {
   "cell_type": "code",
   "execution_count": 18,
   "metadata": {},
   "outputs": [],
   "source": [
    "def generate_distributions(means, sigmas, strat_coefficients, V=10000):\n",
    "    assert sum(strat_coefficients) == 1\n",
    "    parts = np.round(V * strat_coefficients).astype(int)\n",
    "    return [np.random.normal(m, s, k) for m, s, k in zip(means, sigmas, parts)]\n",
    "\n",
    "\n",
    "def get_optimal_sample_coefficients(distributions, strat_coefficients, sample_size):\n",
    "    _sigmas = np.array([np.std(dist) for dist in distributions])\n",
    "    mul_pairs = _sigmas * strat_coefficients\n",
    "    return np.round(sample_size * mul_pairs / sum(mul_pairs)).astype(int)\n",
    "\n",
    "\n",
    "def get_proportional_sample_coefficients(strat_coefficients, sample_size):\n",
    "    return np.round(sample_size * strat_coefficients).astype(int)\n",
    "\n",
    "\n",
    "def get_sample(distributions, ns):\n",
    "    return np.concatenate([np.random.choice(dist, size) for dist, size in zip(distributions, ns)])\n",
    "\n",
    "\n",
    "def get_samples(distributions, proportional_n, optimal_n):\n",
    "    # simple\n",
    "    yield np.random.choice(np.concatenate(distributions), sum(optimal_n))\n",
    "    \n",
    "    # proportional \n",
    "    yield get_sample(distributions, proportional_n)\n",
    "\n",
    "    # optimal\n",
    "    yield get_sample(distributions, optimal_n)\n",
    "\n",
    "    \n",
    "def update_result_dict(result_dict, res):\n",
    "    result_dict['simple_mean'].append(res[0][0])\n",
    "    result_dict['simple_var'].append(res[0][1])\n",
    "\n",
    "    result_dict['proportional_mean'].append(res[1][0])\n",
    "    result_dict['proportional_var'].append(res[1][1])\n",
    "\n",
    "    result_dict['optimal_mean'].append(res[2][0])\n",
    "    result_dict['optimal_var'].append(res[2][1])\n",
    "\n",
    "    \n",
    "def experiment(distributions, proportional_n, optimal_n):    \n",
    "    return [(np.mean(sample), np.var(sample)) for sample in get_samples(distributions, proportional_n, optimal_n)]\n",
    "    \n",
    "    \n",
    "def run_experiment(sample_size, means, sigmas, strat_coefficients, retry=1000):\n",
    "    distributions = generate_distributions(means, sigmas, strat_coefficients)\n",
    "    \n",
    "    proportional_n = get_proportional_sample_coefficients(strat_coefficients, sample_size)\n",
    "    display('proportional_n = {}'.format(proportional_n))\n",
    "\n",
    "    optimal_n = get_optimal_sample_coefficients(distributions, strat_coefficients, sample_size)\n",
    "    display('optimal_n = {}'.format(optimal_n))\n",
    "\n",
    "    result = defaultdict(list)\n",
    "    for _ in tqdm(range(retry)):\n",
    "        update_result_dict(result, experiment(distributions, proportional_n, optimal_n))\n",
    "\n",
    "    real_mean = sum(means * strat_coefficients)\n",
    "    # real_var = sum((sigmas ** 2) * strat_coefficients) + sum(((real_mean - means) ** 2) * strat_coefficients)\n",
    "        \n",
    "    fig, axs = plt.subplots(1, 2)\n",
    "    fig.set_size_inches(16, 8)\n",
    "    axs[0].boxplot([result['simple_mean'], result['proportional_mean'], result['optimal_mean']])\n",
    "    axs[0].set_title('mean')\n",
    "    axs[0].set_xticklabels(['simple', 'proportional', 'optimal'], fontsize=14)\n",
    "    axs[0].plot(range(5), np.repeat(real_mean, 5), label='mean')\n",
    "    # legend = axs[0].legend(loc='upper center', fontsize='x-large')\n",
    "\n",
    "    axs[1].boxplot([result['simple_var'], result['proportional_var'], result['optimal_var']])\n",
    "    axs[1].set_title('var')\n",
    "    axs[1].set_xticklabels(['simple', 'proportional', 'optimal'], fontsize=14)\n",
    "    return result "
   ]
  },
  {
   "cell_type": "markdown",
   "metadata": {},
   "source": [
    "## Experiments"
   ]
  },
  {
   "cell_type": "markdown",
   "metadata": {},
   "source": [
    "### Same expectation and variance"
   ]
  },
  {
   "cell_type": "markdown",
   "metadata": {},
   "source": [
    "В процессе моделирования, из генеральной совокупности случайной величины (являющейся смесью трёх нормально распределённых случайных величин) извлекались выборки объма 40 и 500 тремя различными способами:\n",
    "\n",
    "* Прстое случайное сэмплирование\n",
    "* Пропорциональное сэмплирвоание\n",
    "* Оптимальное сэмплирвоание\n",
    "\n",
    "По извлечённым выборкам строились оценки математического ожидания и дисперсии исследуемой случайной величины. Эксперимент повторялся 1000 раз, и по результатам серии экспериментов сравнивались характеристики получившихся оценок."
   ]
  },
  {
   "cell_type": "code",
   "execution_count": 19,
   "metadata": {},
   "outputs": [
    {
     "data": {
      "text/plain": [
       "1.0"
      ]
     },
     "execution_count": 19,
     "metadata": {},
     "output_type": "execute_result"
    }
   ],
   "source": [
    "MEANS=np.array([0.0, 0.0, 0.0])\n",
    "SIGMAS=np.array([1.0, 1.0, 1.0])\n",
    "STRAT_COEFFICIENTS=np.array([0.5, 0.2, 0.3])\n",
    "sum(STRAT_COEFFICIENTS)"
   ]
  },
  {
   "cell_type": "code",
   "execution_count": 20,
   "metadata": {},
   "outputs": [
    {
     "data": {
      "text/plain": [
       "'proportional_n = [20  8 12]'"
      ]
     },
     "metadata": {},
     "output_type": "display_data"
    },
    {
     "data": {
      "text/plain": [
       "'optimal_n = [20  8 12]'"
      ]
     },
     "metadata": {},
     "output_type": "display_data"
    },
    {
     "name": "stderr",
     "output_type": "stream",
     "text": [
      "100%|██████████| 1000/1000 [00:00<00:00, 2461.82it/s]\n"
     ]
    },
    {
     "data": {
      "text/plain": [
       "'РаВные мат ожидания и РаВные дисперсии | V = 40'"
      ]
     },
     "metadata": {},
     "output_type": "display_data"
    },
    {
     "data": {
      "image/png": "[encoded data removed]",
      "text/plain": [
       "<matplotlib.figure.Figure at 0x7f43b7700e10>"
      ]
     },
     "metadata": {},
     "output_type": "display_data"
    }
   ],
   "source": [
    "run_experiment(40, means=MEANS, sigmas=SIGMAS, strat_coefficients=STRAT_COEFFICIENTS)\n",
    "display('РаВные мат ожидания и РаВные дисперсии | V = 40')"
   ]
  },
  {
   "cell_type": "code",
   "execution_count": 21,
   "metadata": {
    "scrolled": true
   },
   "outputs": [
    {
     "data": {
      "text/plain": [
       "'proportional_n = [250 100 150]'"
      ]
     },
     "metadata": {},
     "output_type": "display_data"
    },
    {
     "data": {
      "text/plain": [
       "'optimal_n = [252  99 149]'"
      ]
     },
     "metadata": {},
     "output_type": "display_data"
    },
    {
     "name": "stderr",
     "output_type": "stream",
     "text": [
      "100%|██████████| 1000/1000 [00:00<00:00, 1334.94it/s]\n"
     ]
    },
    {
     "data": {
      "text/plain": [
       "'РаВные мат ожидания и РаВные дисперсии V = 500'"
      ]
     },
     "metadata": {},
     "output_type": "display_data"
    },
    {
     "data": {
      "image/png": "[encoded data removed]",
      "text/plain": [
       "<matplotlib.figure.Figure at 0x7f43b74b5978>"
      ]
     },
     "metadata": {},
     "output_type": "display_data"
    }
   ],
   "source": [
    "run_experiment(500, means=MEANS, sigmas=SIGMAS, strat_coefficients=STRAT_COEFFICIENTS)\n",
    "display('РаВные мат ожидания и РаВные дисперсии V = 500')"
   ]
  },
  {
   "cell_type": "markdown",
   "metadata": {},
   "source": [
    "По результатам моделирования можно сделать следующие выводы: \n",
    "В случае одинаковых мат ожиданий и дисперсий оценка мат ожидания, полученная любым из способов является несмещённой, в то время как оценка дисперсии получилась смещённая для всех способов (?? противоречит лекции). С увеличением объёма выборки оценка построенаая по без стратификации прилижается к той, что получена с учётом стратификации, однако остаётся смещённой относительно настоящего значения. \n",
    "\n",
    "Разброс оценок мат ожидания квартили и интерквартильный разброс практически совпадают, независимо от метода. Для оценок дисперсии ситуации аналогична. \n",
    "\n",
    "Таким образом, в данном случае применение стратификации - нецелесообразно."
   ]
  },
  {
   "cell_type": "markdown",
   "metadata": {},
   "source": [
    "### Different expectation Same variance"
   ]
  },
  {
   "cell_type": "code",
   "execution_count": 22,
   "metadata": {},
   "outputs": [],
   "source": [
    "MEANS=np.array([5.0, 2.0, 0.0])"
   ]
  },
  {
   "cell_type": "code",
   "execution_count": 23,
   "metadata": {},
   "outputs": [],
   "source": [
    "# run_experiment(40, means=MEANS, sigmas=SIGMAS, strat_coefficients=STRAT_COEFFICIENTS)\n",
    "# display('РаЗные мат ожидания и РаВные дисперсии | V = 40')"
   ]
  },
  {
   "cell_type": "code",
   "execution_count": 24,
   "metadata": {},
   "outputs": [],
   "source": [
    "# run_experiment(500, means=MEANS, sigmas=SIGMAS, strat_coefficients=STRAT_COEFFICIENTS)\n",
    "# display('РаЗные мат ожидания и РаВные дисперсии | V = 500')"
   ]
  },
  {
   "cell_type": "markdown",
   "metadata": {},
   "source": [
    "По результатам моделирования можно сделать следующие выводы: \n"
   ]
  },
  {
   "cell_type": "markdown",
   "metadata": {},
   "source": [
    "### Different expectation and variance"
   ]
  },
  {
   "cell_type": "code",
   "execution_count": 25,
   "metadata": {},
   "outputs": [],
   "source": [
    "SIGMAS=np.array([0.5, 1.0, 2.0])"
   ]
  },
  {
   "cell_type": "code",
   "execution_count": 26,
   "metadata": {},
   "outputs": [
    {
     "data": {
      "text/plain": [
       "'proportional_n = [20  8 12]'"
      ]
     },
     "metadata": {},
     "output_type": "display_data"
    },
    {
     "data": {
      "text/plain": [
       "'optimal_n = [10  7 23]'"
      ]
     },
     "metadata": {},
     "output_type": "display_data"
    },
    {
     "name": "stderr",
     "output_type": "stream",
     "text": [
      "100%|██████████| 1000/1000 [00:00<00:00, 1493.83it/s]\n"
     ]
    },
    {
     "data": {
      "text/plain": [
       "'РаЗные мат ожидания и РаЗные дисперсии | V = 40'"
      ]
     },
     "metadata": {},
     "output_type": "display_data"
    },
    {
     "data": {
      "image/png": "[encoded data removed]",
      "text/plain": [
       "<matplotlib.figure.Figure at 0x7f43b72dff28>"
      ]
     },
     "metadata": {},
     "output_type": "display_data"
    }
   ],
   "source": [
    "run_experiment(40, means=MEANS, sigmas=SIGMAS, strat_coefficients=STRAT_COEFFICIENTS)\n",
    "display('РаЗные мат ожидания и РаЗные дисперсии | V = 40')"
   ]
  },
  {
   "cell_type": "code",
   "execution_count": 27,
   "metadata": {},
   "outputs": [
    {
     "data": {
      "text/plain": [
       "'proportional_n = [250 100 150]'"
      ]
     },
     "metadata": {},
     "output_type": "display_data"
    },
    {
     "data": {
      "text/plain": [
       "'optimal_n = [118  95 287]'"
      ]
     },
     "metadata": {},
     "output_type": "display_data"
    },
    {
     "name": "stderr",
     "output_type": "stream",
     "text": [
      "100%|██████████| 1000/1000 [00:00<00:00, 2168.38it/s]\n"
     ]
    },
    {
     "data": {
      "text/plain": [
       "'РаЗные мат ожидания и РаЗные дисперсии | V = 500'"
      ]
     },
     "metadata": {},
     "output_type": "display_data"
    },
    {
     "data": {
      "image/png": "[encoded data removed]",
      "text/plain": [
       "<matplotlib.figure.Figure at 0x7f43b734d358>"
      ]
     },
     "metadata": {},
     "output_type": "display_data"
    }
   ],
   "source": [
    "run_experiment(500, means=MEANS, sigmas=SIGMAS, strat_coefficients=STRAT_COEFFICIENTS)\n",
    "display('РаЗные мат ожидания и РаЗные дисперсии | V = 500')"
   ]
  },
  {
   "cell_type": "markdown",
   "metadata": {},
   "source": [
    "Вот здесь я получаю очень сильное смещение в оценке среднего и рост дисперсии в случае **оптимального** сэмплирвоания. \n",
    "\n",
    "Однако этот метод сэмплирования должен давать противоположный результат. В то же время я не вижу ничего неожиданного в результатах, ведь согласно формуле мы будем брать больше точек из той страты, дисперсия которой больше. Вот и получается что  мы тянем больше из последней, смещая таким образом оценку мат ожидания в сторону актуального для третьей страты значения мат ожидания. "
   ]
  },
  {
   "cell_type": "code",
   "execution_count": null,
   "metadata": {},
   "outputs": [],
   "source": []
  },
  {
   "cell_type": "code",
   "execution_count": null,
   "metadata": {},
   "outputs": [],
   "source": []
  },
  {
   "cell_type": "code",
   "execution_count": null,
   "metadata": {},
   "outputs": [],
   "source": []
  },
  {
   "cell_type": "code",
   "execution_count": null,
   "metadata": {},
   "outputs": [],
   "source": []
  },
  {
   "cell_type": "code",
   "execution_count": null,
   "metadata": {},
   "outputs": [],
   "source": []
  },
  {
   "cell_type": "code",
   "execution_count": null,
   "metadata": {},
   "outputs": [],
   "source": []
  },
  {
   "cell_type": "code",
   "execution_count": null,
   "metadata": {},
   "outputs": [],
   "source": []
  }
 ],
 "metadata": {
  "kernelspec": {
   "display_name": "Python 3",
   "language": "python",
   "name": "python3"
  },
  "language_info": {
   "codemirror_mode": {
    "name": "ipython",
    "version": 3
   },
   "file_extension": ".py",
   "mimetype": "text/x-python",
   "name": "python",
   "nbconvert_exporter": "python",
   "pygments_lexer": "ipython3",
   "version": "3.6.8"
  },
  "toc": {
   "base_numbering": 1,
   "nav_menu": {
    "height": "383px",
    "width": "282px"
   },
   "number_sections": true,
   "sideBar": true,
   "skip_h1_title": false,
   "title_cell": "Table of Contents",
   "title_sidebar": "Contents",
   "toc_cell": true,
   "toc_position": {
    "height": "calc(100% - 180px)",
    "left": "10px",
    "top": "150px",
    "width": "389px"
   },
   "toc_section_display": true,
   "toc_window_display": true
  }
 },
 "nbformat": 4,
 "nbformat_minor": 2
}
