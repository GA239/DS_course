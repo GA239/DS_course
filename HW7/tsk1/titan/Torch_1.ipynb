{
  "nbformat": 4,
  "nbformat_minor": 0,
  "metadata": {
    "colab": {
      "name": "Torch.1.ipynb",
      "provenance": [],
      "mount_file_id": "154dZneYUWZzzfbk3oBT_MEvdXnM0v95J",
      "authorship_tag": "ABX9TyOLX1OPhcMXvmcFgmQcM5wY",
      "include_colab_link": true
    },
    "kernelspec": {
      "name": "python3",
      "display_name": "Python 3"
    },
    "accelerator": "GPU"
  },
  "cells": [
    {
      "cell_type": "markdown",
      "metadata": {
        "id": "view-in-github",
        "colab_type": "text"
      },
      "source": [
        "<a href=\"https://colab.research.google.com/github/GA239/DS_course/blob/master/HW7/tsk1/Torch_1.ipynb\" target=\"_parent\"><img src=\"https://colab.research.google.com/assets/colab-badge.svg\" alt=\"Open In Colab\"/></a>"
      ]
    },
    {
      "cell_type": "code",
      "metadata": {
        "id": "uTUbGvTiNFdl",
        "colab_type": "code",
        "colab": {}
      },
      "source": [
        "import torch\n",
        "import torch.nn as nn\n",
        "from torch.autograd import Variable\n",
        "import torch.optim as optim\n",
        "import os\n",
        "import pandas as pd\n",
        "import numpy as np\n",
        "import seaborn as sns\n",
        "import torch.nn.functional as F"
      ],
      "execution_count": 181,
      "outputs": []
    },
    {
      "cell_type": "code",
      "metadata": {
        "id": "NEzH9YUMQUaP",
        "colab_type": "code",
        "colab": {}
      },
      "source": [
        "# read dataset\n",
        "DRIVE = '/content/drive/My Drive'\n",
        "titanic_path = os.path.join(DRIVE, 'titanic_precessed.csv')"
      ],
      "execution_count": 182,
      "outputs": []
    },
    {
      "cell_type": "code",
      "metadata": {
        "id": "KF0pPEcfRPIp",
        "colab_type": "code",
        "colab": {
          "base_uri": "https://localhost:8080/",
          "height": 121
        },
        "outputId": "42841fc2-3fef-423c-dd52-86ed82dbf15c"
      },
      "source": [
        "df = pd.read_csv(titanic_path, index_col=0)\n",
        "df.columns"
      ],
      "execution_count": 183,
      "outputs": [
        {
          "output_type": "execute_result",
          "data": {
            "text/plain": [
              "Index(['survived', 'sex', 'Family', 'Is_Alone', 'Cabin_A10', 'Cabin_A11',\n",
              "       'Cabin_A14', 'Cabin_A16', 'Cabin_A18', 'Cabin_A19',\n",
              "       ...\n",
              "       'Title_Rev', 'Title_Sir', 'Title_the Countess', 'Fare_Low', 'Fare_Mid',\n",
              "       'Fare_High_Mid', 'Fare_High', 'Class_1', 'Class_2', 'Class_3'],\n",
              "      dtype='object', length=256)"
            ]
          },
          "metadata": {
            "tags": []
          },
          "execution_count": 183
        }
      ]
    },
    {
      "cell_type": "code",
      "metadata": {
        "id": "GuJUagnhQZMZ",
        "colab_type": "code",
        "colab": {}
      },
      "source": [
        "Y = df[['survived']].astype(np.float32)\n",
        "X = df.drop(['survived'], axis=1).astype(np.float32)"
      ],
      "execution_count": 184,
      "outputs": []
    },
    {
      "cell_type": "code",
      "metadata": {
        "id": "bXz8YOm7QdwE",
        "colab_type": "code",
        "colab": {
          "base_uri": "https://localhost:8080/",
          "height": 35
        },
        "outputId": "45ea36d4-a2b7-45bc-c791-23fe4351a453"
      },
      "source": [
        "from sklearn.model_selection import train_test_split\n",
        "Xtrain, Xtest, Ytrain, Ytest, =  train_test_split(X, Y)\n",
        "Xtrain.shape, Ytrain.shape, Xtest.shape, Ytest.shape"
      ],
      "execution_count": 185,
      "outputs": [
        {
          "output_type": "execute_result",
          "data": {
            "text/plain": [
              "((981, 255), (981, 1), (328, 255), (328, 1))"
            ]
          },
          "metadata": {
            "tags": []
          },
          "execution_count": 185
        }
      ]
    },
    {
      "cell_type": "code",
      "metadata": {
        "id": "NcrEln83NrVt",
        "colab_type": "code",
        "colab": {}
      },
      "source": [
        "class Net(nn.Module):\n",
        "    \n",
        "    def __init__(self):\n",
        "        super().__init__()\n",
        "        self.fc = nn.Linear(255, 1)\n",
        "        self.out_act = nn.Sigmoid()\n",
        "        \n",
        "    def forward(self, input_):\n",
        "        a = self.fc(input_)\n",
        "        y = self.out_act(a)\n",
        "        return y\n",
        "    \n",
        "net = Net()\n",
        "opt = optim.Adam(net.parameters(), lr=0.001, betas=(0.9, 0.999))\n",
        "criterion = nn.BCELoss()"
      ],
      "execution_count": 186,
      "outputs": []
    },
    {
      "cell_type": "code",
      "metadata": {
        "id": "5GYUbpzANybo",
        "colab_type": "code",
        "colab": {}
      },
      "source": [
        "\n",
        "def train_epoch(model, opt, criterion, num_steps=50):\n",
        "    model.train()\n",
        "    for _ in range(num_steps):\n",
        "        xbatch = Xtrain.sample(200)\n",
        "        ybatch = Ytrain.loc[xbatch.index]\n",
        "        x_batch = Variable(torch.tensor(xbatch.values))\n",
        "        y_batch = Variable(torch.tensor(ybatch.values))\n",
        "\n",
        "        opt.zero_grad()\n",
        "        # (1) Forward\n",
        "        y_hat = net(x_batch)\n",
        "        y_hat_valid = net(Variable(torch.tensor(Xtest.values)))\n",
        "        # (2) Compute diff\n",
        "        loss = criterion(y_hat, y_batch)\n",
        "        loss_2 = criterion(y_hat_valid, Variable(torch.tensor(Ytest.values)))\n",
        "        # (3) Compute gradients\n",
        "        loss.backward()\n",
        "        # (4) update weights\n",
        "        opt.step()\n",
        "    return float(loss.data.numpy()), float(loss_2.data.numpy())"
      ],
      "execution_count": 187,
      "outputs": []
    },
    {
      "cell_type": "code",
      "metadata": {
        "id": "H0hTUzcUQKG6",
        "colab_type": "code",
        "colab": {
          "base_uri": "https://localhost:8080/",
          "height": 513
        },
        "outputId": "b613049d-0551-4f2d-f096-a4d6a23de7d0"
      },
      "source": [
        "num_epochs = 200\n",
        "losses_train = []\n",
        "losses_test = []\n",
        "for i in range(num_epochs):\n",
        "  loss_train, loss_test = train_epoch(net, opt, criterion)\n",
        "  losses_train.append(loss_train)\n",
        "  losses_test.append(loss_test)\n",
        "  plt.clf()\n",
        "  plt.plot(losses_test, 'r-', lw=2, label='val')\n",
        "  plt.plot(losses_train, 'b-', lw=1, label='training')\n",
        "  plt.legend()\n",
        "  display.clear_output(wait=True)\n",
        "  display.display(plt.gcf())"
      ],
      "execution_count": 188,
      "outputs": [
        {
          "output_type": "display_data",
          "data": {
            "image/png": "[encoded data removed]",
            "text/plain": [
              "<Figure size 432x288 with 1 Axes>"
            ]
          },
          "metadata": {
            "tags": []
          }
        },
        {
          "output_type": "display_data",
          "data": {
            "image/png": "[encoded data removed]",
            "text/plain": [
              "<Figure size 432x288 with 1 Axes>"
            ]
          },
          "metadata": {
            "tags": [],
            "needs_background": "light"
          }
        }
      ]
    },
    {
      "cell_type": "code",
      "metadata": {
        "id": "y9qzDBEVcn5G",
        "colab_type": "code",
        "colab": {}
      },
      "source": [
        ""
      ],
      "execution_count": 188,
      "outputs": []
    }
  ]
}