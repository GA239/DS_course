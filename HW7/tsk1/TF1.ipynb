{
  "nbformat": 4,
  "nbformat_minor": 0,
  "metadata": {
    "colab": {
      "name": "TF1.ipynb",
      "provenance": [],
      "mount_file_id": "1VxMItGFdPPDx2Ou8zbhEoafDZPoRAhj3",
      "authorship_tag": "ABX9TyPWszgtwKLq2xV8cCEU0iQ5",
      "include_colab_link": true
    },
    "kernelspec": {
      "name": "python3",
      "display_name": "Python 3"
    },
    "accelerator": "GPU"
  },
  "cells": [
    {
      "cell_type": "markdown",
      "metadata": {
        "id": "view-in-github",
        "colab_type": "text"
      },
      "source": [
        "<a href=\"https://colab.research.google.com/github/GA239/DS_course/blob/master/HW7/tsk1/TF1.ipynb\" target=\"_parent\"><img src=\"https://colab.research.google.com/assets/colab-badge.svg\" alt=\"Open In Colab\"/></a>"
      ]
    },
    {
      "cell_type": "code",
      "metadata": {
        "id": "-J43By5kb79F",
        "colab_type": "code",
        "colab": {
          "base_uri": "https://localhost:8080/",
          "height": 679
        },
        "outputId": "dfad8870-0d6c-4dbb-ad8a-628e04dc89ba"
      },
      "source": [
        "! pip install tensorflow-gpu"
      ],
      "execution_count": 1,
      "outputs": [
        {
          "output_type": "stream",
          "text": [
            "Requirement already satisfied: tensorflow-gpu in /usr/local/lib/python3.6/dist-packages (2.2.0)\n",
            "Requirement already satisfied: gast==0.3.3 in /usr/local/lib/python3.6/dist-packages (from tensorflow-gpu) (0.3.3)\n",
            "Requirement already satisfied: keras-preprocessing>=1.1.0 in /usr/local/lib/python3.6/dist-packages (from tensorflow-gpu) (1.1.2)\n",
            "Requirement already satisfied: tensorflow-estimator<2.3.0,>=2.2.0 in /usr/local/lib/python3.6/dist-packages (from tensorflow-gpu) (2.2.0)\n",
            "Requirement already satisfied: google-pasta>=0.1.8 in /usr/local/lib/python3.6/dist-packages (from tensorflow-gpu) (0.2.0)\n",
            "Requirement already satisfied: h5py<2.11.0,>=2.10.0 in /usr/local/lib/python3.6/dist-packages (from tensorflow-gpu) (2.10.0)\n",
            "Requirement already satisfied: protobuf>=3.8.0 in /usr/local/lib/python3.6/dist-packages (from tensorflow-gpu) (3.10.0)\n",
            "Requirement already satisfied: astunparse==1.6.3 in /usr/local/lib/python3.6/dist-packages (from tensorflow-gpu) (1.6.3)\n",
            "Requirement already satisfied: numpy<2.0,>=1.16.0 in /usr/local/lib/python3.6/dist-packages (from tensorflow-gpu) (1.18.5)\n",
            "Requirement already satisfied: opt-einsum>=2.3.2 in /usr/local/lib/python3.6/dist-packages (from tensorflow-gpu) (3.2.1)\n",
            "Requirement already satisfied: tensorboard<2.3.0,>=2.2.0 in /usr/local/lib/python3.6/dist-packages (from tensorflow-gpu) (2.2.2)\n",
            "Requirement already satisfied: absl-py>=0.7.0 in /usr/local/lib/python3.6/dist-packages (from tensorflow-gpu) (0.9.0)\n",
            "Requirement already satisfied: termcolor>=1.1.0 in /usr/local/lib/python3.6/dist-packages (from tensorflow-gpu) (1.1.0)\n",
            "Requirement already satisfied: grpcio>=1.8.6 in /usr/local/lib/python3.6/dist-packages (from tensorflow-gpu) (1.30.0)\n",
            "Requirement already satisfied: six>=1.12.0 in /usr/local/lib/python3.6/dist-packages (from tensorflow-gpu) (1.12.0)\n",
            "Requirement already satisfied: wheel>=0.26; python_version >= \"3\" in /usr/local/lib/python3.6/dist-packages (from tensorflow-gpu) (0.34.2)\n",
            "Requirement already satisfied: scipy==1.4.1; python_version >= \"3\" in /usr/local/lib/python3.6/dist-packages (from tensorflow-gpu) (1.4.1)\n",
            "Requirement already satisfied: wrapt>=1.11.1 in /usr/local/lib/python3.6/dist-packages (from tensorflow-gpu) (1.12.1)\n",
            "Requirement already satisfied: setuptools in /usr/local/lib/python3.6/dist-packages (from protobuf>=3.8.0->tensorflow-gpu) (47.3.1)\n",
            "Requirement already satisfied: requests<3,>=2.21.0 in /usr/local/lib/python3.6/dist-packages (from tensorboard<2.3.0,>=2.2.0->tensorflow-gpu) (2.23.0)\n",
            "Requirement already satisfied: markdown>=2.6.8 in /usr/local/lib/python3.6/dist-packages (from tensorboard<2.3.0,>=2.2.0->tensorflow-gpu) (3.2.2)\n",
            "Requirement already satisfied: tensorboard-plugin-wit>=1.6.0 in /usr/local/lib/python3.6/dist-packages (from tensorboard<2.3.0,>=2.2.0->tensorflow-gpu) (1.6.0.post3)\n",
            "Requirement already satisfied: werkzeug>=0.11.15 in /usr/local/lib/python3.6/dist-packages (from tensorboard<2.3.0,>=2.2.0->tensorflow-gpu) (1.0.1)\n",
            "Requirement already satisfied: google-auth<2,>=1.6.3 in /usr/local/lib/python3.6/dist-packages (from tensorboard<2.3.0,>=2.2.0->tensorflow-gpu) (1.17.2)\n",
            "Requirement already satisfied: google-auth-oauthlib<0.5,>=0.4.1 in /usr/local/lib/python3.6/dist-packages (from tensorboard<2.3.0,>=2.2.0->tensorflow-gpu) (0.4.1)\n",
            "Requirement already satisfied: idna<3,>=2.5 in /usr/local/lib/python3.6/dist-packages (from requests<3,>=2.21.0->tensorboard<2.3.0,>=2.2.0->tensorflow-gpu) (2.9)\n",
            "Requirement already satisfied: chardet<4,>=3.0.2 in /usr/local/lib/python3.6/dist-packages (from requests<3,>=2.21.0->tensorboard<2.3.0,>=2.2.0->tensorflow-gpu) (3.0.4)\n",
            "Requirement already satisfied: certifi>=2017.4.17 in /usr/local/lib/python3.6/dist-packages (from requests<3,>=2.21.0->tensorboard<2.3.0,>=2.2.0->tensorflow-gpu) (2020.6.20)\n",
            "Requirement already satisfied: urllib3!=1.25.0,!=1.25.1,<1.26,>=1.21.1 in /usr/local/lib/python3.6/dist-packages (from requests<3,>=2.21.0->tensorboard<2.3.0,>=2.2.0->tensorflow-gpu) (1.24.3)\n",
            "Requirement already satisfied: importlib-metadata; python_version < \"3.8\" in /usr/local/lib/python3.6/dist-packages (from markdown>=2.6.8->tensorboard<2.3.0,>=2.2.0->tensorflow-gpu) (1.6.1)\n",
            "Requirement already satisfied: rsa<5,>=3.1.4; python_version >= \"3\" in /usr/local/lib/python3.6/dist-packages (from google-auth<2,>=1.6.3->tensorboard<2.3.0,>=2.2.0->tensorflow-gpu) (4.6)\n",
            "Requirement already satisfied: cachetools<5.0,>=2.0.0 in /usr/local/lib/python3.6/dist-packages (from google-auth<2,>=1.6.3->tensorboard<2.3.0,>=2.2.0->tensorflow-gpu) (4.1.0)\n",
            "Requirement already satisfied: pyasn1-modules>=0.2.1 in /usr/local/lib/python3.6/dist-packages (from google-auth<2,>=1.6.3->tensorboard<2.3.0,>=2.2.0->tensorflow-gpu) (0.2.8)\n",
            "Requirement already satisfied: requests-oauthlib>=0.7.0 in /usr/local/lib/python3.6/dist-packages (from google-auth-oauthlib<0.5,>=0.4.1->tensorboard<2.3.0,>=2.2.0->tensorflow-gpu) (1.3.0)\n",
            "Requirement already satisfied: zipp>=0.5 in /usr/local/lib/python3.6/dist-packages (from importlib-metadata; python_version < \"3.8\"->markdown>=2.6.8->tensorboard<2.3.0,>=2.2.0->tensorflow-gpu) (3.1.0)\n",
            "Requirement already satisfied: pyasn1>=0.1.3 in /usr/local/lib/python3.6/dist-packages (from rsa<5,>=3.1.4; python_version >= \"3\"->google-auth<2,>=1.6.3->tensorboard<2.3.0,>=2.2.0->tensorflow-gpu) (0.4.8)\n",
            "Requirement already satisfied: oauthlib>=3.0.0 in /usr/local/lib/python3.6/dist-packages (from requests-oauthlib>=0.7.0->google-auth-oauthlib<0.5,>=0.4.1->tensorboard<2.3.0,>=2.2.0->tensorflow-gpu) (3.1.0)\n"
          ],
          "name": "stdout"
        }
      ]
    },
    {
      "cell_type": "code",
      "metadata": {
        "id": "aVvPqxTncXNS",
        "colab_type": "code",
        "colab": {}
      },
      "source": [
        "# import tensorflow as tf\n",
        "# import os\n",
        "# tf.__version__\n",
        "import matplotlib.pylab as plt\n",
        "import os"
      ],
      "execution_count": 2,
      "outputs": []
    },
    {
      "cell_type": "code",
      "metadata": {
        "id": "3DdL1bwOfxxj",
        "colab_type": "code",
        "colab": {
          "base_uri": "https://localhost:8080/",
          "height": 89
        },
        "outputId": "684937ad-9f6d-4494-e2aa-cb3b2dbc5d33"
      },
      "source": [
        "import tensorflow.compat.v1 as tf\n",
        "tf.disable_v2_behavior()"
      ],
      "execution_count": 3,
      "outputs": [
        {
          "output_type": "stream",
          "text": [
            "WARNING:tensorflow:From /usr/local/lib/python3.6/dist-packages/tensorflow/python/compat/v2_compat.py:96: disable_resource_variables (from tensorflow.python.ops.variable_scope) is deprecated and will be removed in a future version.\n",
            "Instructions for updating:\n",
            "non-resource variables are not supported in the long term\n"
          ],
          "name": "stdout"
        }
      ]
    },
    {
      "cell_type": "code",
      "metadata": {
        "id": "_vDo480ecYja",
        "colab_type": "code",
        "colab": {
          "base_uri": "https://localhost:8080/",
          "height": 35
        },
        "outputId": "9358f3a0-0f6f-4150-a5f8-264b37490876"
      },
      "source": [
        "tf.__version__"
      ],
      "execution_count": 4,
      "outputs": [
        {
          "output_type": "execute_result",
          "data": {
            "application/vnd.google.colaboratory.intrinsic": {
              "type": "string"
            },
            "text/plain": [
              "'2.2.0'"
            ]
          },
          "metadata": {
            "tags": []
          },
          "execution_count": 4
        }
      ]
    },
    {
      "cell_type": "code",
      "metadata": {
        "id": "oE9JyGchc85c",
        "colab_type": "code",
        "colab": {
          "base_uri": "https://localhost:8080/",
          "height": 35
        },
        "outputId": "0115cad4-a15a-4a9a-ac8e-6decbb5fdc66"
      },
      "source": [
        "tf.test.gpu_device_name()"
      ],
      "execution_count": 5,
      "outputs": [
        {
          "output_type": "execute_result",
          "data": {
            "application/vnd.google.colaboratory.intrinsic": {
              "type": "string"
            },
            "text/plain": [
              "'/device:GPU:0'"
            ]
          },
          "metadata": {
            "tags": []
          },
          "execution_count": 5
        }
      ]
    },
    {
      "cell_type": "code",
      "metadata": {
        "id": "BSxa38r1xSJL",
        "colab_type": "code",
        "colab": {}
      },
      "source": [
        "# read dataset\n",
        "DRIVE = '/content/drive/My Drive'\n",
        "titanic_path = os.path.join(DRIVE, 'titanic3.xls')\n"
      ],
      "execution_count": 6,
      "outputs": []
    },
    {
      "cell_type": "code",
      "metadata": {
        "id": "Gg3FXY0Nym85",
        "colab_type": "code",
        "colab": {
          "base_uri": "https://localhost:8080/",
          "height": 69
        },
        "outputId": "dec80e1a-91b7-46f5-900a-cf13ff25399f"
      },
      "source": [
        "import pandas as pd\n",
        "xl = pd.ExcelFile(titanic_path)\n",
        "df = xl.parse(xl.sheet_names[0])\n",
        "df.columns"
      ],
      "execution_count": 7,
      "outputs": [
        {
          "output_type": "execute_result",
          "data": {
            "text/plain": [
              "Index(['pclass', 'survived', 'name', 'sex', 'age', 'sibsp', 'parch', 'ticket',\n",
              "       'fare', 'cabin', 'embarked', 'boat', 'body', 'home.dest'],\n",
              "      dtype='object')"
            ]
          },
          "metadata": {
            "tags": []
          },
          "execution_count": 7
        }
      ]
    },
    {
      "cell_type": "code",
      "metadata": {
        "id": "gIMVuZp0Es8k",
        "colab_type": "code",
        "colab": {}
      },
      "source": [
        "df = pd.concat([df, pd.get_dummies(df.embarked, prefix='embarked')], axis=1)\n",
        "df = pd.concat([df, pd.get_dummies(df.survived, prefix='survived')], axis=1)"
      ],
      "execution_count": 8,
      "outputs": []
    },
    {
      "cell_type": "code",
      "metadata": {
        "id": "WBB8RDKyB-0w",
        "colab_type": "code",
        "colab": {
          "base_uri": "https://localhost:8080/",
          "height": 35
        },
        "outputId": "a0fdb805-ce9d-4209-c8dc-67ec812c0744"
      },
      "source": [
        "features = ['pclass', 'sex', 'age', 'sibsp', 'parch', 'embarked_C', 'embarked_S', 'embarked_Q']\n",
        "df.shape"
      ],
      "execution_count": 9,
      "outputs": [
        {
          "output_type": "execute_result",
          "data": {
            "text/plain": [
              "(1309, 19)"
            ]
          },
          "metadata": {
            "tags": []
          },
          "execution_count": 9
        }
      ]
    },
    {
      "cell_type": "code",
      "metadata": {
        "id": "UxRVZ6-ICDJJ",
        "colab_type": "code",
        "colab": {
          "base_uri": "https://localhost:8080/",
          "height": 35
        },
        "outputId": "9054edae-88e6-415c-f28c-519b181f6283"
      },
      "source": [
        "df = df.dropna(subset=features)\n",
        "df.shape"
      ],
      "execution_count": 10,
      "outputs": [
        {
          "output_type": "execute_result",
          "data": {
            "text/plain": [
              "(1046, 19)"
            ]
          },
          "metadata": {
            "tags": []
          },
          "execution_count": 10
        }
      ]
    },
    {
      "cell_type": "code",
      "metadata": {
        "id": "ZRc9J1Km0YEb",
        "colab_type": "code",
        "colab": {}
      },
      "source": [
        "X = df[features]\n",
        "Y = df[['survived_0',\t'survived_1']]"
      ],
      "execution_count": 11,
      "outputs": []
    },
    {
      "cell_type": "code",
      "metadata": {
        "id": "j5T_Uv7i2Ear",
        "colab_type": "code",
        "colab": {}
      },
      "source": [
        "from sklearn.preprocessing import OneHotEncoder, LabelEncoder\n",
        "from sklearn.model_selection import train_test_split"
      ],
      "execution_count": 12,
      "outputs": []
    },
    {
      "cell_type": "code",
      "metadata": {
        "id": "bKkRV09czFx9",
        "colab_type": "code",
        "colab": {
          "base_uri": "https://localhost:8080/",
          "height": 35
        },
        "outputId": "16d0c052-7296-4d0e-f6b8-e870f453b8d8"
      },
      "source": [
        "Xtrain, Xtest, Ytrain, Ytest, =  train_test_split(X, Y)\n",
        "Xtrain.shape, Ytrain.shape, Xtest.shape, Ytest.shape"
      ],
      "execution_count": 13,
      "outputs": [
        {
          "output_type": "execute_result",
          "data": {
            "text/plain": [
              "((784, 8), (784, 2), (262, 8), (262, 2))"
            ]
          },
          "metadata": {
            "tags": []
          },
          "execution_count": 13
        }
      ]
    },
    {
      "cell_type": "code",
      "metadata": {
        "id": "rTz8lMN96Ysn",
        "colab_type": "code",
        "colab": {
          "base_uri": "https://localhost:8080/",
          "height": 415
        },
        "outputId": "be2a9ae7-5839-4707-96e2-b2b5e4a3e631"
      },
      "source": [
        "Xtrain"
      ],
      "execution_count": 14,
      "outputs": [
        {
          "output_type": "execute_result",
          "data": {
            "text/html": [
              "<div>\n",
              "<style scoped>\n",
              "    .dataframe tbody tr th:only-of-type {\n",
              "        vertical-align: middle;\n",
              "    }\n",
              "\n",
              "    .dataframe tbody tr th {\n",
              "        vertical-align: top;\n",
              "    }\n",
              "\n",
              "    .dataframe thead th {\n",
              "        text-align: right;\n",
              "    }\n",
              "</style>\n",
              "<table border=\"1\" class=\"dataframe\">\n",
              "  <thead>\n",
              "    <tr style=\"text-align: right;\">\n",
              "      <th></th>\n",
              "      <th>pclass</th>\n",
              "      <th>sex</th>\n",
              "      <th>age</th>\n",
              "      <th>sibsp</th>\n",
              "      <th>parch</th>\n",
              "      <th>embarked_C</th>\n",
              "      <th>embarked_S</th>\n",
              "      <th>embarked_Q</th>\n",
              "    </tr>\n",
              "  </thead>\n",
              "  <tbody>\n",
              "    <tr>\n",
              "      <th>857</th>\n",
              "      <td>3</td>\n",
              "      <td>male</td>\n",
              "      <td>27.0</td>\n",
              "      <td>0</td>\n",
              "      <td>0</td>\n",
              "      <td>0</td>\n",
              "      <td>1</td>\n",
              "      <td>0</td>\n",
              "    </tr>\n",
              "    <tr>\n",
              "      <th>720</th>\n",
              "      <td>3</td>\n",
              "      <td>male</td>\n",
              "      <td>24.0</td>\n",
              "      <td>0</td>\n",
              "      <td>0</td>\n",
              "      <td>0</td>\n",
              "      <td>0</td>\n",
              "      <td>1</td>\n",
              "    </tr>\n",
              "    <tr>\n",
              "      <th>668</th>\n",
              "      <td>3</td>\n",
              "      <td>male</td>\n",
              "      <td>22.0</td>\n",
              "      <td>0</td>\n",
              "      <td>0</td>\n",
              "      <td>0</td>\n",
              "      <td>1</td>\n",
              "      <td>0</td>\n",
              "    </tr>\n",
              "    <tr>\n",
              "      <th>215</th>\n",
              "      <td>1</td>\n",
              "      <td>male</td>\n",
              "      <td>58.0</td>\n",
              "      <td>0</td>\n",
              "      <td>2</td>\n",
              "      <td>1</td>\n",
              "      <td>0</td>\n",
              "      <td>0</td>\n",
              "    </tr>\n",
              "    <tr>\n",
              "      <th>799</th>\n",
              "      <td>3</td>\n",
              "      <td>male</td>\n",
              "      <td>18.0</td>\n",
              "      <td>0</td>\n",
              "      <td>0</td>\n",
              "      <td>0</td>\n",
              "      <td>1</td>\n",
              "      <td>0</td>\n",
              "    </tr>\n",
              "    <tr>\n",
              "      <th>...</th>\n",
              "      <td>...</td>\n",
              "      <td>...</td>\n",
              "      <td>...</td>\n",
              "      <td>...</td>\n",
              "      <td>...</td>\n",
              "      <td>...</td>\n",
              "      <td>...</td>\n",
              "      <td>...</td>\n",
              "    </tr>\n",
              "    <tr>\n",
              "      <th>207</th>\n",
              "      <td>1</td>\n",
              "      <td>female</td>\n",
              "      <td>33.0</td>\n",
              "      <td>1</td>\n",
              "      <td>0</td>\n",
              "      <td>0</td>\n",
              "      <td>0</td>\n",
              "      <td>1</td>\n",
              "    </tr>\n",
              "    <tr>\n",
              "      <th>559</th>\n",
              "      <td>2</td>\n",
              "      <td>female</td>\n",
              "      <td>20.0</td>\n",
              "      <td>0</td>\n",
              "      <td>0</td>\n",
              "      <td>0</td>\n",
              "      <td>1</td>\n",
              "      <td>0</td>\n",
              "    </tr>\n",
              "    <tr>\n",
              "      <th>561</th>\n",
              "      <td>2</td>\n",
              "      <td>male</td>\n",
              "      <td>59.0</td>\n",
              "      <td>0</td>\n",
              "      <td>0</td>\n",
              "      <td>0</td>\n",
              "      <td>1</td>\n",
              "      <td>0</td>\n",
              "    </tr>\n",
              "    <tr>\n",
              "      <th>520</th>\n",
              "      <td>2</td>\n",
              "      <td>male</td>\n",
              "      <td>20.0</td>\n",
              "      <td>0</td>\n",
              "      <td>0</td>\n",
              "      <td>1</td>\n",
              "      <td>0</td>\n",
              "      <td>0</td>\n",
              "    </tr>\n",
              "    <tr>\n",
              "      <th>868</th>\n",
              "      <td>3</td>\n",
              "      <td>male</td>\n",
              "      <td>43.0</td>\n",
              "      <td>0</td>\n",
              "      <td>0</td>\n",
              "      <td>0</td>\n",
              "      <td>1</td>\n",
              "      <td>0</td>\n",
              "    </tr>\n",
              "  </tbody>\n",
              "</table>\n",
              "<p>784 rows × 8 columns</p>\n",
              "</div>"
            ],
            "text/plain": [
              "     pclass     sex   age  sibsp  parch  embarked_C  embarked_S  embarked_Q\n",
              "857       3    male  27.0      0      0           0           1           0\n",
              "720       3    male  24.0      0      0           0           0           1\n",
              "668       3    male  22.0      0      0           0           1           0\n",
              "215       1    male  58.0      0      2           1           0           0\n",
              "799       3    male  18.0      0      0           0           1           0\n",
              "..      ...     ...   ...    ...    ...         ...         ...         ...\n",
              "207       1  female  33.0      1      0           0           0           1\n",
              "559       2  female  20.0      0      0           0           1           0\n",
              "561       2    male  59.0      0      0           0           1           0\n",
              "520       2    male  20.0      0      0           1           0           0\n",
              "868       3    male  43.0      0      0           0           1           0\n",
              "\n",
              "[784 rows x 8 columns]"
            ]
          },
          "metadata": {
            "tags": []
          },
          "execution_count": 14
        }
      ]
    },
    {
      "cell_type": "code",
      "metadata": {
        "id": "IOfByMRpz-fY",
        "colab_type": "code",
        "colab": {
          "base_uri": "https://localhost:8080/",
          "height": 225
        },
        "outputId": "c3fa7ae7-6af7-4cd1-d36f-a454c0c506a9"
      },
      "source": [
        "lencoder = LabelEncoder().fit(Xtrain.sex)\n",
        "Xtrain['sex'] = lencoder.transform(Xtrain.sex)\n",
        "Xtest['sex'] = lencoder.transform(Xtest.sex)"
      ],
      "execution_count": 15,
      "outputs": [
        {
          "output_type": "stream",
          "text": [
            "/usr/local/lib/python3.6/dist-packages/ipykernel_launcher.py:2: SettingWithCopyWarning: \n",
            "A value is trying to be set on a copy of a slice from a DataFrame.\n",
            "Try using .loc[row_indexer,col_indexer] = value instead\n",
            "\n",
            "See the caveats in the documentation: https://pandas.pydata.org/pandas-docs/stable/user_guide/indexing.html#returning-a-view-versus-a-copy\n",
            "  \n",
            "/usr/local/lib/python3.6/dist-packages/ipykernel_launcher.py:3: SettingWithCopyWarning: \n",
            "A value is trying to be set on a copy of a slice from a DataFrame.\n",
            "Try using .loc[row_indexer,col_indexer] = value instead\n",
            "\n",
            "See the caveats in the documentation: https://pandas.pydata.org/pandas-docs/stable/user_guide/indexing.html#returning-a-view-versus-a-copy\n",
            "  This is separate from the ipykernel package so we can avoid doing imports until\n"
          ],
          "name": "stderr"
        }
      ]
    },
    {
      "cell_type": "code",
      "metadata": {
        "id": "18BER5ky8SKd",
        "colab_type": "code",
        "colab": {
          "base_uri": "https://localhost:8080/",
          "height": 171
        },
        "outputId": "e01e62af-622f-41a8-984b-6a5a65609fc4"
      },
      "source": [
        "Xtrain.head(4)"
      ],
      "execution_count": 16,
      "outputs": [
        {
          "output_type": "execute_result",
          "data": {
            "text/html": [
              "<div>\n",
              "<style scoped>\n",
              "    .dataframe tbody tr th:only-of-type {\n",
              "        vertical-align: middle;\n",
              "    }\n",
              "\n",
              "    .dataframe tbody tr th {\n",
              "        vertical-align: top;\n",
              "    }\n",
              "\n",
              "    .dataframe thead th {\n",
              "        text-align: right;\n",
              "    }\n",
              "</style>\n",
              "<table border=\"1\" class=\"dataframe\">\n",
              "  <thead>\n",
              "    <tr style=\"text-align: right;\">\n",
              "      <th></th>\n",
              "      <th>pclass</th>\n",
              "      <th>sex</th>\n",
              "      <th>age</th>\n",
              "      <th>sibsp</th>\n",
              "      <th>parch</th>\n",
              "      <th>embarked_C</th>\n",
              "      <th>embarked_S</th>\n",
              "      <th>embarked_Q</th>\n",
              "    </tr>\n",
              "  </thead>\n",
              "  <tbody>\n",
              "    <tr>\n",
              "      <th>857</th>\n",
              "      <td>3</td>\n",
              "      <td>1</td>\n",
              "      <td>27.0</td>\n",
              "      <td>0</td>\n",
              "      <td>0</td>\n",
              "      <td>0</td>\n",
              "      <td>1</td>\n",
              "      <td>0</td>\n",
              "    </tr>\n",
              "    <tr>\n",
              "      <th>720</th>\n",
              "      <td>3</td>\n",
              "      <td>1</td>\n",
              "      <td>24.0</td>\n",
              "      <td>0</td>\n",
              "      <td>0</td>\n",
              "      <td>0</td>\n",
              "      <td>0</td>\n",
              "      <td>1</td>\n",
              "    </tr>\n",
              "    <tr>\n",
              "      <th>668</th>\n",
              "      <td>3</td>\n",
              "      <td>1</td>\n",
              "      <td>22.0</td>\n",
              "      <td>0</td>\n",
              "      <td>0</td>\n",
              "      <td>0</td>\n",
              "      <td>1</td>\n",
              "      <td>0</td>\n",
              "    </tr>\n",
              "    <tr>\n",
              "      <th>215</th>\n",
              "      <td>1</td>\n",
              "      <td>1</td>\n",
              "      <td>58.0</td>\n",
              "      <td>0</td>\n",
              "      <td>2</td>\n",
              "      <td>1</td>\n",
              "      <td>0</td>\n",
              "      <td>0</td>\n",
              "    </tr>\n",
              "  </tbody>\n",
              "</table>\n",
              "</div>"
            ],
            "text/plain": [
              "     pclass  sex   age  sibsp  parch  embarked_C  embarked_S  embarked_Q\n",
              "857       3    1  27.0      0      0           0           1           0\n",
              "720       3    1  24.0      0      0           0           0           1\n",
              "668       3    1  22.0      0      0           0           1           0\n",
              "215       1    1  58.0      0      2           1           0           0"
            ]
          },
          "metadata": {
            "tags": []
          },
          "execution_count": 16
        }
      ]
    },
    {
      "cell_type": "code",
      "metadata": {
        "id": "iM6EwEiMdAYj",
        "colab_type": "code",
        "colab": {}
      },
      "source": [
        "tf.reset_default_graph()"
      ],
      "execution_count": 59,
      "outputs": []
    },
    {
      "cell_type": "code",
      "metadata": {
        "id": "BIsovQ26uJ9z",
        "colab_type": "code",
        "colab": {}
      },
      "source": [
        "N_EPOCHS = 10000\n",
        "display_step = 100 \n",
        "\n",
        "# Step 1: init dataset"
      ],
      "execution_count": 60,
      "outputs": []
    },
    {
      "cell_type": "code",
      "metadata": {
        "id": "7OA0I6tLuOSt",
        "colab_type": "code",
        "colab": {}
      },
      "source": [
        "# Step 2: create placeholders for X and Y\n",
        "X = tf.placeholder(tf.float32,  [None, Xtrain.shape[1]], name='X')\n",
        "Y = tf.placeholder(tf.float32, [None, Ytrain.shape[1]], name='Y')"
      ],
      "execution_count": 61,
      "outputs": []
    },
    {
      "cell_type": "code",
      "metadata": {
        "id": "A0ikrNKDuUps",
        "colab_type": "code",
        "colab": {}
      },
      "source": [
        "# Step 3: create weight and bias, initialized to 0\n",
        "w = tf.get_variable('weights', initializer=tf.zeros([Xtrain.shape[1], Ytrain.shape[1]]))\n",
        "b = tf.get_variable('bias', initializer=tf.zeros([Ytrain.shape[1]]))"
      ],
      "execution_count": 62,
      "outputs": []
    },
    {
      "cell_type": "code",
      "metadata": {
        "id": "XeF3jhyWuXV-",
        "colab_type": "code",
        "colab": {}
      },
      "source": [
        "# Step 4: build model to predict Y\n",
        "logits = tf.matmul(X, w) + b"
      ],
      "execution_count": 63,
      "outputs": []
    },
    {
      "cell_type": "code",
      "metadata": {
        "id": "6otKG99vuakc",
        "colab_type": "code",
        "colab": {}
      },
      "source": [
        "# Step 5: use cross_entropy as the loss function\n",
        "loss = tf.reduce_mean(tf.nn.softmax_cross_entropy_with_logits_v2(logits, Y), name='loss')"
      ],
      "execution_count": 64,
      "outputs": []
    },
    {
      "cell_type": "code",
      "metadata": {
        "id": "BjIrRXw7umuD",
        "colab_type": "code",
        "colab": {}
      },
      "source": [
        "# Step 6: using gradient descent with learning rate of 0.001 to minimize loss\n",
        "optimizer = tf.train.AdamOptimizer(learning_rate=0.001).minimize(loss)"
      ],
      "execution_count": 65,
      "outputs": []
    },
    {
      "cell_type": "code",
      "metadata": {
        "id": "gfgoCvE_Jy5Z",
        "colab_type": "code",
        "colab": {}
      },
      "source": [
        "# Step 7: calculate accuracy with test set\n",
        "preds = tf.nn.softmax(logits)\n",
        "correct_preds = tf.equal(tf.argmax(preds, 1), tf.argmax(Y, 1))\n",
        "accuracy = tf.reduce_mean(tf.cast(correct_preds, tf.float32))"
      ],
      "execution_count": 66,
      "outputs": []
    },
    {
      "cell_type": "code",
      "metadata": {
        "id": "Ly52WWESuqy3",
        "colab_type": "code",
        "colab": {
          "base_uri": "https://localhost:8080/",
          "height": 1000
        },
        "outputId": "fd0b1c8f-7050-4326-8fd5-305b9ef7ad37"
      },
      "source": [
        "with tf.Session() as sess:\n",
        "  # Step 7: initialize the necessary variables, in this case, w and b\n",
        "  sess.run(tf.global_variables_initializer()) \n",
        "\n",
        "  # print(\"веса:{}\".format(sess.run(w))) \n",
        "  # print(\"y_:{}\".format(sess.run(correct_prediction, feed_dict={X: Xtest, Y: Ytest}))) \n",
        "  # print(\"Точность: %s\" % sess.run(accuracy, feed_dict={X: Xtest, Y: Ytest})) \n",
        "  # print(\"Точность: %s\" % sess.run(accuracy, feed_dict={X: Xtrain, Y: Ytrain})) \n",
        "\n",
        "  # Step 8: train the model\n",
        "  for i in range(N_EPOCHS): \n",
        "    Xbatch = Xtrain.sample(100)\n",
        "    Ybatch = Ytrain[Ytrain.index.isin(Xbatch.index)]\n",
        "    # Session execute optimizer and fetch values of loss\n",
        "    _, l, a_val = sess.run([optimizer, loss, accuracy], feed_dict={X: Xbatch, Y:Ybatch}) \n",
        "    if (i+1) % display_step == 0: \n",
        "      print(f'Эпоха {i+1}:  {l} {a_val}')\n",
        "      \n",
        "  # # print(\"веса:{}\".format(sess.run(w))) \n",
        "  # print(\"y_:{}\".format(sess.run(correct_prediction, feed_dict={X: Xtest, Y: Ytest}))) \n",
        "  print(\"Точность: %s\" % sess.run(accuracy, feed_dict={X: Xtest, Y: Ytest})) \n",
        "  print(\"Точность: %s\" % sess.run(accuracy, feed_dict={X: Xtrain, Y: Ytrain})) \n",
        "\n"
      ],
      "execution_count": 71,
      "outputs": [
        {
          "output_type": "stream",
          "text": [
            "Эпоха 100:  -5.564963340759277 0.5600000023841858\n",
            "Эпоха 200:  -11.605781555175781 0.550000011920929\n",
            "Эпоха 300:  -18.451749801635742 0.6100000143051147\n",
            "Эпоха 400:  -23.35013198852539 0.5799999833106995\n",
            "Эпоха 500:  -28.13202476501465 0.5699999928474426\n",
            "Эпоха 600:  -36.17837905883789 0.5799999833106995\n",
            "Эпоха 700:  -40.490867614746094 0.6000000238418579\n",
            "Эпоха 800:  -45.38417053222656 0.5699999928474426\n",
            "Эпоха 900:  -49.966041564941406 0.5899999737739563\n",
            "Эпоха 1000:  -54.094573974609375 0.6399999856948853\n",
            "Эпоха 1100:  -66.46183776855469 0.5799999833106995\n",
            "Эпоха 1200:  -70.34831237792969 0.5699999928474426\n",
            "Эпоха 1300:  -75.07780456542969 0.5699999928474426\n",
            "Эпоха 1400:  -83.80850219726562 0.6100000143051147\n",
            "Эпоха 1500:  -86.00579071044922 0.6399999856948853\n",
            "Эпоха 1600:  -97.61573028564453 0.6200000047683716\n",
            "Эпоха 1700:  -98.70995330810547 0.5600000023841858\n",
            "Эпоха 1800:  -104.19453430175781 0.5799999833106995\n",
            "Эпоха 1900:  -105.0035171508789 0.5899999737739563\n",
            "Эпоха 2000:  -115.6541976928711 0.5699999928474426\n",
            "Эпоха 2100:  -119.54723358154297 0.6200000047683716\n",
            "Эпоха 2200:  -120.18192291259766 0.6299999952316284\n",
            "Эпоха 2300:  -131.3743133544922 0.6000000238418579\n",
            "Эпоха 2400:  -144.3716278076172 0.6000000238418579\n",
            "Эпоха 2500:  -148.82904052734375 0.6000000238418579\n",
            "Эпоха 2600:  -154.86331176757812 0.6000000238418579\n",
            "Эпоха 2700:  -161.0181427001953 0.6600000262260437\n",
            "Эпоха 2800:  -153.15528869628906 0.6200000047683716\n",
            "Эпоха 2900:  -165.80894470214844 0.6100000143051147\n",
            "Эпоха 3000:  -170.2176513671875 0.6100000143051147\n",
            "Эпоха 3100:  -177.78305053710938 0.5699999928474426\n",
            "Эпоха 3200:  -190.15420532226562 0.5899999737739563\n",
            "Эпоха 3300:  -185.97714233398438 0.5899999737739563\n",
            "Эпоха 3400:  -184.2421875 0.5\n",
            "Эпоха 3500:  -201.00242614746094 0.6200000047683716\n",
            "Эпоха 3600:  -209.61895751953125 0.5199999809265137\n",
            "Эпоха 3700:  -231.23178100585938 0.5899999737739563\n",
            "Эпоха 3800:  -219.34535217285156 0.5799999833106995\n",
            "Эпоха 3900:  -239.42926025390625 0.5699999928474426\n",
            "Эпоха 4000:  -232.7142791748047 0.6000000238418579\n",
            "Эпоха 4100:  -247.99380493164062 0.5699999928474426\n",
            "Эпоха 4200:  -239.18101501464844 0.5799999833106995\n",
            "Эпоха 4300:  -263.583740234375 0.6499999761581421\n",
            "Эпоха 4400:  -252.5987548828125 0.6200000047683716\n",
            "Эпоха 4500:  -259.9312438964844 0.6100000143051147\n",
            "Эпоха 4600:  -280.04058837890625 0.5699999928474426\n",
            "Эпоха 4700:  -263.0604553222656 0.5699999928474426\n",
            "Эпоха 4800:  -286.6454772949219 0.6399999856948853\n",
            "Эпоха 4900:  -292.0478820800781 0.6299999952316284\n",
            "Эпоха 5000:  -301.91168212890625 0.6100000143051147\n",
            "Эпоха 5100:  -285.80126953125 0.49000000953674316\n",
            "Эпоха 5200:  -325.2582702636719 0.6000000238418579\n",
            "Эпоха 5300:  -323.2012023925781 0.6000000238418579\n",
            "Эпоха 5400:  -334.651611328125 0.6200000047683716\n",
            "Эпоха 5500:  -323.0805358886719 0.6700000166893005\n",
            "Эпоха 5600:  -335.7984313964844 0.5899999737739563\n",
            "Эпоха 5700:  -340.14227294921875 0.5\n",
            "Эпоха 5800:  -327.93707275390625 0.5299999713897705\n",
            "Эпоха 5900:  -348.5027770996094 0.49000000953674316\n",
            "Эпоха 6000:  -336.8832702636719 0.6200000047683716\n",
            "Эпоха 6100:  -343.81781005859375 0.6299999952316284\n",
            "Эпоха 6200:  -360.1601257324219 0.550000011920929\n",
            "Эпоха 6300:  -356.0830078125 0.6100000143051147\n",
            "Эпоха 6400:  -382.39996337890625 0.5400000214576721\n",
            "Эпоха 6500:  -365.92230224609375 0.5799999833106995\n",
            "Эпоха 6600:  -398.802978515625 0.6800000071525574\n",
            "Эпоха 6700:  -375.34844970703125 0.6200000047683716\n",
            "Эпоха 6800:  -413.1304016113281 0.5600000023841858\n",
            "Эпоха 6900:  -411.1235656738281 0.6200000047683716\n",
            "Эпоха 7000:  -401.6397399902344 0.5\n",
            "Эпоха 7100:  -406.263671875 0.6399999856948853\n",
            "Эпоха 7200:  -432.0439758300781 0.6100000143051147\n",
            "Эпоха 7300:  -388.60504150390625 0.5600000023841858\n",
            "Эпоха 7400:  -443.69171142578125 0.6000000238418579\n",
            "Эпоха 7500:  -462.6973571777344 0.5799999833106995\n",
            "Эпоха 7600:  -432.9255065917969 0.6100000143051147\n",
            "Эпоха 7700:  -437.1947937011719 0.6200000047683716\n",
            "Эпоха 7800:  -440.9784240722656 0.6299999952316284\n",
            "Эпоха 7900:  -444.81134033203125 0.5899999737739563\n",
            "Эпоха 8000:  -484.2149353027344 0.5199999809265137\n",
            "Эпоха 8100:  -469.9273681640625 0.5400000214576721\n",
            "Эпоха 8200:  -485.9002990722656 0.6299999952316284\n",
            "Эпоха 8300:  -490.8866271972656 0.6000000238418579\n",
            "Эпоха 8400:  -464.1650390625 0.5799999833106995\n",
            "Эпоха 8500:  -483.4683837890625 0.6000000238418579\n",
            "Эпоха 8600:  -525.1314697265625 0.6700000166893005\n",
            "Эпоха 8700:  -480.95233154296875 0.5099999904632568\n",
            "Эпоха 8800:  -522.3943481445312 0.6399999856948853\n",
            "Эпоха 8900:  -499.03936767578125 0.5299999713897705\n",
            "Эпоха 9000:  -502.8784484863281 0.5899999737739563\n",
            "Эпоха 9100:  -514.8995361328125 0.5899999737739563\n",
            "Эпоха 9200:  -528.8869018554688 0.5699999928474426\n",
            "Эпоха 9300:  -541.3895874023438 0.550000011920929\n",
            "Эпоха 9400:  -537.57275390625 0.5299999713897705\n",
            "Эпоха 9500:  -550.8575439453125 0.550000011920929\n",
            "Эпоха 9600:  -567.06787109375 0.5899999737739563\n",
            "Эпоха 9700:  -527.6109008789062 0.6100000143051147\n",
            "Эпоха 9800:  -565.6708374023438 0.5199999809265137\n",
            "Эпоха 9900:  -507.9779052734375 0.5400000214576721\n",
            "Эпоха 10000:  -560.6709594726562 0.5199999809265137\n",
            "Точность: 0.59923667\n",
            "Точность: 0.58928573\n"
          ],
          "name": "stdout"
        }
      ]
    },
    {
      "cell_type": "code",
      "metadata": {
        "id": "jq9A6QBbMoyH",
        "colab_type": "code",
        "colab": {
          "base_uri": "https://localhost:8080/",
          "height": 265
        },
        "outputId": "ea33af62-7789-41e0-dd77-fcc8adc8d44a"
      },
      "source": [
        "import matplotlib.pyplot as plt\n",
        "\n",
        "from sklearn import datasets\n",
        "from sklearn.decomposition import PCA, TruncatedSVD\n",
        "from sklearn.discriminant_analysis import LinearDiscriminantAnalysis\n",
        "\n",
        "def plot_titanic(x, y, target):\n",
        "  pca = TruncatedSVD(n_components=2)\n",
        "  X_r = pca.fit(x).transform(x)\n",
        "  a = pd.DataFrame(X_r, index = x.index)\n",
        "  a_1 = a[a.index.isin(y[y[f'{target}_{1}'] == 1].index)]\n",
        "  a_0 = a[a.index.isin(y[y[f'{target}_{0}'] == 1].index)]\n",
        "\n",
        "  plt.scatter(a_0[0], a_0[1], color='red')\n",
        "  plt.scatter(a_1[0], a_1[1], color='blue')\n",
        "plot_titanic(Xtrain, Ytrain, 'survived')"
      ],
      "execution_count": 68,
      "outputs": [
        {
          "output_type": "display_data",
          "data": {
            "image/png": "[encoded data removed]",
            "text/plain": [
              "<Figure size 432x288 with 1 Axes>"
            ]
          },
          "metadata": {
            "tags": [],
            "needs_background": "light"
          }
        }
      ]
    },
    {
      "cell_type": "code",
      "metadata": {
        "id": "sEEWpzxHVT00",
        "colab_type": "code",
        "colab": {
          "base_uri": "https://localhost:8080/",
          "height": 265
        },
        "outputId": "dc12c3ec-cae0-4eb5-bf97-b52255bbbafe"
      },
      "source": [
        "plot_titanic(Xtest, Ytest, 'survived')"
      ],
      "execution_count": 69,
      "outputs": [
        {
          "output_type": "display_data",
          "data": {
            "image/png": "[encoded data removed]",
            "text/plain": [
              "<Figure size 432x288 with 1 Axes>"
            ]
          },
          "metadata": {
            "tags": [],
            "needs_background": "light"
          }
        }
      ]
    },
    {
      "cell_type": "code",
      "metadata": {
        "id": "s39xp_hDabpE",
        "colab_type": "code",
        "colab": {}
      },
      "source": [
        ""
      ],
      "execution_count": 69,
      "outputs": []
    }
  ]
}