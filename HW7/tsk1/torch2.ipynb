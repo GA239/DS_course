{
  "nbformat": 4,
  "nbformat_minor": 0,
  "metadata": {
    "colab": {
      "name": "Untitled0.ipynb",
      "provenance": [],
      "collapsed_sections": [],
      "mount_file_id": "1JAdpfjFIXCCHqhg2bm5N2bZKIosbqNV7",
      "authorship_tag": "ABX9TyN5zYqpEgJNwFhz4f37UBcD",
      "include_colab_link": true
    },
    "kernelspec": {
      "name": "python3",
      "display_name": "Python 3"
    },
    "accelerator": "GPU"
  },
  "cells": [
    {
      "cell_type": "markdown",
      "metadata": {
        "id": "view-in-github",
        "colab_type": "text"
      },
      "source": [
        "<a href=\"https://colab.research.google.com/github/GA239/DS_course/blob/master/HW7/tsk1/torch2.ipynb\" target=\"_parent\"><img src=\"https://colab.research.google.com/assets/colab-badge.svg\" alt=\"Open In Colab\"/></a>"
      ]
    },
    {
      "cell_type": "code",
      "metadata": {
        "id": "MTTOxUinNwtj",
        "colab_type": "code",
        "colab": {}
      },
      "source": [
        "import torch\n",
        "import torch.nn as nn\n",
        "from torch.autograd import Variable\n",
        "import torch.optim as optim\n",
        "import os\n",
        "import pandas as pd\n",
        "import numpy as np\n",
        "import seaborn as sns\n",
        "import torch.nn.functional as F"
      ],
      "execution_count": 51,
      "outputs": []
    },
    {
      "cell_type": "code",
      "metadata": {
        "id": "noMzGKIiVkE9",
        "colab_type": "code",
        "colab": {}
      },
      "source": [
        "import matplotlib.pylab as plt\n",
        "import pandas as pd\n",
        "import numpy as np\n",
        "import time\n",
        "from IPython import display\n",
        "%matplotlib inline\n"
      ],
      "execution_count": 52,
      "outputs": []
    },
    {
      "cell_type": "code",
      "metadata": {
        "id": "ymL8O72Ec1BQ",
        "colab_type": "code",
        "colab": {
          "base_uri": "https://localhost:8080/",
          "height": 35
        },
        "outputId": "61712bea-48e3-4dca-ee39-8d56f39238b1"
      },
      "source": [
        "torch.cuda.device_count()"
      ],
      "execution_count": 53,
      "outputs": [
        {
          "output_type": "execute_result",
          "data": {
            "text/plain": [
              "1"
            ]
          },
          "metadata": {
            "tags": []
          },
          "execution_count": 53
        }
      ]
    },
    {
      "cell_type": "code",
      "metadata": {
        "id": "YK0CVGXFc5lI",
        "colab_type": "code",
        "colab": {
          "base_uri": "https://localhost:8080/",
          "height": 35
        },
        "outputId": "d9d05fdd-b36e-4a87-f502-f7cb6abbf707"
      },
      "source": [
        "torch.cuda.get_device_name(0)"
      ],
      "execution_count": 54,
      "outputs": [
        {
          "output_type": "execute_result",
          "data": {
            "application/vnd.google.colaboratory.intrinsic": {
              "type": "string"
            },
            "text/plain": [
              "'Tesla T4'"
            ]
          },
          "metadata": {
            "tags": []
          },
          "execution_count": 54
        }
      ]
    },
    {
      "cell_type": "code",
      "metadata": {
        "id": "PwNLlbltdMTm",
        "colab_type": "code",
        "colab": {}
      },
      "source": [
        "device = torch.device(\"cuda:0\" if torch.cuda.is_available() else \"cpu\")"
      ],
      "execution_count": 55,
      "outputs": []
    },
    {
      "cell_type": "code",
      "metadata": {
        "id": "xv_RD7BgAa6q",
        "colab_type": "code",
        "colab": {}
      },
      "source": [
        "DRIVE = '/content/drive/My Drive'"
      ],
      "execution_count": 56,
      "outputs": []
    },
    {
      "cell_type": "code",
      "metadata": {
        "id": "JbgR0RnUAWZ-",
        "colab_type": "code",
        "colab": {}
      },
      "source": [
        "Xtrain = pd.read_csv(os.path.join(DRIVE, 'X_train.csv'), index_col=0).astype(np.float32)\n",
        "Xtest = pd.read_csv(os.path.join(DRIVE, 'X_test.csv'), index_col=0).astype(np.float32)\n",
        "Ytrain = pd.read_csv(os.path.join(DRIVE, 'Y_train.csv'), index_col=0).astype(np.float32)\n",
        "Ytest = pd.read_csv(os.path.join(DRIVE, 'Y_test.csv'), index_col=0).astype(np.float32)"
      ],
      "execution_count": 57,
      "outputs": []
    },
    {
      "cell_type": "code",
      "metadata": {
        "id": "DWgG_OXCA03u",
        "colab_type": "code",
        "colab": {
          "base_uri": "https://localhost:8080/",
          "height": 35
        },
        "outputId": "cad9642f-b59a-406c-b890-e9f79fcfab1b"
      },
      "source": [
        "Xtrain.shape, Xtest.shape, Ytrain.shape, Ytest.shape "
      ],
      "execution_count": 58,
      "outputs": [
        {
          "output_type": "execute_result",
          "data": {
            "text/plain": [
              "((2967, 378), (742, 378), (2967, 3), (742, 3))"
            ]
          },
          "metadata": {
            "tags": []
          },
          "execution_count": 58
        }
      ]
    },
    {
      "cell_type": "code",
      "metadata": {
        "id": "qElYbP18SB1B",
        "colab_type": "code",
        "colab": {}
      },
      "source": [
        "Ytrain[\"target\"] = Ytrain['Class_compensated_hypothyroid'] * 0 + Ytrain['Class_negative'] * 1 + Ytrain['Class_primary_hypothyroid'] * 2\n",
        "Ytest[\"target\"] = Ytest['Class_compensated_hypothyroid'] * 0 + Ytest['Class_negative'] * 1 + Ytest['Class_primary_hypothyroid'] * 2\n",
        "\n",
        "Ytrain = Ytrain.drop(columns=['Class_compensated_hypothyroid', 'Class_negative', 'Class_primary_hypothyroid']).astype(np.int)\n",
        "Ytest = Ytest.drop(columns=['Class_compensated_hypothyroid', 'Class_negative', 'Class_primary_hypothyroid']).astype(np.int)"
      ],
      "execution_count": 59,
      "outputs": []
    },
    {
      "cell_type": "code",
      "metadata": {
        "id": "Eu01olmDShUD",
        "colab_type": "code",
        "colab": {
          "base_uri": "https://localhost:8080/",
          "height": 35
        },
        "outputId": "1156471c-eb3b-4495-c71f-e6df3d7ee724"
      },
      "source": [
        "Xtrain.shape, Xtest.shape, Ytrain.shape, Ytest.shape "
      ],
      "execution_count": 60,
      "outputs": [
        {
          "output_type": "execute_result",
          "data": {
            "text/plain": [
              "((2967, 378), (742, 378), (2967, 1), (742, 1))"
            ]
          },
          "metadata": {
            "tags": []
          },
          "execution_count": 60
        }
      ]
    },
    {
      "cell_type": "code",
      "metadata": {
        "id": "SHxF7CvFN9T9",
        "colab_type": "code",
        "colab": {}
      },
      "source": [
        "class Net(nn.Module):\n",
        "    \n",
        "    def __init__(self):\n",
        "        super().__init__()\n",
        "        self.fc = nn.Linear(378, 3)\n",
        "        self.out_act = nn.Sigmoid()\n",
        "        \n",
        "    def forward(self, input_):\n",
        "        return self.out_act(self.fc(input_))\n",
        "    \n",
        "net = Net().to(device)\n",
        "opt = optim.Adam(net.parameters(), lr=0.001, betas=(0.9, 0.999))\n",
        "criterion = nn.CrossEntropyLoss()"
      ],
      "execution_count": 61,
      "outputs": []
    },
    {
      "cell_type": "code",
      "metadata": {
        "id": "EDY-l4KCOgCg",
        "colab_type": "code",
        "colab": {}
      },
      "source": [
        "def train_epoch(model, opt, criterion, num_steps=50):\n",
        "    model.train()\n",
        "    for _ in range(num_steps):\n",
        "        xbatch = Xtrain.sample(400)\n",
        "        ybatch = Ytrain.loc[xbatch.index]\n",
        "        x_batch = Variable(torch.tensor(xbatch.values)).to(device)\n",
        "        y_batch = Variable(torch.tensor(ybatch.target.values)).to(device)\n",
        "\n",
        "        opt.zero_grad()\n",
        "        # (1) Forward\n",
        "        y_hat = net(x_batch)\n",
        "        y_hat_valid = net(Variable(torch.tensor(Xtest.values)).to(device))\n",
        "        # (2) Compute diff\n",
        "        loss = criterion(y_hat, y_batch)\n",
        "        loss_2 = criterion(y_hat_valid, Variable(torch.tensor(Ytest.target.values).to(device)))\n",
        "        # (3) Compute gradients\n",
        "        loss.backward()\n",
        "        # (4) update weights\n",
        "        opt.step()\n",
        "    return float(loss.data.cpu().numpy()), float(loss_2.data.cpu().numpy())"
      ],
      "execution_count": 62,
      "outputs": []
    },
    {
      "cell_type": "code",
      "metadata": {
        "id": "i1CrzhIfOqrj",
        "colab_type": "code",
        "colab": {
          "base_uri": "https://localhost:8080/",
          "height": 513
        },
        "outputId": "3431dafb-f389-4f2b-a821-963592c8968e"
      },
      "source": [
        "num_epochs = 200\n",
        "losses_train = []\n",
        "losses_test = []\n",
        "for i in range(num_epochs):\n",
        "  loss_train, loss_test = train_epoch(net, opt, criterion)\n",
        "  losses_train.append(loss_train)\n",
        "  losses_test.append(loss_test)\n",
        "  plt.clf()\n",
        "  plt.plot(losses_test, 'r-', lw=2, label='val')\n",
        "  plt.plot(losses_train, 'b-', lw=1, label='training')\n",
        "  plt.legend()\n",
        "  display.clear_output(wait=True)\n",
        "  display.display(plt.gcf())"
      ],
      "execution_count": 63,
      "outputs": [
        {
          "output_type": "display_data",
          "data": {
            "image/png": "[encoded data removed]",
            "text/plain": [
              "<Figure size 432x288 with 1 Axes>"
            ]
          },
          "metadata": {
            "tags": []
          }
        },
        {
          "output_type": "display_data",
          "data": {
            "image/png": "[encoded data removed]",
            "text/plain": [
              "<Figure size 432x288 with 1 Axes>"
            ]
          },
          "metadata": {
            "tags": [],
            "needs_background": "light"
          }
        }
      ]
    },
    {
      "cell_type": "code",
      "metadata": {
        "id": "80Zv2za2cASe",
        "colab_type": "code",
        "colab": {}
      },
      "source": [
        ""
      ],
      "execution_count": 64,
      "outputs": []
    },
    {
      "cell_type": "code",
      "metadata": {
        "id": "AthQ6TavcENo",
        "colab_type": "code",
        "colab": {}
      },
      "source": [
        ""
      ],
      "execution_count": 64,
      "outputs": []
    },
    {
      "cell_type": "code",
      "metadata": {
        "id": "QntBqtSVclKV",
        "colab_type": "code",
        "colab": {}
      },
      "source": [
        ""
      ],
      "execution_count": 64,
      "outputs": []
    }
  ]
}