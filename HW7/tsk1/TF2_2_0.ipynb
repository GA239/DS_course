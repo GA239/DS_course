{
  "nbformat": 4,
  "nbformat_minor": 0,
  "metadata": {
    "colab": {
      "name": "TF2.2.0.ipynb",
      "provenance": [],
      "mount_file_id": "1D43kUXdVDZhBUrTClIjbuogIkZqTXtvP",
      "authorship_tag": "ABX9TyMzJXqpnzFNaOaNPkzv3Q1A",
      "include_colab_link": true
    },
    "kernelspec": {
      "name": "python3",
      "display_name": "Python 3"
    },
    "accelerator": "GPU"
  },
  "cells": [
    {
      "cell_type": "markdown",
      "metadata": {
        "id": "view-in-github",
        "colab_type": "text"
      },
      "source": [
        "<a href=\"https://colab.research.google.com/github/GA239/DS_course/blob/master/HW7/tsk1/TF2_2_0.ipynb\" target=\"_parent\"><img src=\"https://colab.research.google.com/assets/colab-badge.svg\" alt=\"Open In Colab\"/></a>"
      ]
    },
    {
      "cell_type": "code",
      "metadata": {
        "id": "41kGuIVRFOAH",
        "colab_type": "code",
        "colab": {
          "base_uri": "https://localhost:8080/",
          "height": 748
        },
        "outputId": "929dc4c8-4346-44d6-b9a0-4ee2f2db369e"
      },
      "source": [
        "! pip install tensorflow-gpu"
      ],
      "execution_count": 1,
      "outputs": [
        {
          "output_type": "stream",
          "text": [
            "Collecting tensorflow-gpu\n",
            "\u001b[?25l  Downloading https://files.pythonhosted.org/packages/31/bf/c28971266ca854a64f4b26f07c4112ddd61f30b4d1f18108b954a746f8ea/tensorflow_gpu-2.2.0-cp36-cp36m-manylinux2010_x86_64.whl (516.2MB)\n",
            "\u001b[K     |████████████████████████████████| 516.2MB 33kB/s \n",
            "\u001b[?25hRequirement already satisfied: wrapt>=1.11.1 in /usr/local/lib/python3.6/dist-packages (from tensorflow-gpu) (1.12.1)\n",
            "Requirement already satisfied: google-pasta>=0.1.8 in /usr/local/lib/python3.6/dist-packages (from tensorflow-gpu) (0.2.0)\n",
            "Requirement already satisfied: tensorboard<2.3.0,>=2.2.0 in /usr/local/lib/python3.6/dist-packages (from tensorflow-gpu) (2.2.2)\n",
            "Requirement already satisfied: tensorflow-estimator<2.3.0,>=2.2.0 in /usr/local/lib/python3.6/dist-packages (from tensorflow-gpu) (2.2.0)\n",
            "Requirement already satisfied: opt-einsum>=2.3.2 in /usr/local/lib/python3.6/dist-packages (from tensorflow-gpu) (3.2.1)\n",
            "Requirement already satisfied: h5py<2.11.0,>=2.10.0 in /usr/local/lib/python3.6/dist-packages (from tensorflow-gpu) (2.10.0)\n",
            "Requirement already satisfied: numpy<2.0,>=1.16.0 in /usr/local/lib/python3.6/dist-packages (from tensorflow-gpu) (1.18.5)\n",
            "Requirement already satisfied: six>=1.12.0 in /usr/local/lib/python3.6/dist-packages (from tensorflow-gpu) (1.12.0)\n",
            "Requirement already satisfied: absl-py>=0.7.0 in /usr/local/lib/python3.6/dist-packages (from tensorflow-gpu) (0.9.0)\n",
            "Requirement already satisfied: protobuf>=3.8.0 in /usr/local/lib/python3.6/dist-packages (from tensorflow-gpu) (3.10.0)\n",
            "Requirement already satisfied: wheel>=0.26; python_version >= \"3\" in /usr/local/lib/python3.6/dist-packages (from tensorflow-gpu) (0.34.2)\n",
            "Requirement already satisfied: scipy==1.4.1; python_version >= \"3\" in /usr/local/lib/python3.6/dist-packages (from tensorflow-gpu) (1.4.1)\n",
            "Requirement already satisfied: astunparse==1.6.3 in /usr/local/lib/python3.6/dist-packages (from tensorflow-gpu) (1.6.3)\n",
            "Requirement already satisfied: gast==0.3.3 in /usr/local/lib/python3.6/dist-packages (from tensorflow-gpu) (0.3.3)\n",
            "Requirement already satisfied: keras-preprocessing>=1.1.0 in /usr/local/lib/python3.6/dist-packages (from tensorflow-gpu) (1.1.2)\n",
            "Requirement already satisfied: termcolor>=1.1.0 in /usr/local/lib/python3.6/dist-packages (from tensorflow-gpu) (1.1.0)\n",
            "Requirement already satisfied: grpcio>=1.8.6 in /usr/local/lib/python3.6/dist-packages (from tensorflow-gpu) (1.30.0)\n",
            "Requirement already satisfied: setuptools>=41.0.0 in /usr/local/lib/python3.6/dist-packages (from tensorboard<2.3.0,>=2.2.0->tensorflow-gpu) (49.1.0)\n",
            "Requirement already satisfied: werkzeug>=0.11.15 in /usr/local/lib/python3.6/dist-packages (from tensorboard<2.3.0,>=2.2.0->tensorflow-gpu) (1.0.1)\n",
            "Requirement already satisfied: tensorboard-plugin-wit>=1.6.0 in /usr/local/lib/python3.6/dist-packages (from tensorboard<2.3.0,>=2.2.0->tensorflow-gpu) (1.7.0)\n",
            "Requirement already satisfied: markdown>=2.6.8 in /usr/local/lib/python3.6/dist-packages (from tensorboard<2.3.0,>=2.2.0->tensorflow-gpu) (3.2.2)\n",
            "Requirement already satisfied: google-auth-oauthlib<0.5,>=0.4.1 in /usr/local/lib/python3.6/dist-packages (from tensorboard<2.3.0,>=2.2.0->tensorflow-gpu) (0.4.1)\n",
            "Requirement already satisfied: google-auth<2,>=1.6.3 in /usr/local/lib/python3.6/dist-packages (from tensorboard<2.3.0,>=2.2.0->tensorflow-gpu) (1.17.2)\n",
            "Requirement already satisfied: requests<3,>=2.21.0 in /usr/local/lib/python3.6/dist-packages (from tensorboard<2.3.0,>=2.2.0->tensorflow-gpu) (2.23.0)\n",
            "Requirement already satisfied: importlib-metadata; python_version < \"3.8\" in /usr/local/lib/python3.6/dist-packages (from markdown>=2.6.8->tensorboard<2.3.0,>=2.2.0->tensorflow-gpu) (1.7.0)\n",
            "Requirement already satisfied: requests-oauthlib>=0.7.0 in /usr/local/lib/python3.6/dist-packages (from google-auth-oauthlib<0.5,>=0.4.1->tensorboard<2.3.0,>=2.2.0->tensorflow-gpu) (1.3.0)\n",
            "Requirement already satisfied: cachetools<5.0,>=2.0.0 in /usr/local/lib/python3.6/dist-packages (from google-auth<2,>=1.6.3->tensorboard<2.3.0,>=2.2.0->tensorflow-gpu) (4.1.1)\n",
            "Requirement already satisfied: rsa<5,>=3.1.4; python_version >= \"3\" in /usr/local/lib/python3.6/dist-packages (from google-auth<2,>=1.6.3->tensorboard<2.3.0,>=2.2.0->tensorflow-gpu) (4.6)\n",
            "Requirement already satisfied: pyasn1-modules>=0.2.1 in /usr/local/lib/python3.6/dist-packages (from google-auth<2,>=1.6.3->tensorboard<2.3.0,>=2.2.0->tensorflow-gpu) (0.2.8)\n",
            "Requirement already satisfied: certifi>=2017.4.17 in /usr/local/lib/python3.6/dist-packages (from requests<3,>=2.21.0->tensorboard<2.3.0,>=2.2.0->tensorflow-gpu) (2020.6.20)\n",
            "Requirement already satisfied: idna<3,>=2.5 in /usr/local/lib/python3.6/dist-packages (from requests<3,>=2.21.0->tensorboard<2.3.0,>=2.2.0->tensorflow-gpu) (2.10)\n",
            "Requirement already satisfied: urllib3!=1.25.0,!=1.25.1,<1.26,>=1.21.1 in /usr/local/lib/python3.6/dist-packages (from requests<3,>=2.21.0->tensorboard<2.3.0,>=2.2.0->tensorflow-gpu) (1.24.3)\n",
            "Requirement already satisfied: chardet<4,>=3.0.2 in /usr/local/lib/python3.6/dist-packages (from requests<3,>=2.21.0->tensorboard<2.3.0,>=2.2.0->tensorflow-gpu) (3.0.4)\n",
            "Requirement already satisfied: zipp>=0.5 in /usr/local/lib/python3.6/dist-packages (from importlib-metadata; python_version < \"3.8\"->markdown>=2.6.8->tensorboard<2.3.0,>=2.2.0->tensorflow-gpu) (3.1.0)\n",
            "Requirement already satisfied: oauthlib>=3.0.0 in /usr/local/lib/python3.6/dist-packages (from requests-oauthlib>=0.7.0->google-auth-oauthlib<0.5,>=0.4.1->tensorboard<2.3.0,>=2.2.0->tensorflow-gpu) (3.1.0)\n",
            "Requirement already satisfied: pyasn1>=0.1.3 in /usr/local/lib/python3.6/dist-packages (from rsa<5,>=3.1.4; python_version >= \"3\"->google-auth<2,>=1.6.3->tensorboard<2.3.0,>=2.2.0->tensorflow-gpu) (0.4.8)\n",
            "Installing collected packages: tensorflow-gpu\n",
            "Successfully installed tensorflow-gpu-2.2.0\n"
          ],
          "name": "stdout"
        }
      ]
    },
    {
      "cell_type": "code",
      "metadata": {
        "id": "mkO97bW3Ag-u",
        "colab_type": "code",
        "colab": {}
      },
      "source": [
        "import os\n",
        "import pandas as pd\n",
        "import numpy as np\n",
        "import tensorflow as tf"
      ],
      "execution_count": 2,
      "outputs": []
    },
    {
      "cell_type": "code",
      "metadata": {
        "id": "xv_RD7BgAa6q",
        "colab_type": "code",
        "colab": {}
      },
      "source": [
        "DRIVE = '/content/drive/My Drive'"
      ],
      "execution_count": 3,
      "outputs": []
    },
    {
      "cell_type": "code",
      "metadata": {
        "id": "JbgR0RnUAWZ-",
        "colab_type": "code",
        "colab": {}
      },
      "source": [
        "Xtrain = pd.read_csv(os.path.join(DRIVE, 'X_train.csv'), index_col=0).astype(np.float32)\n",
        "Xtest = pd.read_csv(os.path.join(DRIVE, 'X_test.csv'), index_col=0).astype(np.float32)\n",
        "Ytrain = pd.read_csv(os.path.join(DRIVE, 'Y_train.csv'), index_col=0).astype(np.float32)\n",
        "Ytest = pd.read_csv(os.path.join(DRIVE, 'Y_test.csv'), index_col=0).astype(np.float32)"
      ],
      "execution_count": 7,
      "outputs": []
    },
    {
      "cell_type": "code",
      "metadata": {
        "id": "DWgG_OXCA03u",
        "colab_type": "code",
        "colab": {
          "base_uri": "https://localhost:8080/",
          "height": 35
        },
        "outputId": "961fcb46-55d3-4a84-f55d-f6b05ef104b8"
      },
      "source": [
        "Xtrain.shape, Xtest.shape, Ytrain.shape, Ytest.shape "
      ],
      "execution_count": 8,
      "outputs": [
        {
          "output_type": "execute_result",
          "data": {
            "text/plain": [
              "((2967, 378), (742, 378), (2967, 3), (742, 3))"
            ]
          },
          "metadata": {
            "tags": []
          },
          "execution_count": 8
        }
      ]
    },
    {
      "cell_type": "code",
      "metadata": {
        "id": "3cAjDn6aBGns",
        "colab_type": "code",
        "colab": {}
      },
      "source": [
        "w = tf.Variable(tf.ones(shape=(Xtrain.shape[1], Ytrain.shape[1])), name=\"W\")\n",
        "b = tf.Variable(tf.zeros(shape=(Ytrain.shape[1])), name=\"b\")\n",
        "\n",
        "N_EPOCHS = 10000\n",
        "display_step = 1000 \n",
        "optimizer = tf.optimizers.Adam()"
      ],
      "execution_count": 9,
      "outputs": []
    },
    {
      "cell_type": "code",
      "metadata": {
        "id": "cSXY79BMBXcT",
        "colab_type": "code",
        "colab": {}
      },
      "source": [
        "def predict(x):\n",
        "    return tf.linalg.matmul(x, w) + b \n",
        "\n",
        "@tf.function\n",
        "def lossf(y_, y):\n",
        "  return tf.math.reduce_mean(tf.nn.softmax_cross_entropy_with_logits(\n",
        "      labels=y, logits=y_))\n",
        "\n",
        "@tf.function\n",
        "def accf(y_, y):\n",
        "  preds = tf.nn.softmax(y_)\n",
        "  correct_preds = tf.equal(tf.argmax(preds, 1), tf.argmax(y, 1))\n",
        "  return tf.math.reduce_mean(tf.cast(correct_preds, tf.float32))\n",
        "\n",
        "def calculate(x, y):\n",
        "  y_ = predict(x)\n",
        "  loss = lossf(y_,y)\n",
        "  acc = accf(y_,y)\n",
        "  return loss, acc\n",
        "\n",
        "def forward(x, y):\n",
        "  with tf.GradientTape() as t:\n",
        "      loss, acc = calculate(x, y)\n",
        "      gradients = t.gradient(loss, [w, b])\n",
        "      optimizer.apply_gradients(zip(gradients, [w, b]))\n",
        "  return loss, acc"
      ],
      "execution_count": 10,
      "outputs": []
    },
    {
      "cell_type": "code",
      "metadata": {
        "id": "Q6YO__alE-Og",
        "colab_type": "code",
        "colab": {
          "base_uri": "https://localhost:8080/",
          "height": 416
        },
        "outputId": "6c81d1a1-5f7f-4822-c21d-9089dc58857e"
      },
      "source": [
        "print('\\n--- до обучения ---\\n')\n",
        "_, acc_train = calculate(np.array(Xtrain), np.array(Ytrain))\n",
        "print(f\"Точность TRAIN: {acc_train}\")\n",
        "_, acc_test = calculate(np.array(Xtest), np.array(Ytest))\n",
        "print(f\"Точность TEST: {acc_test}\")\n",
        "\n",
        "print('\\n--- обучение ---\\n')\n",
        "for i in range(N_EPOCHS): \n",
        "  Xbatch = Xtrain.sample(400)\n",
        "  Ybatch = Ytrain.loc[Xbatch.index]\n",
        "  lossv, accv = forward(np.array(Xbatch), np.array(Ybatch))\n",
        "  if (i+1) % display_step == 0: \n",
        "    print(f'Эпоха {i+1}:  loss = {lossv}  ----   acc = {accv}')\n",
        "\n",
        "\n",
        "print('\\n--- после обучения ---\\n')\n",
        "_, acc_train = calculate(np.array(Xtrain), np.array(Ytrain))\n",
        "print(f\"Точность TRAIN: {acc_train}\")\n",
        "_, acc_test = calculate(np.array(Xtest), np.array(Ytest))\n",
        "print(f\"Точность TEST: {acc_test}\")\n"
      ],
      "execution_count": 11,
      "outputs": [
        {
          "output_type": "stream",
          "text": [
            "\n",
            "--- до обучения ---\n",
            "\n",
            "Точность TRAIN: 0.0532524436712265\n",
            "Точность TEST: 0.04851752147078514\n",
            "\n",
            "--- обучение ---\n",
            "\n",
            "Эпоха 1000:  loss = 0.16117887198925018  ----   acc = 0.949999988079071\n",
            "Эпоха 2000:  loss = 0.10455837100744247  ----   acc = 0.9624999761581421\n",
            "Эпоха 3000:  loss = 0.05360693112015724  ----   acc = 0.9900000095367432\n",
            "Эпоха 4000:  loss = 0.06060012802481651  ----   acc = 0.9750000238418579\n",
            "Эпоха 5000:  loss = 0.04260117560625076  ----   acc = 0.9850000143051147\n",
            "Эпоха 6000:  loss = 0.02820231206715107  ----   acc = 0.9975000023841858\n",
            "Эпоха 7000:  loss = 0.037805210798978806  ----   acc = 0.987500011920929\n",
            "Эпоха 8000:  loss = 0.012891344726085663  ----   acc = 0.9975000023841858\n",
            "Эпоха 9000:  loss = 0.01763792894780636  ----   acc = 0.9975000023841858\n",
            "Эпоха 10000:  loss = 0.015855228528380394  ----   acc = 1.0\n",
            "\n",
            "--- после обучения ---\n",
            "\n",
            "Точность TRAIN: 0.9949443936347961\n",
            "Точность TEST: 0.9460916519165039\n"
          ],
          "name": "stdout"
        }
      ]
    },
    {
      "cell_type": "code",
      "metadata": {
        "id": "9NSwvdqyGhdO",
        "colab_type": "code",
        "colab": {}
      },
      "source": [
        ""
      ],
      "execution_count": null,
      "outputs": []
    }
  ]
}