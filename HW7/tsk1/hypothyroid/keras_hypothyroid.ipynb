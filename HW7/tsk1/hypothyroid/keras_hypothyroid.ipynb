{
  "nbformat": 4,
  "nbformat_minor": 0,
  "metadata": {
    "colab": {
      "name": "keras_hypothyroid.ipynb",
      "provenance": [],
      "mount_file_id": "1SXgOb_7kt_fKKnYqsx_fVEayy8hfo8KD",
      "authorship_tag": "ABX9TyNmLlo3NpluZlTo4YPFurWo",
      "include_colab_link": true
    },
    "kernelspec": {
      "name": "python3",
      "display_name": "Python 3"
    }
  },
  "cells": [
    {
      "cell_type": "markdown",
      "metadata": {
        "id": "view-in-github",
        "colab_type": "text"
      },
      "source": [
        "<a href=\"https://colab.research.google.com/github/GA239/DS_course/blob/master/HW7/tsk1/hypothyroid/keras_hypothyroid.ipynb\" target=\"_parent\"><img src=\"https://colab.research.google.com/assets/colab-badge.svg\" alt=\"Open In Colab\"/></a>"
      ]
    },
    {
      "cell_type": "code",
      "metadata": {
        "id": "t_076lUFE068",
        "colab_type": "code",
        "colab": {}
      },
      "source": [
        "import os\n",
        "import pandas as pd\n",
        "import numpy as np\n",
        "from keras.models import Sequential\n",
        "from keras.optimizers import Adam\n",
        "from keras.layers import Dense, Activation, Dropout\n",
        "import matplotlib.pylab as plt\n",
        "import tensorflow as tf"
      ],
      "execution_count": 1,
      "outputs": []
    },
    {
      "cell_type": "code",
      "metadata": {
        "id": "HjNTrChgFBfP",
        "colab_type": "code",
        "colab": {}
      },
      "source": [
        "DRIVE = '/content/drive/My Drive'"
      ],
      "execution_count": 2,
      "outputs": []
    },
    {
      "cell_type": "code",
      "metadata": {
        "id": "y6lUh3xoFEy4",
        "colab_type": "code",
        "colab": {
          "base_uri": "https://localhost:8080/",
          "height": 34
        },
        "outputId": "95efa8e2-d62f-4431-d264-b740127d5203"
      },
      "source": [
        "Xtrain = pd.read_csv(os.path.join(DRIVE, 'X_train.csv'), index_col=0).astype(np.float32)\n",
        "Xtest = pd.read_csv(os.path.join(DRIVE, 'X_test.csv'), index_col=0).astype(np.float32)\n",
        "Ytrain = pd.read_csv(os.path.join(DRIVE, 'Y_train.csv'), index_col=0).astype(np.float32)\n",
        "Ytest = pd.read_csv(os.path.join(DRIVE, 'Y_test.csv'), index_col=0).astype(np.float32)\n",
        "Xtrain.shape, Xtest.shape, Ytrain.shape, Ytest.shape"
      ],
      "execution_count": 3,
      "outputs": [
        {
          "output_type": "execute_result",
          "data": {
            "text/plain": [
              "((2967, 378), (742, 378), (2967, 3), (742, 3))"
            ]
          },
          "metadata": {
            "tags": []
          },
          "execution_count": 3
        }
      ]
    },
    {
      "cell_type": "code",
      "metadata": {
        "id": "ecrgzmpqFTUK",
        "colab_type": "code",
        "colab": {}
      },
      "source": [
        "# Ytrain[\"target\"] = Ytrain['Class_compensated_hypothyroid'] * 0 + Ytrain['Class_negative'] * 1 + Ytrain['Class_primary_hypothyroid'] * 2\n",
        "# Ytest[\"target\"] = Ytest['Class_compensated_hypothyroid'] * 0 + Ytest['Class_negative'] * 1 + Ytest['Class_primary_hypothyroid'] * 2\n",
        "\n",
        "# Ytrain = Ytrain.drop(columns=['Class_compensated_hypothyroid', 'Class_negative', 'Class_primary_hypothyroid']).astype(np.int)\n",
        "# Ytest = Ytest.drop(columns=['Class_compensated_hypothyroid', 'Class_negative', 'Class_primary_hypothyroid']).astype(np.int)"
      ],
      "execution_count": 4,
      "outputs": []
    },
    {
      "cell_type": "code",
      "metadata": {
        "id": "RqY0vKn0FixL",
        "colab_type": "code",
        "colab": {
          "base_uri": "https://localhost:8080/",
          "height": 34
        },
        "outputId": "9f73cf19-01d6-4d26-d158-c3295f433c75"
      },
      "source": [
        "Xtrain.shape, Xtest.shape, Ytrain.shape, Ytest.shape"
      ],
      "execution_count": 5,
      "outputs": [
        {
          "output_type": "execute_result",
          "data": {
            "text/plain": [
              "((2967, 378), (742, 378), (2967, 3), (742, 3))"
            ]
          },
          "metadata": {
            "tags": []
          },
          "execution_count": 5
        }
      ]
    },
    {
      "cell_type": "code",
      "metadata": {
        "id": "e-R6FnlxLpnq",
        "colab_type": "code",
        "colab": {}
      },
      "source": [
        "from tensorflow.keras import regularizers"
      ],
      "execution_count": 6,
      "outputs": []
    },
    {
      "cell_type": "code",
      "metadata": {
        "id": "kooZa-vpFkwI",
        "colab_type": "code",
        "colab": {}
      },
      "source": [
        "model = Sequential()\n",
        "model.add(Dense(128, input_dim=Xtrain.shape[1], \n",
        "                kernel_initializer='ones', bias_initializer='zeros', \n",
        "                kernel_regularizer=regularizers.l1_l2(l1=1e-5, l2=1e-4)))\n",
        "model.add(Activation('sigmoid'))\n",
        "model.add(Dropout(0.2))\n",
        "model.add(Dense(units=Ytrain.shape[1]))\n",
        "model.add(Activation('softmax'))\n",
        "\n",
        "model.compile(loss=\"categorical_crossentropy\", optimizer='adam', metrics=['accuracy'])"
      ],
      "execution_count": 7,
      "outputs": []
    },
    {
      "cell_type": "code",
      "metadata": {
        "id": "tMRWSTk6GLZp",
        "colab_type": "code",
        "colab": {}
      },
      "source": [
        "a = model.fit(Xtrain.values, Ytrain.values, epochs=150, verbose=0, validation_data=(Xtest.values, Ytest.values))"
      ],
      "execution_count": 8,
      "outputs": []
    },
    {
      "cell_type": "code",
      "metadata": {
        "id": "Y6Q8AvdqGQv5",
        "colab_type": "code",
        "colab": {
          "base_uri": "https://localhost:8080/",
          "height": 282
        },
        "outputId": "47c64fa6-2d75-4ee5-f42d-e09393cac479"
      },
      "source": [
        "plt.plot(a.history['val_loss'], 'r-', lw=2, label='val_loss')\n",
        "plt.plot(a.history['loss'], 'b-', lw=1, label='loss')\n",
        "# plt.ylim(0.0, 1.0)\n",
        "plt.legend()"
      ],
      "execution_count": 9,
      "outputs": [
        {
          "output_type": "execute_result",
          "data": {
            "text/plain": [
              "<matplotlib.legend.Legend at 0x7fa1b28340f0>"
            ]
          },
          "metadata": {
            "tags": []
          },
          "execution_count": 9
        },
        {
          "output_type": "display_data",
          "data": {
            "image/png": "[encoded data removed]",
            "text/plain": [
              "<Figure size 432x288 with 1 Axes>"
            ]
          },
          "metadata": {
            "tags": [],
            "needs_background": "light"
          }
        }
      ]
    },
    {
      "cell_type": "code",
      "metadata": {
        "id": "n0xAqRreG5kQ",
        "colab_type": "code",
        "colab": {
          "base_uri": "https://localhost:8080/",
          "height": 282
        },
        "outputId": "cddfdc60-2870-421f-afd8-a1b25b08dbd9"
      },
      "source": [
        "plt.plot(a.history['val_accuracy'], 'g-', lw=2, label='val_accuracy')\n",
        "plt.plot(a.history['accuracy'], 'c-', lw=1, label='accuracy')\n",
        "plt.legend()"
      ],
      "execution_count": 10,
      "outputs": [
        {
          "output_type": "execute_result",
          "data": {
            "text/plain": [
              "<matplotlib.legend.Legend at 0x7fa1b27d58d0>"
            ]
          },
          "metadata": {
            "tags": []
          },
          "execution_count": 10
        },
        {
          "output_type": "display_data",
          "data": {
            "image/png": "[encoded data removed]",
            "text/plain": [
              "<Figure size 432x288 with 1 Axes>"
            ]
          },
          "metadata": {
            "tags": [],
            "needs_background": "light"
          }
        }
      ]
    },
    {
      "cell_type": "code",
      "metadata": {
        "id": "C-IJiI4wJ2P4",
        "colab_type": "code",
        "colab": {}
      },
      "source": [
        ""
      ],
      "execution_count": 10,
      "outputs": []
    }
  ]
}